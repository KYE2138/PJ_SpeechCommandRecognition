{
 "cells": [
  {
   "cell_type": "markdown",
   "metadata": {},
   "source": [
    "# 0. Environment"
   ]
  },
  {
   "cell_type": "markdown",
   "metadata": {},
   "source": [
    "## 0-1. check and install"
   ]
  },
  {
   "cell_type": "code",
   "execution_count": 1,
   "metadata": {},
   "outputs": [
    {
     "name": "stdout",
     "output_type": "stream",
     "text": [
      "Python 3.6.9\r\n"
     ]
    }
   ],
   "source": [
    "!python --version"
   ]
  },
  {
   "cell_type": "code",
   "execution_count": 2,
   "metadata": {},
   "outputs": [
    {
     "name": "stdout",
     "output_type": "stream",
     "text": [
      "tensorflow version: 2.4.3\n"
     ]
    }
   ],
   "source": [
    "import tensorflow as tf\n",
    "print('tensorflow version:', tf.__version__)"
   ]
  },
  {
   "cell_type": "code",
   "execution_count": 3,
   "metadata": {},
   "outputs": [],
   "source": [
    "import random"
   ]
  },
  {
   "cell_type": "code",
   "execution_count": 4,
   "metadata": {},
   "outputs": [],
   "source": [
    "#!apt update\n",
    "#!apt install wget\n",
    "#!apt install libsndfile1-dev -y"
   ]
  },
  {
   "cell_type": "code",
   "execution_count": 5,
   "metadata": {},
   "outputs": [],
   "source": [
    "#!python -m pip install --upgrade pip \n",
    "#!python -m pip install librosa\n",
    "#!python -m pip install python_speech_features"
   ]
  },
  {
   "cell_type": "markdown",
   "metadata": {},
   "source": [
    "## 0-2. set parameter"
   ]
  },
  {
   "cell_type": "code",
   "execution_count": 6,
   "metadata": {},
   "outputs": [],
   "source": [
    "dataset_path = './data_speech_commands_v002'"
   ]
  },
  {
   "cell_type": "code",
   "execution_count": 7,
   "metadata": {},
   "outputs": [],
   "source": [
    "import numpy as np\n",
    "commands = np.array(['yes','no','on','off'])"
   ]
  },
  {
   "cell_type": "markdown",
   "metadata": {},
   "source": [
    "# 1. Prepare dataset"
   ]
  },
  {
   "cell_type": "markdown",
   "metadata": {},
   "source": [
    "## 1-1. get dataset"
   ]
  },
  {
   "cell_type": "code",
   "execution_count": 8,
   "metadata": {},
   "outputs": [],
   "source": [
    "import os\n",
    "if not os.path.exists(dataset_path):\n",
    "    if not os.path.isfile('speech_commands_v0.02.tar.gz') :\n",
    "        !wget https://storage.googleapis.com/download.tensorflow.org/data/speech_commands_v0.02.tar.gz\n",
    "    !mkdir data_speech_commands_v002\n",
    "    !tar zxvf \"./speech_commands_v0.02.tar.gz\" --directory data_speech_commands_v002"
   ]
  },
  {
   "cell_type": "markdown",
   "metadata": {},
   "source": [
    "## 2-2. dataset details"
   ]
  },
  {
   "cell_type": "code",
   "execution_count": 9,
   "metadata": {},
   "outputs": [
    {
     "name": "stdout",
     "output_type": "stream",
     "text": [
      "dataset_dirslist: ['dog' 'backward' 'happy' 'forward' 'cat' 'testing_list.txt'\n",
      " '_background_noise_' 'up' 'LICENSE' 'README.md' 'off' 'follow' 'sheila'\n",
      " 'nine' 'marvin' 'bed' 'right' 'five' 'six' 'seven' 'yes' 'down' 'wow'\n",
      " 'four' '.DS_Store' 'on' 'eight' 'left' 'learn' 'two'\n",
      " 'validation_list.txt' 'tree' 'zero' 'house' 'visual' 'go' 'stop' 'no'\n",
      " 'three' 'bird' 'one'] , num:  41\n",
      "-\n",
      "dataset_commands_dirslist: ['dog' 'backward' 'happy' 'forward' 'cat' 'up' 'off' 'follow' 'sheila'\n",
      " 'nine' 'marvin' 'bed' 'right' 'five' 'six' 'seven' 'yes' 'down' 'wow'\n",
      " 'four' 'on' 'eight' 'left' 'learn' 'two' 'tree' 'zero' 'house' 'visual'\n",
      " 'go' 'stop' 'no' 'three' 'bird' 'one'] , num:  35\n"
     ]
    }
   ],
   "source": [
    "dataset_dirslist = np.array(tf.io.gfile.listdir(str(dataset_path)))\n",
    "print ('dataset_dirslist:', dataset_dirslist,', num: ' , len(dataset_dirslist))\n",
    "print('-')\n",
    "\n",
    "dataset_commands_dirslist = dataset_dirslist\n",
    "dataset_commands_dirslist = dataset_commands_dirslist[dataset_commands_dirslist != 'README.md']\n",
    "dataset_commands_dirslist = dataset_commands_dirslist[dataset_commands_dirslist != '.DS_Store']\n",
    "dataset_commands_dirslist = dataset_commands_dirslist[dataset_commands_dirslist != 'validation_list.txt']\n",
    "dataset_commands_dirslist = dataset_commands_dirslist[dataset_commands_dirslist != 'testing_list.txt']\n",
    "dataset_commands_dirslist = dataset_commands_dirslist[dataset_commands_dirslist != 'LICENSE']\n",
    "dataset_commands_dirslist = dataset_commands_dirslist[dataset_commands_dirslist != '_background_noise_']\n",
    "print ('dataset_commands_dirslist:', dataset_commands_dirslist,', num: ' , len(dataset_commands_dirslist))"
   ]
  },
  {
   "cell_type": "markdown",
   "metadata": {},
   "source": [
    "## 2-3. dataset commands filepaths"
   ]
  },
  {
   "cell_type": "code",
   "execution_count": 10,
   "metadata": {},
   "outputs": [
    {
     "name": "stdout",
     "output_type": "stream",
     "text": [
      "dataset_commands_dir: ./data_speech_commands_v002/dog/*\n",
      "file num of dog : 2128\n",
      "-\n",
      "dataset_commands_dir: ./data_speech_commands_v002/backward/*\n",
      "file num of backward : 1664\n",
      "-\n",
      "dataset_commands_dir: ./data_speech_commands_v002/happy/*\n",
      "file num of happy : 2054\n",
      "-\n",
      "dataset_commands_dir: ./data_speech_commands_v002/forward/*\n",
      "file num of forward : 1557\n",
      "-\n",
      "dataset_commands_dir: ./data_speech_commands_v002/cat/*\n",
      "file num of cat : 2031\n",
      "-\n",
      "dataset_commands_dir: ./data_speech_commands_v002/up/*\n",
      "file num of up : 3723\n",
      "-\n",
      "dataset_commands_dir: ./data_speech_commands_v002/off/*\n",
      "file num of off : 3745\n",
      "-\n",
      "dataset_commands_dir: ./data_speech_commands_v002/follow/*\n",
      "file num of follow : 1579\n",
      "-\n",
      "dataset_commands_dir: ./data_speech_commands_v002/sheila/*\n",
      "file num of sheila : 2022\n",
      "-\n",
      "dataset_commands_dir: ./data_speech_commands_v002/nine/*\n",
      "file num of nine : 3934\n",
      "-\n",
      "dataset_commands_dir: ./data_speech_commands_v002/marvin/*\n",
      "file num of marvin : 2100\n",
      "-\n",
      "dataset_commands_dir: ./data_speech_commands_v002/bed/*\n",
      "file num of bed : 2014\n",
      "-\n",
      "dataset_commands_dir: ./data_speech_commands_v002/right/*\n",
      "file num of right : 3778\n",
      "-\n",
      "dataset_commands_dir: ./data_speech_commands_v002/five/*\n",
      "file num of five : 4052\n",
      "-\n",
      "dataset_commands_dir: ./data_speech_commands_v002/six/*\n",
      "file num of six : 3860\n",
      "-\n",
      "dataset_commands_dir: ./data_speech_commands_v002/seven/*\n",
      "file num of seven : 3998\n",
      "-\n",
      "dataset_commands_dir: ./data_speech_commands_v002/yes/*\n",
      "file num of yes : 4044\n",
      "-\n",
      "dataset_commands_dir: ./data_speech_commands_v002/down/*\n",
      "file num of down : 3917\n",
      "-\n",
      "dataset_commands_dir: ./data_speech_commands_v002/wow/*\n",
      "file num of wow : 2123\n",
      "-\n",
      "dataset_commands_dir: ./data_speech_commands_v002/four/*\n",
      "file num of four : 3728\n",
      "-\n",
      "dataset_commands_dir: ./data_speech_commands_v002/on/*\n",
      "file num of on : 3845\n",
      "-\n",
      "dataset_commands_dir: ./data_speech_commands_v002/eight/*\n",
      "file num of eight : 3787\n",
      "-\n",
      "dataset_commands_dir: ./data_speech_commands_v002/left/*\n",
      "file num of left : 3801\n",
      "-\n",
      "dataset_commands_dir: ./data_speech_commands_v002/learn/*\n",
      "file num of learn : 1575\n",
      "-\n",
      "dataset_commands_dir: ./data_speech_commands_v002/two/*\n",
      "file num of two : 3880\n",
      "-\n",
      "dataset_commands_dir: ./data_speech_commands_v002/tree/*\n",
      "file num of tree : 1759\n",
      "-\n",
      "dataset_commands_dir: ./data_speech_commands_v002/zero/*\n",
      "file num of zero : 4052\n",
      "-\n",
      "dataset_commands_dir: ./data_speech_commands_v002/house/*\n",
      "file num of house : 2113\n",
      "-\n",
      "dataset_commands_dir: ./data_speech_commands_v002/visual/*\n",
      "file num of visual : 1592\n",
      "-\n",
      "dataset_commands_dir: ./data_speech_commands_v002/go/*\n",
      "file num of go : 3880\n",
      "-\n",
      "dataset_commands_dir: ./data_speech_commands_v002/stop/*\n",
      "file num of stop : 3872\n",
      "-\n",
      "dataset_commands_dir: ./data_speech_commands_v002/no/*\n",
      "file num of no : 3941\n",
      "-\n",
      "dataset_commands_dir: ./data_speech_commands_v002/three/*\n",
      "file num of three : 3727\n",
      "-\n",
      "dataset_commands_dir: ./data_speech_commands_v002/bird/*\n",
      "file num of bird : 2064\n",
      "-\n",
      "dataset_commands_dir: ./data_speech_commands_v002/one/*\n",
      "file num of one : 3890\n",
      "-\n",
      "num of dataset_commands_filepaths: 35\n",
      "num of dataset_commands_filepaths: 105829\n",
      "sample of dataset_commands_filepaths: ./data_speech_commands_v002/dog/6794a793_nohash_0.wav\n"
     ]
    }
   ],
   "source": [
    "dataset_commands_filepaths = []\n",
    "for item in dataset_commands_dirslist:\n",
    "    dataset_commands_dir = os.path.join(dataset_path, item,'*')\n",
    "    print('dataset_commands_dir:', dataset_commands_dir)\n",
    "    fileslist = tf.io.gfile.glob(dataset_commands_dir)\n",
    "    print('file num of',item,':', len(fileslist))\n",
    "    dataset_commands_filepaths.extend(fileslist)\n",
    "    print('-')\n",
    "print('num of dataset_commands_filepaths:', len(dataset_commands_dirslist))\n",
    "print('num of dataset_commands_filepaths:', len(dataset_commands_filepaths))\n",
    "print('sample of dataset_commands_filepaths:', dataset_commands_filepaths[0])"
   ]
  },
  {
   "cell_type": "markdown",
   "metadata": {},
   "source": [
    "# 2. Audio Preporcess"
   ]
  },
  {
   "cell_type": "markdown",
   "metadata": {},
   "source": [
    "## 2-1. function"
   ]
  },
  {
   "cell_type": "markdown",
   "metadata": {},
   "source": [
    "### 2-1-1. split num"
   ]
  },
  {
   "cell_type": "code",
   "execution_count": 11,
   "metadata": {},
   "outputs": [],
   "source": [
    "def get_split_num(train_ratio = 0.8, val_ratio = 0.1, test_ratio = 0.1, file_num = 0):\n",
    "    #get train , val, test num\n",
    "    train_num = int( file_num * train_ratio )\n",
    "    val_num = int( file_num * val_ratio )\n",
    "    test_num = file_num - train_num - val_num \n",
    "\n",
    "    #get train , val, test first_num\n",
    "    train_first_num = 0\n",
    "    val_first_num = train_num\n",
    "    test_first_num = train_num + val_num\n",
    "    \n",
    "    return train_first_num, val_first_num, test_first_num"
   ]
  },
  {
   "cell_type": "markdown",
   "metadata": {},
   "source": [
    "### 2-1-2. label"
   ]
  },
  {
   "cell_type": "code",
   "execution_count": 12,
   "metadata": {},
   "outputs": [
    {
     "name": "stdout",
     "output_type": "stream",
     "text": [
      "get_label(dataset_commands_filepaths[0]):\n",
      "<class 'str'>\n",
      "dog\n"
     ]
    }
   ],
   "source": [
    "def get_label(filepath):\n",
    "    split_1=os.path.split(filepath)\n",
    "    split_2=os.path.split(split_1[0])\n",
    "    return split_2[1]\n",
    "tmp = get_label(dataset_commands_filepaths[0])\n",
    "print ('get_label(dataset_commands_filepaths[0]):')\n",
    "print (type(tmp))\n",
    "print (tmp)"
   ]
  },
  {
   "cell_type": "markdown",
   "metadata": {},
   "source": [
    "### 2-1-3. waveform"
   ]
  },
  {
   "cell_type": "code",
   "execution_count": 13,
   "metadata": {},
   "outputs": [
    {
     "name": "stdout",
     "output_type": "stream",
     "text": [
      "get_waveform(dataset_commands_filepaths[0]):\n",
      "<class 'numpy.ndarray'>\n",
      "(16000,)\n",
      "[-0.00012207  0.00390625  0.00363159 ...  0.0005188   0.00531006\n",
      "  0.00247192]\n"
     ]
    }
   ],
   "source": [
    "import librosa\n",
    "def get_waveform(filepath):\n",
    "    sample_rate = 16000\n",
    "    waveform, fs = librosa.load(filepath, sr=sample_rate)\n",
    "    return waveform\n",
    "tmp = get_waveform(dataset_commands_filepaths[0])\n",
    "print ('get_waveform(dataset_commands_filepaths[0]):')\n",
    "print (type(tmp))\n",
    "print (tmp.shape)\n",
    "print (tmp)"
   ]
  },
  {
   "cell_type": "markdown",
   "metadata": {},
   "source": [
    "### 2-1-4. label id"
   ]
  },
  {
   "cell_type": "code",
   "execution_count": 14,
   "metadata": {},
   "outputs": [
    {
     "name": "stdout",
     "output_type": "stream",
     "text": [
      "get_label_id(get_label(dataset_commands_filepaths[0]):\n",
      "<class 'numpy.int64'>\n",
      "0\n"
     ]
    }
   ],
   "source": [
    "def get_label_id(label,command_list):\n",
    "    label_id = np.argmax(label==command_list)\n",
    "    return label_id\n",
    "tmp = get_label_id(get_label(dataset_commands_filepaths[0]),dataset_commands_dirslist)\n",
    "print ('get_label_id(get_label(dataset_commands_filepaths[0]):')\n",
    "print (type(tmp))\n",
    "print (tmp)"
   ]
  },
  {
   "cell_type": "markdown",
   "metadata": {},
   "source": [
    "### 2-1-5-1. MFCC-python_speech_features"
   ]
  },
  {
   "cell_type": "code",
   "execution_count": 15,
   "metadata": {},
   "outputs": [
    {
     "name": "stderr",
     "output_type": "stream",
     "text": [
      "WARNING:root:frame length (4096) is greater than FFT size (2048), frame will be truncated. Increase NFFT to avoid.\n"
     ]
    },
    {
     "name": "stdout",
     "output_type": "stream",
     "text": [
      "get_features_m(get_waveform(dataset_commands_files[0])):\n",
      "<class 'numpy.ndarray'>\n",
      "(16, 16)\n"
     ]
    },
    {
     "data": {
      "text/plain": [
       "<matplotlib.image.AxesImage at 0x7f12d4c3b2e8>"
      ]
     },
     "execution_count": 15,
     "metadata": {},
     "output_type": "execute_result"
    },
    {
     "data": {
      "image/png": "[encoded data removed]",
      "text/plain": [
       "<Figure size 432x288 with 1 Axes>"
      ]
     },
     "metadata": {
      "needs_background": "light"
     },
     "output_type": "display_data"
    }
   ],
   "source": [
    "import python_speech_features\n",
    "import matplotlib.pyplot as plt\n",
    "def get_features_m(waveform):\n",
    "    # Zero-padding for an audio waveform with less than 16,000 samples.\n",
    "    #input_len = 16000\n",
    "    #waveform = waveform[:input_len]\n",
    "    # np.shape(waveform) =  (16000,)\n",
    "    zero_padding = np.zeros( (16000-np.shape(waveform)[0],), dtype=np.float32)\n",
    "    # Cast the waveform tensors with np.float32\n",
    "    waveform = np.cast['float32'](waveform)\n",
    "    # Concatenate the waveform with `zero_padding`, which ensures all audio clips are of the same length.\n",
    "    equal_length = np.concatenate([waveform, zero_padding], 0)\n",
    "    \n",
    "    sample_rate = 16000\n",
    "    num_mfcc = 16\n",
    "    len_mfcc = 40\n",
    "    mfccs = python_speech_features.base.mfcc(equal_length, \n",
    "                                            samplerate=sample_rate,\n",
    "                                            winlen=0.256,\n",
    "                                            winstep=0.050,\n",
    "                                            numcep=num_mfcc,\n",
    "                                            nfilt=26,\n",
    "                                            nfft=2048,\n",
    "                                            preemph=0.0,\n",
    "                                            ceplifter=0,\n",
    "                                            appendEnergy=False,\n",
    "                                            winfunc=np.hanning)\n",
    "    return mfccs.transpose()\n",
    "tmp = get_features_m(get_waveform(dataset_commands_filepaths[0]))\n",
    "print ('get_features_m(get_waveform(dataset_commands_files[0])):')\n",
    "print (type(tmp))\n",
    "print (tmp.shape)\n",
    "#print (tmp)\n",
    "fig = plt.figure()\n",
    "plt.imshow(tmp, cmap='inferno', origin='lower')"
   ]
  },
  {
   "cell_type": "markdown",
   "metadata": {},
   "source": [
    "### 2-1-5-1. MFCC-librosa"
   ]
  },
  {
   "cell_type": "code",
   "execution_count": 16,
   "metadata": {},
   "outputs": [
    {
     "name": "stdout",
     "output_type": "stream",
     "text": [
      "get_features_m(get_waveform(dataset_commands_files[0])):\n",
      "<class 'numpy.ndarray'>\n",
      "(16, 32)\n"
     ]
    },
    {
     "data": {
      "text/plain": [
       "<matplotlib.image.AxesImage at 0x7f12d4b35be0>"
      ]
     },
     "execution_count": 16,
     "metadata": {},
     "output_type": "execute_result"
    },
    {
     "data": {
      "image/png": "[encoded data removed]",
      "text/plain": [
       "<Figure size 432x288 with 1 Axes>"
      ]
     },
     "metadata": {
      "needs_background": "light"
     },
     "output_type": "display_data"
    }
   ],
   "source": [
    "import python_speech_features\n",
    "import matplotlib.pyplot as plt\n",
    "def get_features(waveform):\n",
    "    # Zero-padding for an audio waveform with less than 16,000 samples.\n",
    "    #input_len = 16000\n",
    "    #waveform = waveform[:input_len]\n",
    "    # np.shape(waveform) =  (16000,)\n",
    "    zero_padding = np.zeros( (16000-np.shape(waveform)[0],), dtype=np.float32)\n",
    "    # Cast the waveform tensors with np.float32\n",
    "    waveform = np.cast['float32'](waveform)\n",
    "    # Concatenate the waveform with `zero_padding`, which ensures all audio clips are of the same length.\n",
    "    equal_length = np.concatenate([waveform, zero_padding], 0)\n",
    "    \n",
    "    sample_rate = 16000\n",
    "    num_mfcc = 16\n",
    "    len_mfcc = 40\n",
    "    mfccs = librosa.feature.mfcc(y=equal_length, sr=sample_rate, n_mfcc=num_mfcc)\n",
    "    return mfccs\n",
    "tmp = get_features(get_waveform(dataset_commands_filepaths[0]))\n",
    "print ('get_features_m(get_waveform(dataset_commands_files[0])):')\n",
    "print (type(tmp))\n",
    "print (tmp.shape)\n",
    "#print (tmp)\n",
    "fig = plt.figure()\n",
    "plt.imshow(tmp, cmap='inferno', origin='lower')"
   ]
  },
  {
   "cell_type": "markdown",
   "metadata": {},
   "source": [
    "### 2-1-6. Spectrum(optional)"
   ]
  },
  {
   "cell_type": "code",
   "execution_count": 17,
   "metadata": {},
   "outputs": [
    {
     "name": "stdout",
     "output_type": "stream",
     "text": [
      "get_features(get_waveform(dataset_commands_files[0])):\n",
      "<class 'numpy.ndarray'>\n",
      "16\n",
      "(16, 32)\n",
      "[[-3.91458740e+02 -3.76576874e+02 -3.78552734e+02 -3.79463501e+02\n",
      "  -3.78944244e+02 -3.78807343e+02 -3.80264191e+02 -3.78174713e+02\n",
      "  -3.76509399e+02 -3.75415100e+02 -3.75086060e+02 -3.75339203e+02\n",
      "  -3.82617645e+02 -3.86921509e+02 -3.77693726e+02 -3.74921539e+02\n",
      "  -3.77292480e+02 -3.71453766e+02 -3.60809509e+02 -3.48729218e+02\n",
      "  -3.22807892e+02 -2.81701477e+02 -1.82798447e+02 -9.10629044e+01\n",
      "  -1.18407043e+02 -3.12057037e+02 -6.98773682e+02 -6.98773682e+02\n",
      "  -6.98773682e+02 -6.98773682e+02 -6.98773682e+02 -6.98773682e+02]\n",
      " [ 1.06693192e+02  1.10174393e+02  1.07066551e+02  1.05052567e+02\n",
      "   1.03247559e+02  1.02217216e+02  1.05683609e+02  1.10246521e+02\n",
      "   1.09678963e+02  1.06813164e+02  1.02934738e+02  1.05858757e+02\n",
      "   1.03071510e+02  1.02274033e+02  1.08146324e+02  1.10282982e+02\n",
      "   1.12189117e+02  1.19153610e+02  1.22209457e+02  1.12225311e+02\n",
      "   1.10557083e+02  1.46357788e+02  1.95780121e+02  1.64607574e+02\n",
      "   1.44947937e+02  1.28990082e+02  0.00000000e+00  0.00000000e+00\n",
      "   0.00000000e+00  0.00000000e+00  0.00000000e+00  0.00000000e+00]\n",
      " [-1.63310528e+01 -2.14831429e+01 -2.43852768e+01 -2.18035355e+01\n",
      "  -2.82670517e+01 -3.20819969e+01 -2.91519012e+01 -2.54890289e+01\n",
      "  -2.83755665e+01 -3.27486916e+01 -3.27074509e+01 -2.79362411e+01\n",
      "  -2.64658928e+01 -2.15910721e+01 -2.23150291e+01 -3.02448807e+01\n",
      "  -2.98268242e+01 -2.64682560e+01 -3.40287170e+01 -4.46635857e+01\n",
      "  -6.18060379e+01 -5.25738754e+01 -6.86024780e+01 -5.68932037e+01\n",
      "  -5.18653259e+01 -3.74254341e+01  0.00000000e+00  0.00000000e+00\n",
      "   0.00000000e+00  0.00000000e+00  0.00000000e+00  0.00000000e+00]\n",
      " [-9.77669716e+00 -1.69720459e+01 -1.85605774e+01 -1.79237614e+01\n",
      "  -2.04734764e+01 -1.92800312e+01 -1.78642921e+01 -1.41180449e+01\n",
      "  -1.63943806e+01 -2.44121590e+01 -2.49111671e+01 -1.87638283e+01\n",
      "  -1.63414841e+01 -8.82377434e+00 -1.20991859e+01 -1.57947140e+01\n",
      "  -1.88926010e+01 -2.06384277e+01 -2.08983727e+01 -1.30061321e+01\n",
      "  -5.30738783e+00  6.96071720e+00 -1.68134918e+01 -3.36307487e+01\n",
      "  -4.04945068e+01 -4.24442215e+01  0.00000000e+00  0.00000000e+00\n",
      "   0.00000000e+00  0.00000000e+00  0.00000000e+00  0.00000000e+00]\n",
      " [ 1.20988235e+01  1.00339155e+01  8.89910126e+00  5.86188841e+00\n",
      "   7.59086561e+00  1.18843794e+01  5.63194942e+00  5.75872421e+00\n",
      "   9.66348457e+00  7.59632540e+00  9.77680492e+00  9.47515488e+00\n",
      "   1.02581539e+01  1.30843029e+01  8.78899193e+00  1.13471241e+01\n",
      "   1.13825979e+01  1.20619926e+01  2.25709190e+01  2.43561649e+01\n",
      "   2.66875114e+01  3.85858383e+01  4.12711411e+01  2.64787540e+01\n",
      "   1.61980247e+01  1.17353213e+00  0.00000000e+00  0.00000000e+00\n",
      "   0.00000000e+00  0.00000000e+00  0.00000000e+00  0.00000000e+00]\n",
      " [ 1.34650211e+01  1.59583178e+01  1.75784454e+01  1.97290878e+01\n",
      "   1.95861073e+01  1.97811241e+01  2.06817818e+01  1.92753754e+01\n",
      "   1.59469337e+01  1.60050049e+01  1.72999649e+01  1.85621433e+01\n",
      "   1.79578133e+01  1.59939661e+01  1.45094995e+01  1.85308914e+01\n",
      "   1.93621311e+01  1.67534065e+01  2.11510353e+01  1.62336006e+01\n",
      "   6.70462906e-01  9.31145787e-01 -8.19456482e+00 -3.47683549e-01\n",
      "   6.04279327e+00  9.61476135e+00  0.00000000e+00  0.00000000e+00\n",
      "   0.00000000e+00  0.00000000e+00  0.00000000e+00  0.00000000e+00]\n",
      " [-1.30350518e+00 -1.47385454e+00 -1.62569225e+00 -2.97667980e-02\n",
      "   4.84185636e-01  1.20724833e+00  1.42141581e+00  2.20136523e+00\n",
      "   3.07847929e+00 -9.41578209e-01 -3.16912055e+00  7.35871971e-01\n",
      "   1.17495954e-01 -3.76780152e+00 -3.73958898e+00 -2.83309317e+00\n",
      "  -4.95946109e-01 -1.86906433e+00 -6.76335239e+00 -1.25486317e+01\n",
      "  -2.07166595e+01 -2.86541176e+01 -3.68420677e+01 -3.14065285e+01\n",
      "  -2.26869717e+01 -1.01382008e+01  0.00000000e+00  0.00000000e+00\n",
      "   0.00000000e+00  0.00000000e+00  0.00000000e+00  0.00000000e+00]\n",
      " [-3.70445037e+00 -6.05193138e+00 -7.22384596e+00 -4.99672461e+00\n",
      "  -7.01182270e+00 -8.70288658e+00 -2.49563646e+00 -4.09282875e+00\n",
      "  -2.60074854e+00 -7.29053164e+00 -7.05023289e+00 -5.98159027e+00\n",
      "  -1.02443419e+01 -1.41075754e+01 -1.20874710e+01 -1.17011738e+01\n",
      "  -1.26553755e+01 -1.14857273e+01 -1.87678471e+01 -2.18417740e+01\n",
      "  -1.47589970e+01 -1.44862251e+01 -7.01853991e+00 -6.45808887e+00\n",
      "  -4.75736427e+00 -1.75192094e+00  0.00000000e+00  0.00000000e+00\n",
      "   0.00000000e+00  0.00000000e+00  0.00000000e+00  0.00000000e+00]\n",
      " [-6.24846363e+00 -9.01745987e+00 -1.03829346e+01 -1.03668060e+01\n",
      "  -1.15347204e+01 -1.29234219e+01 -1.10304928e+01 -8.96389771e+00\n",
      "  -5.97062635e+00 -6.81536484e+00 -1.10791473e+01 -1.08573380e+01\n",
      "  -1.19964638e+01 -1.29746857e+01 -1.08425694e+01 -1.16237602e+01\n",
      "  -1.17306252e+01 -1.18148088e+01 -1.05367813e+01 -4.38372803e+00\n",
      "   7.54767299e-01 -3.54529381e+00 -3.16745430e-01  9.63532257e+00\n",
      "   1.33203697e+01  1.66223660e+01  0.00000000e+00  0.00000000e+00\n",
      "   0.00000000e+00  0.00000000e+00  0.00000000e+00  0.00000000e+00]\n",
      " [ 2.13532581e+01  1.08756952e+01  2.25556707e+00 -2.38635159e+00\n",
      "  -4.33184147e-01  2.45868683e+00 -1.67309523e+00 -7.17833042e+00\n",
      "  -3.50902152e+00  4.28995800e+00  5.66665459e+00  6.69337225e+00\n",
      "   2.93599892e+00  2.36871099e+00  6.50801277e+00  8.31716919e+00\n",
      "   1.06980057e+01  5.84864044e+00  6.95407295e+00  1.18823490e+01\n",
      "   1.36372890e+01  8.57755089e+00  1.47399056e+00  1.60214186e+00\n",
      "   4.33010674e+00  1.13788891e+01  0.00000000e+00  0.00000000e+00\n",
      "   0.00000000e+00  0.00000000e+00  0.00000000e+00  0.00000000e+00]\n",
      " [ 1.51389017e+01  6.77957821e+00 -3.10097456e-01 -2.78461242e+00\n",
      "  -2.34384823e+00 -3.67333472e-01 -4.84011471e-01  1.48243678e+00\n",
      "   3.41426778e+00  3.14880013e-01  1.69707596e+00  3.54173350e+00\n",
      "   3.18485308e+00  2.72831082e+00  4.32919788e+00  2.14048219e+00\n",
      "   3.39157176e+00  2.66730714e+00 -2.20672464e+00 -1.13196001e+01\n",
      "  -8.35940266e+00 -2.52294970e+00 -1.38835323e+00 -4.03230619e+00\n",
      "  -6.76229954e+00 -7.46842718e+00  0.00000000e+00  0.00000000e+00\n",
      "   0.00000000e+00  0.00000000e+00  0.00000000e+00  0.00000000e+00]\n",
      " [-5.78117752e+00 -7.05890083e+00 -7.01205349e+00 -7.10503006e+00\n",
      "  -3.46840262e+00 -2.60576105e+00 -3.04066968e+00 -1.82394314e+00\n",
      "  -2.00839663e+00 -3.26114893e-01 -7.68437445e-01 -1.75696182e+00\n",
      "  -1.17188323e+00 -1.33514845e+00  2.12217331e-01 -2.75147152e+00\n",
      "  -1.88899291e+00 -1.37381232e+00 -1.67954445e+00  2.73795784e-01\n",
      "  -1.37054563e+00 -6.85463810e+00 -6.74111509e+00 -5.52548409e+00\n",
      "  -6.87027502e+00 -1.11071892e+01  0.00000000e+00  0.00000000e+00\n",
      "   0.00000000e+00  0.00000000e+00  0.00000000e+00  0.00000000e+00]\n",
      " [-1.87239189e+01 -1.30586586e+01 -1.22614765e+01 -1.98683720e+01\n",
      "  -1.70405464e+01 -1.10832214e+01 -8.86666870e+00 -9.84899139e+00\n",
      "  -1.31667414e+01 -1.40960655e+01 -1.31651659e+01 -1.16676941e+01\n",
      "  -1.04965849e+01 -5.75165510e+00 -6.59328032e+00 -8.25127506e+00\n",
      "  -3.87254047e+00 -5.66539240e+00 -2.18370247e+00  6.41358376e-01\n",
      "  -8.40734768e+00 -1.42973061e+01 -1.00131683e+01 -7.43783045e+00\n",
      "  -3.92702174e+00  4.34259057e-01  0.00000000e+00  0.00000000e+00\n",
      "   0.00000000e+00  0.00000000e+00  0.00000000e+00  0.00000000e+00]\n",
      " [-6.08103895e+00  6.64187551e-01  6.24799538e+00  2.15796089e+00\n",
      "  -1.34297216e+00 -3.04483557e+00 -1.54339814e+00  2.16033697e-01\n",
      "  -2.12650728e+00 -2.14655304e+00 -5.64024067e+00 -4.79058552e+00\n",
      "  -2.12569046e+00  8.33988190e-01  6.33544326e-01 -1.51421726e+00\n",
      "   3.20556343e-01 -7.77082622e-01  3.78241348e+00  2.43906713e+00\n",
      "  -6.21626854e+00 -6.22536039e+00 -8.00826454e+00 -2.95172358e+00\n",
      "   2.86525774e+00  1.08473873e+01  0.00000000e+00  0.00000000e+00\n",
      "   0.00000000e+00  0.00000000e+00  0.00000000e+00  0.00000000e+00]\n",
      " [ 3.36295986e+00  2.00741625e+00  2.11797643e+00  8.39435959e+00\n",
      "   7.84233761e+00 -2.51476645e-01 -3.39030528e+00 -2.95531297e+00\n",
      "   3.84392309e+00  7.41986334e-02 -3.82006955e+00  4.40275073e-01\n",
      "   6.76382637e+00  7.08985806e+00  3.67916083e+00 -1.78434873e+00\n",
      "   2.71433473e-01  4.05817604e+00 -4.05802345e+00 -5.91306305e+00\n",
      "  -5.30272961e+00 -9.46104622e+00 -8.26451302e+00 -2.38184482e-01\n",
      "   6.85708332e+00  8.36227703e+00  0.00000000e+00  0.00000000e+00\n",
      "   0.00000000e+00  0.00000000e+00  0.00000000e+00  0.00000000e+00]\n",
      " [ 9.79375553e+00  5.27993536e+00  5.96202660e+00  8.05925560e+00\n",
      "   9.80138969e+00  9.89257431e+00  8.41164207e+00  7.43881989e+00\n",
      "   5.83962727e+00  1.48039019e+00  3.21223497e+00  3.87727261e+00\n",
      "   2.00164056e+00  1.90102577e+00  4.70639229e+00  5.25235271e+00\n",
      "   5.40130711e+00  5.05788231e+00  1.28310609e+00  3.02499247e+00\n",
      "   9.15251637e+00  1.42257833e+00 -7.41112518e+00 -2.14819264e+00\n",
      "   4.36704922e+00  1.30129158e+00  0.00000000e+00  0.00000000e+00\n",
      "   0.00000000e+00  0.00000000e+00  0.00000000e+00  0.00000000e+00]]\n"
     ]
    },
    {
     "data": {
      "text/plain": [
       "<matplotlib.image.AxesImage at 0x7f12d4aa3f60>"
      ]
     },
     "execution_count": 17,
     "metadata": {},
     "output_type": "execute_result"
    },
    {
     "data": {
      "image/png": "[encoded data removed]",
      "text/plain": [
       "<Figure size 432x288 with 1 Axes>"
      ]
     },
     "metadata": {
      "needs_background": "light"
     },
     "output_type": "display_data"
    }
   ],
   "source": [
    "import python_speech_features\n",
    "import matplotlib.pyplot as plt\n",
    "def get_features_s(waveform):\n",
    "    # Zero-padding for an audio waveform with less than 16,000 samples.\n",
    "    #input_len = 16000\n",
    "    #waveform = waveform[:input_len]\n",
    "    # np.shape(waveform) =  (16000,)\n",
    "    zero_padding = np.zeros( (16000-np.shape(waveform)[0],), dtype=np.float32)\n",
    "    # Cast the waveform tensors with np.float32\n",
    "    waveform = np.cast['float32'](waveform)\n",
    "    # Concatenate the waveform with `zero_padding`, which ensures all audio clips are of the same length.\n",
    "    equal_length = np.concatenate([waveform, zero_padding], 0)\n",
    "    \n",
    "    sample_rate = 16000\n",
    "    num_mfcc = 16\n",
    "    len_mfcc = 40\n",
    "    spectrum = np.abs(librosa.stft(equal_length,512))\n",
    "    return spectrum.transpose()\n",
    "tmp = get_features(get_waveform(dataset_commands_filepaths[5000]))\n",
    "print ('get_features(get_waveform(dataset_commands_files[0])):')\n",
    "print (type(tmp))\n",
    "print (len(tmp))\n",
    "print (tmp.shape)\n",
    "print (tmp)\n",
    "fig = plt.figure()\n",
    "plt.imshow(tmp, cmap='inferno', origin='lower')"
   ]
  },
  {
   "cell_type": "markdown",
   "metadata": {},
   "source": [
    "## 2-2. Preporcess set commands"
   ]
  },
  {
   "cell_type": "code",
   "execution_count": 18,
   "metadata": {},
   "outputs": [],
   "source": [
    "x_train = []\n",
    "y_train = []\n",
    "x_val = []\n",
    "y_val = []\n",
    "x_test = []\n",
    "y_test = []"
   ]
  },
  {
   "cell_type": "markdown",
   "metadata": {},
   "source": [
    "### 2-2-1. get set command filepaths"
   ]
  },
  {
   "cell_type": "code",
   "execution_count": 19,
   "metadata": {},
   "outputs": [
    {
     "name": "stdout",
     "output_type": "stream",
     "text": [
      "set_commands_dir: ./data_speech_commands_v002/yes/*\n",
      "file num : 4044\n",
      "-\n",
      "set_commands_dir: ./data_speech_commands_v002/no/*\n",
      "file num : 3941\n",
      "-\n",
      "set_commands_dir: ./data_speech_commands_v002/on/*\n",
      "file num : 3845\n",
      "-\n",
      "set_commands_dir: ./data_speech_commands_v002/off/*\n",
      "file num : 3745\n",
      "-\n",
      "num of train_set_commands_filepaths: 12459\n",
      "num of val_set_commands_filepaths: 1556\n",
      "num of test_set_commands_filepaths: 1560\n",
      "total of set_commands_filepaths: 15575\n",
      "sample of train_set_commands_filepaths: ./data_speech_commands_v002/yes/cd671b5f_nohash_0.wav\n"
     ]
    }
   ],
   "source": [
    "train_set_commands_filepaths = []\n",
    "val_set_commands_filepaths = []\n",
    "test_set_commands_filepaths = []\n",
    "set_commands_dirslist = commands\n",
    "for item in set_commands_dirslist:\n",
    "    set_commands_dir = os.path.join(dataset_path, item,'*')\n",
    "    print('set_commands_dir:', set_commands_dir)\n",
    "    \n",
    "    fileslist = tf.io.gfile.glob(set_commands_dir)\n",
    "    random.shuffle(fileslist)\n",
    "    print('file num :', len(fileslist))\n",
    "    \n",
    "    train, val, test = get_split_num(0.8, 0.1, 0.1, len(fileslist))\n",
    "    train_set_commands_filepaths.extend(fileslist[:val])\n",
    "    val_set_commands_filepaths.extend(fileslist[val:test])\n",
    "    test_set_commands_filepaths.extend(fileslist[test:])\n",
    "    \n",
    "    print('-')\n",
    "print('num of train_set_commands_filepaths:', len(train_set_commands_filepaths))\n",
    "print('num of val_set_commands_filepaths:', len(val_set_commands_filepaths))\n",
    "print('num of test_set_commands_filepaths:', len(test_set_commands_filepaths))\n",
    "total_set_commands_num = len(train_set_commands_filepaths)+len(val_set_commands_filepaths)+len(test_set_commands_filepaths)\n",
    "print('total of set_commands_filepaths:',total_set_commands_num)\n",
    "print('sample of train_set_commands_filepaths:', train_set_commands_filepaths[0])\n"
   ]
  },
  {
   "cell_type": "markdown",
   "metadata": {},
   "source": [
    "### 2-2-2. get MFCCs and label id"
   ]
  },
  {
   "cell_type": "code",
   "execution_count": 20,
   "metadata": {},
   "outputs": [
    {
     "name": "stdout",
     "output_type": "stream",
     "text": [
      "num of train_set_commands_features: 12459\n",
      "num of train_set_commands_label_id: 12459\n",
      "-\n",
      "num of val_set_commands_features: 1556\n",
      "num of val_set_commands_label_id: 1556\n",
      "-\n",
      "num of test_set_commands_features: 1560\n",
      "num of test_set_commands_label_id: 1560\n"
     ]
    }
   ],
   "source": [
    "train_set_commands_features = []\n",
    "val_set_commands_features = []\n",
    "test_set_commands_features = []\n",
    "\n",
    "train_set_commands_label_id = []\n",
    "val_set_commands_label_id = []\n",
    "test_set_commands_label_id = []\n",
    "\n",
    "convert_num = 1000000\n",
    "\n",
    "for i, item in enumerate(train_set_commands_filepaths):\n",
    "    if i<convert_num:\n",
    "        waveform = get_waveform(item)\n",
    "        features = get_features(waveform)\n",
    "        train_set_commands_features.append(features)\n",
    "        \n",
    "        label = get_label(item)\n",
    "        label_id = get_label_id(label,commands)\n",
    "        train_set_commands_label_id.append(label_id)\n",
    "\n",
    "for i, item in enumerate(val_set_commands_filepaths):\n",
    "    if i<convert_num:\n",
    "        waveform = get_waveform(item)\n",
    "        features = get_features(waveform)\n",
    "        val_set_commands_features.append(features)\n",
    "        \n",
    "        label = get_label(item)\n",
    "        label_id = get_label_id(label,commands)\n",
    "        val_set_commands_label_id.append(label_id)\n",
    "        \n",
    "for i, item in enumerate(test_set_commands_filepaths):\n",
    "    if i<convert_num:\n",
    "        waveform = get_waveform(item)\n",
    "        features = get_features(waveform)\n",
    "        test_set_commands_features.append(features)\n",
    "        \n",
    "        label = get_label(item)\n",
    "        label_id = get_label_id(label,commands)\n",
    "        test_set_commands_label_id.append(label_id)        \n",
    "        \n",
    "\n",
    "print ('num of train_set_commands_features:', len(train_set_commands_features))\n",
    "print ('num of train_set_commands_label_id:', len(train_set_commands_label_id))\n",
    "print('-')\n",
    "print ('num of val_set_commands_features:', len(val_set_commands_features))\n",
    "print ('num of val_set_commands_label_id:', len(val_set_commands_label_id))\n",
    "print('-')\n",
    "print ('num of test_set_commands_features:', len(test_set_commands_features))\n",
    "print ('num of test_set_commands_label_id:', len(test_set_commands_label_id)) "
   ]
  },
  {
   "cell_type": "markdown",
   "metadata": {},
   "source": [
    "### 2-2-3. add features and label id to dataset"
   ]
  },
  {
   "cell_type": "code",
   "execution_count": 21,
   "metadata": {},
   "outputs": [
    {
     "name": "stdout",
     "output_type": "stream",
     "text": [
      "num of x_train: 12459\n",
      "num of y_train: 12459\n",
      "-\n",
      "num of x_val: 1556\n",
      "num of y_val: 1556\n",
      "-\n",
      "num of x_test: 1560\n",
      "num of y_test: 1560\n"
     ]
    }
   ],
   "source": [
    "x_train.extend(train_set_commands_features)\n",
    "y_train.extend(train_set_commands_label_id)\n",
    "x_val.extend(val_set_commands_features)\n",
    "y_val.extend(val_set_commands_label_id)\n",
    "x_test.extend(test_set_commands_features)\n",
    "y_test.extend(test_set_commands_label_id)\n",
    "\n",
    "print('num of x_train:',len(y_train))\n",
    "print('num of y_train:',len(y_train))\n",
    "print('-')\n",
    "print('num of x_val:',len(x_val))\n",
    "print('num of y_val:',len(y_val))\n",
    "print('-')\n",
    "print('num of x_test:',len(x_test))\n",
    "print('num of y_test:',len(y_test))"
   ]
  },
  {
   "cell_type": "markdown",
   "metadata": {},
   "source": [
    "## 2-3. Preporcess unknown commands"
   ]
  },
  {
   "cell_type": "markdown",
   "metadata": {},
   "source": [
    "### 2-3-1. get unknown command filepaths"
   ]
  },
  {
   "cell_type": "code",
   "execution_count": 22,
   "metadata": {},
   "outputs": [
    {
     "name": "stdout",
     "output_type": "stream",
     "text": [
      "commands: ['yes' 'no' 'on' 'off' 'unknown']\n",
      "-\n",
      "unknown_commands_dirslist: ['backward' 'bed' 'bird' 'cat' 'dog' 'down' 'eight' 'five' 'follow'\n",
      " 'forward' 'four' 'go' 'happy' 'house' 'learn' 'left' 'marvin' 'nine'\n",
      " 'one' 'right' 'seven' 'sheila' 'six' 'stop' 'three' 'tree' 'two' 'up'\n",
      " 'visual' 'wow' 'zero']\n",
      "-\n",
      "each_command: 3893\n",
      "each_unknown_command: 100\n",
      "-\n",
      "unknown_commands_dir: ./data_speech_commands_v002/backward/*\n",
      "file num : 1664\n",
      "-\n",
      "unknown_commands_dir: ./data_speech_commands_v002/bed/*\n",
      "file num : 2014\n",
      "-\n",
      "unknown_commands_dir: ./data_speech_commands_v002/bird/*\n",
      "file num : 2064\n",
      "-\n",
      "unknown_commands_dir: ./data_speech_commands_v002/cat/*\n",
      "file num : 2031\n",
      "-\n",
      "unknown_commands_dir: ./data_speech_commands_v002/dog/*\n",
      "file num : 2128\n",
      "-\n",
      "unknown_commands_dir: ./data_speech_commands_v002/down/*\n",
      "file num : 3917\n",
      "-\n",
      "unknown_commands_dir: ./data_speech_commands_v002/eight/*\n",
      "file num : 3787\n",
      "-\n",
      "unknown_commands_dir: ./data_speech_commands_v002/five/*\n",
      "file num : 4052\n",
      "-\n",
      "unknown_commands_dir: ./data_speech_commands_v002/follow/*\n",
      "file num : 1579\n",
      "-\n",
      "unknown_commands_dir: ./data_speech_commands_v002/forward/*\n",
      "file num : 1557\n",
      "-\n",
      "unknown_commands_dir: ./data_speech_commands_v002/four/*\n",
      "file num : 3728\n",
      "-\n",
      "unknown_commands_dir: ./data_speech_commands_v002/go/*\n",
      "file num : 3880\n",
      "-\n",
      "unknown_commands_dir: ./data_speech_commands_v002/happy/*\n",
      "file num : 2054\n",
      "-\n",
      "unknown_commands_dir: ./data_speech_commands_v002/house/*\n",
      "file num : 2113\n",
      "-\n",
      "unknown_commands_dir: ./data_speech_commands_v002/learn/*\n",
      "file num : 1575\n",
      "-\n",
      "unknown_commands_dir: ./data_speech_commands_v002/left/*\n",
      "file num : 3801\n",
      "-\n",
      "unknown_commands_dir: ./data_speech_commands_v002/marvin/*\n",
      "file num : 2100\n",
      "-\n",
      "unknown_commands_dir: ./data_speech_commands_v002/nine/*\n",
      "file num : 3934\n",
      "-\n",
      "unknown_commands_dir: ./data_speech_commands_v002/one/*\n",
      "file num : 3890\n",
      "-\n",
      "unknown_commands_dir: ./data_speech_commands_v002/right/*\n",
      "file num : 3778\n",
      "-\n",
      "unknown_commands_dir: ./data_speech_commands_v002/seven/*\n",
      "file num : 3998\n",
      "-\n",
      "unknown_commands_dir: ./data_speech_commands_v002/sheila/*\n",
      "file num : 2022\n",
      "-\n",
      "unknown_commands_dir: ./data_speech_commands_v002/six/*\n",
      "file num : 3860\n",
      "-\n",
      "unknown_commands_dir: ./data_speech_commands_v002/stop/*\n",
      "file num : 3872\n",
      "-\n",
      "unknown_commands_dir: ./data_speech_commands_v002/three/*\n",
      "file num : 3727\n",
      "-\n",
      "unknown_commands_dir: ./data_speech_commands_v002/tree/*\n",
      "file num : 1759\n",
      "-\n",
      "unknown_commands_dir: ./data_speech_commands_v002/two/*\n",
      "file num : 3880\n",
      "-\n",
      "unknown_commands_dir: ./data_speech_commands_v002/up/*\n",
      "file num : 3723\n",
      "-\n",
      "unknown_commands_dir: ./data_speech_commands_v002/visual/*\n",
      "file num : 1592\n",
      "-\n",
      "unknown_commands_dir: ./data_speech_commands_v002/wow/*\n",
      "file num : 2123\n",
      "-\n",
      "unknown_commands_dir: ./data_speech_commands_v002/zero/*\n",
      "file num : 4052\n",
      "-\n",
      "num of train_unknown_commands_filepaths: 2480\n",
      "num of val_unknown_commands_filepaths: 310\n",
      "num of test_unknown_commands_filepaths: 310\n",
      "sample of train_unknown_commands_filepaths: ./data_speech_commands_v002/backward/8dc18a75_nohash_3.wav\n"
     ]
    }
   ],
   "source": [
    "train_unknown_commands_filepaths = []\n",
    "val_unknown_commands_filepaths = []\n",
    "test_unknown_commands_filepaths = []\n",
    "\n",
    "if not np.any(commands=='unknown'):\n",
    "    commands = np.append(commands,'unknown')\n",
    "print ('commands:',commands)\n",
    "print('-')\n",
    "\n",
    "unknown_commands_dirslist = np.setdiff1d( dataset_commands_dirslist , commands)\n",
    "print ('unknown_commands_dirslist:',unknown_commands_dirslist)\n",
    "print('-')\n",
    "\n",
    "each_command = total_set_commands_num//len(set_commands_dirslist)\n",
    "print ('each_command:', each_command)\n",
    "each_unknown_command = each_command//len(unknown_commands_dirslist)\n",
    "each_unknown_command = 100\n",
    "print ('each_unknown_command:', each_unknown_command)\n",
    "print('-')\n",
    "\n",
    "for item in unknown_commands_dirslist:\n",
    "    unknown_commands_dir = os.path.join(dataset_path, item,'*')\n",
    "    print('unknown_commands_dir:', unknown_commands_dir)\n",
    "    \n",
    "    fileslist = tf.io.gfile.glob(unknown_commands_dir)\n",
    "    random.shuffle(fileslist)\n",
    "    print('file num :', len(fileslist))\n",
    "    \n",
    "    train, val, test = get_split_num(0.8, 0.1, 0.1, each_unknown_command)\n",
    "    train_unknown_commands_filepaths.extend(fileslist[:val])\n",
    "    val_unknown_commands_filepaths.extend(fileslist[val:test])\n",
    "    test_unknown_commands_filepaths.extend(fileslist[test:each_unknown_command])\n",
    "    print('-')\n",
    "    \n",
    "print('num of train_unknown_commands_filepaths:', len(train_unknown_commands_filepaths))\n",
    "print('num of val_unknown_commands_filepaths:', len(val_unknown_commands_filepaths))\n",
    "print('num of test_unknown_commands_filepaths:', len(test_unknown_commands_filepaths))\n",
    "print('sample of train_unknown_commands_filepaths:', train_unknown_commands_filepaths[0])"
   ]
  },
  {
   "cell_type": "markdown",
   "metadata": {},
   "source": [
    "### 2-3-2. get MFCC and label id"
   ]
  },
  {
   "cell_type": "code",
   "execution_count": 23,
   "metadata": {},
   "outputs": [
    {
     "name": "stdout",
     "output_type": "stream",
     "text": [
      "num of train_unknown_commands_features: 2480\n",
      "num of train_unknown_commands_label_id: 2480\n",
      "-\n",
      "num of val_unknown_commands_features: 310\n",
      "num of val_unknown_commands_label_id: 310\n",
      "-\n",
      "num of test_unknown_commands_features: 310\n",
      "num of test_unknown_commands_label_id: 310\n"
     ]
    }
   ],
   "source": [
    "train_unknown_commands_features = []\n",
    "val_unknown_commands_features = []\n",
    "test_unknown_commands_features = []\n",
    "\n",
    "train_unknown_commands_label_id = []\n",
    "val_unknown_commands_label_id = []\n",
    "test_unknown_commands_label_id = []\n",
    "\n",
    "convert_num = 100000\n",
    "\n",
    "label = 'unknown'\n",
    "\n",
    "for i, item in enumerate(train_unknown_commands_filepaths):\n",
    "    if i<convert_num:\n",
    "        waveform = get_waveform(item)\n",
    "        features = get_features(waveform)\n",
    "        train_unknown_commands_features.append(features)\n",
    "       \n",
    "        label_id = get_label_id(label,commands)\n",
    "        train_unknown_commands_label_id.append(label_id)\n",
    "\n",
    "for i, item in enumerate(val_unknown_commands_filepaths):\n",
    "    if i<convert_num:\n",
    "        waveform = get_waveform(item)\n",
    "        features = get_features(waveform)\n",
    "        val_unknown_commands_features.append(features)\n",
    "\n",
    "        label_id = get_label_id(label,commands)\n",
    "        val_unknown_commands_label_id.append(label_id)\n",
    "        \n",
    "for i, item in enumerate(test_unknown_commands_filepaths):\n",
    "    if i<convert_num:\n",
    "        waveform = get_waveform(item)\n",
    "        features = get_features(waveform)\n",
    "        test_unknown_commands_features.append(features)\n",
    "\n",
    "        label_id = get_label_id(label,commands)\n",
    "        test_unknown_commands_label_id.append(label_id)        \n",
    "        \n",
    "\n",
    "print ('num of train_unknown_commands_features:', len(train_unknown_commands_features))\n",
    "print ('num of train_unknown_commands_label_id:', len(train_unknown_commands_label_id))\n",
    "print('-')\n",
    "print ('num of val_unknown_commands_features:', len(val_unknown_commands_features))\n",
    "print ('num of val_unknown_commands_label_id:', len(val_unknown_commands_label_id))\n",
    "print('-')\n",
    "print ('num of test_unknown_commands_features:', len(test_unknown_commands_features))\n",
    "print ('num of test_unknown_commands_label_id:', len(test_unknown_commands_label_id)) "
   ]
  },
  {
   "cell_type": "markdown",
   "metadata": {},
   "source": [
    "### 2-3-3. add features and label id to dataset"
   ]
  },
  {
   "cell_type": "code",
   "execution_count": 24,
   "metadata": {},
   "outputs": [
    {
     "name": "stdout",
     "output_type": "stream",
     "text": [
      "num of x_train: 14939\n",
      "num of y_train: 14939\n",
      "-\n",
      "num of x_val: 1866\n",
      "num of y_val: 1866\n",
      "-\n",
      "num of x_test: 1870\n",
      "num of y_test: 1870\n"
     ]
    }
   ],
   "source": [
    "x_train.extend(train_unknown_commands_features)\n",
    "y_train.extend(train_unknown_commands_label_id)\n",
    "x_val.extend(val_unknown_commands_features)\n",
    "y_val.extend(val_unknown_commands_label_id)\n",
    "x_test.extend(test_unknown_commands_features)\n",
    "y_test.extend(test_unknown_commands_label_id)\n",
    "\n",
    "print('num of x_train:',len(x_train))\n",
    "print('num of y_train:',len(y_train))\n",
    "print('-')\n",
    "print('num of x_val:',len(x_val))\n",
    "print('num of y_val:',len(y_val))\n",
    "print('-')\n",
    "print('num of x_test:',len(x_test))\n",
    "print('num of y_test:',len(y_test))"
   ]
  },
  {
   "cell_type": "markdown",
   "metadata": {},
   "source": [
    "## 2-4. Preporcess slience command"
   ]
  },
  {
   "cell_type": "markdown",
   "metadata": {},
   "source": [
    "### 2-4-1. get background command filepaths"
   ]
  },
  {
   "cell_type": "code",
   "execution_count": 25,
   "metadata": {},
   "outputs": [
    {
     "name": "stdout",
     "output_type": "stream",
     "text": [
      "commands: ['yes' 'no' 'on' 'off' 'unknown' 'slience']\n",
      "-\n",
      "slience_commands_dirslist: ['_background_noise_']\n",
      "-\n",
      "total_set_commands_num: 15575\n",
      "slience_command_num: 3115\n",
      "-\n",
      "slience_commands_dir: ./data_speech_commands_v002/_background_noise_/*.wav\n",
      "file num : 6\n",
      "each_slience_files: 519\n",
      "-\n",
      "num of train_slience_commands_filepaths: 2490\n",
      "num of val_slience_commands_filepaths: 306\n",
      "num of test_slience_commands_filepaths: 306\n",
      "sample of train_slience_commands_filepaths: ./data_speech_commands_v002/_background_noise_/dude_miaowing.wav\n"
     ]
    }
   ],
   "source": [
    "train_slience_commands_filepaths = []\n",
    "val_slience_commands_filepaths = []\n",
    "test_slience_commands_filepaths = []\n",
    "\n",
    "if not np.any(commands=='slience'):\n",
    "    commands = np.append(commands,'slience')\n",
    "print ('commands:',commands)\n",
    "print('-')\n",
    "\n",
    "slience_commands_dirslist = ['_background_noise_']\n",
    "print ('slience_commands_dirslist:',slience_commands_dirslist)\n",
    "print('-')\n",
    "\n",
    "print ('total_set_commands_num:', total_set_commands_num)\n",
    "slience_ratio = 0.2\n",
    "slience_command_num = int(total_set_commands_num * slience_ratio)\n",
    "print ('slience_command_num:', slience_command_num)\n",
    "print('-')\n",
    "\n",
    "for item in slience_commands_dirslist:\n",
    "    slience_commands_dir = os.path.join(dataset_path, item,'*.wav')\n",
    "    print('slience_commands_dir:', slience_commands_dir)\n",
    "    \n",
    "    fileslist = tf.io.gfile.glob(slience_commands_dir)\n",
    "    print('file num :', len(fileslist))\n",
    "    \n",
    "    each_slience_files = slience_command_num//len(fileslist)\n",
    "    print ('each_slience_files:', each_slience_files)\n",
    "  \n",
    "    train_num = int(each_slience_files*0.8)\n",
    "    val_num = int(each_slience_files*0.1)\n",
    "    test_num = int(each_slience_files*0.1)\n",
    "    print('-')\n",
    "    \n",
    "    for itme in fileslist:\n",
    "        for i in range(train_num):\n",
    "            train_slience_commands_filepaths.append(itme)\n",
    "        for i in range(val_num):\n",
    "            val_slience_commands_filepaths.append(itme)\n",
    "        for i in range(test_num):\n",
    "            test_slience_commands_filepaths.append(itme)\n",
    "\n",
    "print('num of train_slience_commands_filepaths:', len(train_slience_commands_filepaths))\n",
    "print('num of val_slience_commands_filepaths:', len(val_slience_commands_filepaths))\n",
    "print('num of test_slience_commands_filepaths:', len(test_slience_commands_filepaths))\n",
    "print('sample of train_slience_commands_filepaths:', train_slience_commands_filepaths[0])\n",
    "\n",
    "\n",
    "\n"
   ]
  },
  {
   "cell_type": "markdown",
   "metadata": {},
   "source": [
    "### 2-4-2. contruct slience features and label id"
   ]
  },
  {
   "cell_type": "code",
   "execution_count": 26,
   "metadata": {},
   "outputs": [
    {
     "name": "stdout",
     "output_type": "stream",
     "text": [
      "num of train_slience_commands_features: 2490\n",
      "num of train_slience_commands_label_id: 2490\n",
      "-\n",
      "num of val_slience_commands_features: 306\n",
      "num of val_slience_commands_label_id: 306\n",
      "-\n",
      "num of test_slience_commands_features: 306\n",
      "num of test_slience_commands_label_id: 306\n"
     ]
    }
   ],
   "source": [
    "import random\n",
    "random.seed(66)\n",
    "\n",
    "train_slience_commands_features = []\n",
    "val_slience_commands_features = []\n",
    "test_slience_commands_features = []\n",
    "\n",
    "train_slience_commands_label_id = []\n",
    "val_slience_commands_label_id = []\n",
    "test_slience_commands_label_id = []\n",
    "\n",
    "label = 'slience'\n",
    "\n",
    "for i, item in enumerate(train_slience_commands_filepaths):\n",
    "    #print('slience_commands_filepath:',item)\n",
    "    waveform = get_waveform(item)\n",
    "    waveform_len = waveform.shape[0]\n",
    "    waveform_s = waveform_len/16000\n",
    "\n",
    "    split_start_time = random.randrange(0, waveform_len)\n",
    "    waveform_split = waveform[split_start_time:split_start_time+16000]\n",
    "    waveform_split_len = waveform_split.shape[0]\n",
    "    waveform_split_s = waveform_split_len/16000\n",
    "  \n",
    "    features = get_features(waveform_split)\n",
    "    train_slience_commands_features.append(features)\n",
    "\n",
    "    label_id = get_label_id(label,commands)\n",
    "    train_slience_commands_label_id.append(label_id)\n",
    "\n",
    "for i, item in enumerate(val_slience_commands_filepaths):\n",
    "\n",
    "    waveform = get_waveform(item)\n",
    "    waveform_len = waveform.shape[0]\n",
    "    waveform_s = waveform_len/16000\n",
    "\n",
    "    split_start_time = random.randrange(0, waveform_len)\n",
    "    waveform_split = waveform[split_start_time:split_start_time+16000]\n",
    "    waveform_split_len = waveform_split.shape[0]\n",
    "    waveform_split_s = waveform_split_len/16000\n",
    "  \n",
    "    features = get_features(waveform_split)\n",
    "    val_slience_commands_features.append(features)\n",
    "\n",
    "    label_id = get_label_id(label,commands)\n",
    "    val_slience_commands_label_id.append(label_id)    \n",
    "\n",
    "for i, item in enumerate(test_slience_commands_filepaths):\n",
    "\n",
    "    waveform = get_waveform(item)\n",
    "    waveform_len = waveform.shape[0]\n",
    "    waveform_s = waveform_len/16000\n",
    "\n",
    "    split_start_time = random.randrange(0, waveform_len)\n",
    "    waveform_split = waveform[split_start_time:split_start_time+16000]\n",
    "    waveform_split_len = waveform_split.shape[0]\n",
    "    waveform_split_s = waveform_split_len/16000\n",
    "  \n",
    "    features = get_features(waveform_split)\n",
    "    test_slience_commands_features.append(features)\n",
    "\n",
    "    label_id = get_label_id(label,commands)\n",
    "    test_slience_commands_label_id.append(label_id)    \n",
    "    \n",
    "print ('num of train_slience_commands_features:', len(train_slience_commands_features))\n",
    "print ('num of train_slience_commands_label_id:', len(train_slience_commands_label_id))\n",
    "print('-')\n",
    "print ('num of val_slience_commands_features:', len(val_slience_commands_features))\n",
    "print ('num of val_slience_commands_label_id:', len(val_slience_commands_label_id))\n",
    "print('-')\n",
    "print ('num of test_slience_commands_features:', len(test_slience_commands_features))\n",
    "print ('num of test_slience_commands_label_id:', len(test_slience_commands_label_id)) \n",
    "\n",
    "\n"
   ]
  },
  {
   "cell_type": "markdown",
   "metadata": {},
   "source": [
    "### 2-4-3. add features and label id to dataset"
   ]
  },
  {
   "cell_type": "code",
   "execution_count": 27,
   "metadata": {},
   "outputs": [
    {
     "name": "stdout",
     "output_type": "stream",
     "text": [
      "num of x_train: 17429\n",
      "num of y_train: 17429\n",
      "-\n",
      "num of x_val: 2172\n",
      "num of y_val: 2172\n",
      "-\n",
      "num of x_test: 2176\n",
      "num of y_test: 2176\n"
     ]
    }
   ],
   "source": [
    "x_train.extend(train_slience_commands_features)\n",
    "y_train.extend(train_slience_commands_label_id)\n",
    "x_val.extend(val_slience_commands_features)\n",
    "y_val.extend(val_slience_commands_label_id)\n",
    "x_test.extend(test_slience_commands_features)\n",
    "y_test.extend(test_slience_commands_label_id)\n",
    "\n",
    "print('num of x_train:',len(x_train))\n",
    "print('num of y_train:',len(y_train))\n",
    "print('-')\n",
    "print('num of x_val:',len(x_val))\n",
    "print('num of y_val:',len(y_val))\n",
    "print('-')\n",
    "print('num of x_test:',len(x_test))\n",
    "print('num of y_test:',len(y_test))"
   ]
  },
  {
   "cell_type": "markdown",
   "metadata": {},
   "source": [
    "# 3. Train"
   ]
  },
  {
   "cell_type": "code",
   "execution_count": 28,
   "metadata": {},
   "outputs": [
    {
     "data": {
      "text/plain": [
       "''"
      ]
     },
     "execution_count": 28,
     "metadata": {},
     "output_type": "execute_result"
    }
   ],
   "source": [
    "''''''\n",
    "feature_sets_file = 'all_targets_mfcc_sets.npz'\n",
    "# Save features and truth vector (y) sets to disk\n",
    "np.savez(feature_sets_file, \n",
    "         x_train=x_train, \n",
    "         y_train=y_train, \n",
    "         x_val=x_val, \n",
    "         y_val=y_val, \n",
    "         x_test=x_test, \n",
    "         y_test=y_test)\n",
    "''''''"
   ]
  },
  {
   "cell_type": "code",
   "execution_count": 29,
   "metadata": {},
   "outputs": [
    {
     "data": {
      "text/plain": [
       "\"\\nfeature_sets_path = './'\\nfeature_sets_filename = 'all_targets_mfcc_sets.npz'\\n# Load feature sets\\nfeature_sets = np.load(os.path.join(feature_sets_path, feature_sets_filename))\\nprint(feature_sets.files)\\n# Assign feature sets\\nx_train = feature_sets['x_train']\\ny_train = feature_sets['y_train']\\nx_val = feature_sets['x_val']\\ny_val = feature_sets['y_val']\\nx_test = feature_sets['x_test']\\ny_test = feature_sets['y_test']\\n\""
      ]
     },
     "execution_count": 29,
     "metadata": {},
     "output_type": "execute_result"
    }
   ],
   "source": [
    "'''\n",
    "feature_sets_path = './'\n",
    "feature_sets_filename = 'all_targets_mfcc_sets.npz'\n",
    "# Load feature sets\n",
    "feature_sets = np.load(os.path.join(feature_sets_path, feature_sets_filename))\n",
    "print(feature_sets.files)\n",
    "# Assign feature sets\n",
    "x_train = feature_sets['x_train']\n",
    "y_train = feature_sets['y_train']\n",
    "x_val = feature_sets['x_val']\n",
    "y_val = feature_sets['y_val']\n",
    "x_test = feature_sets['x_test']\n",
    "y_test = feature_sets['y_test']\n",
    "'''"
   ]
  },
  {
   "cell_type": "markdown",
   "metadata": {},
   "source": [
    "## 1. set parameter"
   ]
  },
  {
   "cell_type": "code",
   "execution_count": 30,
   "metadata": {},
   "outputs": [
    {
     "name": "stdout",
     "output_type": "stream",
     "text": [
      "(17429, 16, 32, 1)\n",
      "(17429,)\n",
      "(2172, 16, 32, 1)\n",
      "(2172,)\n",
      "(2176, 16, 32, 1)\n",
      "(2176,)\n"
     ]
    }
   ],
   "source": [
    "train_list = list(zip(x_train, y_train))\n",
    "random.shuffle(train_list)\n",
    "x_train, y_train = zip(*train_list)\n",
    "\n",
    "val_list = list(zip(x_val, y_val))\n",
    "random.shuffle(val_list)\n",
    "x_val, y_val = zip(*val_list)\n",
    "\n",
    "test_list = list(zip(x_test, y_test))\n",
    "random.shuffle(test_list)\n",
    "x_test, y_test = zip(*test_list)\n",
    "\n",
    "x_tn = np.array(x_train)\n",
    "y_tn = np.array(y_train)\n",
    "x_v = np.array(x_val)\n",
    "y_v = np.array(y_val)\n",
    "x_ts = np.array(x_test)\n",
    "y_ts = np.array(y_test)\n",
    "\n",
    "x_tn = np.expand_dims(x_tn, axis=-1)\n",
    "x_v = np.expand_dims(x_v, axis=-1)\n",
    "x_ts = np.expand_dims(x_ts, axis=-1)\n",
    "\n",
    "print (x_tn.shape)\n",
    "print (y_tn.shape)\n",
    "print (x_v.shape)\n",
    "print (y_v.shape)\n",
    "print (x_ts.shape)\n",
    "print (y_ts.shape)\n",
    "\n"
   ]
  },
  {
   "cell_type": "markdown",
   "metadata": {},
   "source": [
    "## 2. build model"
   ]
  },
  {
   "cell_type": "code",
   "execution_count": 31,
   "metadata": {},
   "outputs": [
    {
     "name": "stdout",
     "output_type": "stream",
     "text": [
      "Input shape: (16, 32, 1)\n",
      "Model: \"sequential\"\n",
      "_________________________________________________________________\n",
      "Layer (type)                 Output Shape              Param #   \n",
      "=================================================================\n",
      "conv2d (Conv2D)              (None, 14, 30, 32)        320       \n",
      "_________________________________________________________________\n",
      "conv2d_1 (Conv2D)            (None, 12, 28, 32)        9248      \n",
      "_________________________________________________________________\n",
      "conv2d_2 (Conv2D)            (None, 10, 26, 64)        18496     \n",
      "_________________________________________________________________\n",
      "max_pooling2d (MaxPooling2D) (None, 5, 13, 64)         0         \n",
      "_________________________________________________________________\n",
      "dropout (Dropout)            (None, 5, 13, 64)         0         \n",
      "_________________________________________________________________\n",
      "flatten (Flatten)            (None, 4160)              0         \n",
      "_________________________________________________________________\n",
      "dense (Dense)                (None, 128)               532608    \n",
      "_________________________________________________________________\n",
      "dropout_1 (Dropout)          (None, 128)               0         \n",
      "_________________________________________________________________\n",
      "dense_1 (Dense)              (None, 6)                 774       \n",
      "=================================================================\n",
      "Total params: 561,446\n",
      "Trainable params: 561,446\n",
      "Non-trainable params: 0\n",
      "_________________________________________________________________\n"
     ]
    }
   ],
   "source": [
    "import tensorflow.keras\n",
    "from tensorflow.keras import layers\n",
    "from tensorflow.keras import models\n",
    "\n",
    "tmp = get_features(get_waveform(dataset_commands_filepaths[0]))\n",
    "tmp = np.expand_dims(tmp, axis=-1)\n",
    "input_shape = tmp.shape\n",
    "print('Input shape:', input_shape)\n",
    "num_labels = len(commands)\n",
    "\n",
    "model = models.Sequential([\n",
    "    layers.Input(shape=input_shape),\n",
    "    layers.Conv2D(32, 3, activation='relu'),\n",
    "    layers.Conv2D(32, 3, activation='relu'),\n",
    "    layers.Conv2D(64, 3, activation='relu'),\n",
    "    layers.MaxPooling2D(),\n",
    "    layers.Dropout(0.1),\n",
    "    layers.Flatten(),\n",
    "    layers.Dense(128, activation='relu'),\n",
    "    layers.Dropout(0.1),\n",
    "    layers.Dense(num_labels),\n",
    "])\n",
    "\n",
    "model.summary()"
   ]
  },
  {
   "cell_type": "code",
   "execution_count": 32,
   "metadata": {},
   "outputs": [],
   "source": [
    "model.compile(\n",
    "    optimizer=tf.keras.optimizers.Adam(),\n",
    "    loss=tf.keras.losses.SparseCategoricalCrossentropy(from_logits=True),\n",
    "    metrics=['accuracy'],\n",
    ")"
   ]
  },
  {
   "cell_type": "markdown",
   "metadata": {},
   "source": [
    "## 3. train"
   ]
  },
  {
   "cell_type": "code",
   "execution_count": 33,
   "metadata": {},
   "outputs": [
    {
     "name": "stdout",
     "output_type": "stream",
     "text": [
      "Epoch 1/500\n",
      "3486/3486 [==============================] - 16s 3ms/step - loss: 0.8927 - accuracy: 0.6895 - val_loss: 0.3141 - val_accuracy: 0.8789\n",
      "Epoch 2/500\n",
      "3486/3486 [==============================] - 9s 3ms/step - loss: 0.3220 - accuracy: 0.8838 - val_loss: 0.2883 - val_accuracy: 0.8936\n",
      "Epoch 3/500\n",
      "3486/3486 [==============================] - 9s 2ms/step - loss: 0.2527 - accuracy: 0.9108 - val_loss: 0.4315 - val_accuracy: 0.8642\n",
      "Epoch 4/500\n",
      "3486/3486 [==============================] - 9s 2ms/step - loss: 0.2399 - accuracy: 0.9169 - val_loss: 0.2796 - val_accuracy: 0.9010\n",
      "Epoch 5/500\n",
      "3486/3486 [==============================] - 9s 2ms/step - loss: 0.1944 - accuracy: 0.9332 - val_loss: 0.3093 - val_accuracy: 0.9111\n",
      "Epoch 6/500\n",
      "3486/3486 [==============================] - 9s 2ms/step - loss: 0.1727 - accuracy: 0.9427 - val_loss: 0.3184 - val_accuracy: 0.9098\n",
      "Epoch 7/500\n",
      "3486/3486 [==============================] - 9s 2ms/step - loss: 0.1555 - accuracy: 0.9472 - val_loss: 0.2985 - val_accuracy: 0.9015\n",
      "Epoch 00007: early stopping\n"
     ]
    }
   ],
   "source": [
    "EPOCHS = 500\n",
    "history = model.fit(\n",
    "    x_tn,y_tn,\n",
    "    validation_data=(x_v,y_v),\n",
    "    epochs=EPOCHS,\n",
    "    batch_size=5,\n",
    "    callbacks=tf.keras.callbacks.EarlyStopping(verbose=1, patience=10),\n",
    ")"
   ]
  },
  {
   "cell_type": "markdown",
   "metadata": {},
   "source": [
    "## 4. result"
   ]
  },
  {
   "cell_type": "code",
   "execution_count": null,
   "metadata": {},
   "outputs": [],
   "source": []
  },
  {
   "cell_type": "markdown",
   "metadata": {},
   "source": [
    "## 5. save"
   ]
  },
  {
   "cell_type": "code",
   "execution_count": 34,
   "metadata": {},
   "outputs": [],
   "source": [
    "model_filename = 'SpeechCommandRecognition_model.h5'\n",
    "# Save the model as a file\n",
    "models.save_model(model, model_filename)"
   ]
  },
  {
   "cell_type": "markdown",
   "metadata": {},
   "source": [
    "## 6. inference on test set"
   ]
  },
  {
   "cell_type": "code",
   "execution_count": null,
   "metadata": {},
   "outputs": [],
   "source": []
  },
  {
   "cell_type": "code",
   "execution_count": 35,
   "metadata": {},
   "outputs": [],
   "source": [
    "from tensorflow import lite\n",
    "from tensorflow.keras import models\n",
    "# Parameters\n",
    "keras_model_filename = 'SpeechCommandRecognition_model.h5'\n",
    "tflite_filename = 'SpeechCommandRecognition_model.tflite'"
   ]
  },
  {
   "cell_type": "code",
   "execution_count": 36,
   "metadata": {},
   "outputs": [
    {
     "name": "stdout",
     "output_type": "stream",
     "text": [
      "INFO:tensorflow:Assets written to: /tmp/tmp22msj7qx/assets\n"
     ]
    },
    {
     "name": "stderr",
     "output_type": "stream",
     "text": [
      "INFO:tensorflow:Assets written to: /tmp/tmp22msj7qx/assets\n"
     ]
    },
    {
     "data": {
      "text/plain": [
       "2248980"
      ]
     },
     "execution_count": 36,
     "metadata": {},
     "output_type": "execute_result"
    }
   ],
   "source": [
    "# Convert model to TF Lite model\n",
    "model = models.load_model(keras_model_filename)\n",
    "converter = lite.TFLiteConverter.from_keras_model(model)\n",
    "tflite_model = converter.convert()\n",
    "open(tflite_filename, 'wb').write(tflite_model)"
   ]
  },
  {
   "cell_type": "markdown",
   "metadata": {},
   "source": [
    "# dev"
   ]
  },
  {
   "cell_type": "code",
   "execution_count": 37,
   "metadata": {},
   "outputs": [
    {
     "name": "stdout",
     "output_type": "stream",
     "text": [
      "num of train_unknown_commands_features: 2480\n",
      "num of train_unknown_commands_label_id: 2480\n",
      "-\n",
      "num of val_unknown_commands_features: 310\n",
      "num of val_unknown_commands_label_id: 310\n",
      "-\n",
      "num of test_unknown_commands_features: 310\n",
      "num of test_unknown_commands_label_id: 310\n",
      "947\n",
      "4\n"
     ]
    }
   ],
   "source": [
    "print ('num of train_unknown_commands_features:', len(train_unknown_commands_features))\n",
    "print ('num of train_unknown_commands_label_id:', len(train_unknown_commands_label_id))\n",
    "print('-')\n",
    "print ('num of val_unknown_commands_features:', len(val_unknown_commands_features))\n",
    "print ('num of val_unknown_commands_label_id:', len(val_unknown_commands_label_id))\n",
    "print('-')\n",
    "print ('num of test_unknown_commands_features:', len(test_unknown_commands_features))\n",
    "print ('num of test_unknown_commands_label_id:', len(test_unknown_commands_label_id)) \n",
    "i=random.randrange(0, len(train_unknown_commands_features))\n",
    "print (i)\n",
    "print (train_unknown_commands_label_id[i])"
   ]
  },
  {
   "cell_type": "code",
   "execution_count": 38,
   "metadata": {},
   "outputs": [
    {
     "name": "stdout",
     "output_type": "stream",
     "text": [
      "num of train_slience_commands_features: 2490\n",
      "num of train_slience_commands_label_id: 2490\n",
      "-\n",
      "num of val_slience_commands_features: 306\n",
      "num of val_slience_commands_label_id: 306\n",
      "-\n",
      "num of test_slience_commands_features: 306\n",
      "num of test_slience_commands_label_id: 306\n",
      "160\n",
      "5\n"
     ]
    }
   ],
   "source": [
    "print ('num of train_slience_commands_features:', len(train_slience_commands_features))\n",
    "print ('num of train_slience_commands_label_id:', len(train_slience_commands_label_id))\n",
    "print('-')\n",
    "print ('num of val_slience_commands_features:', len(val_slience_commands_features))\n",
    "print ('num of val_slience_commands_label_id:', len(val_slience_commands_label_id))\n",
    "print('-')\n",
    "print ('num of test_slience_commands_features:', len(test_slience_commands_features))\n",
    "print ('num of test_slience_commands_label_id:', len(test_slience_commands_label_id)) \n",
    "\n",
    "i=random.randrange(0, len(train_slience_commands_features))\n",
    "print (i)\n",
    "print (train_slience_commands_label_id[i])"
   ]
  },
  {
   "cell_type": "code",
   "execution_count": null,
   "metadata": {},
   "outputs": [],
   "source": []
  }
 ],
 "metadata": {
  "kernelspec": {
   "display_name": "Python 3",
   "language": "python",
   "name": "python3"
  },
  "language_info": {
   "codemirror_mode": {
    "name": "ipython",
    "version": 3
   },
   "file_extension": ".py",
   "mimetype": "text/x-python",
   "name": "python",
   "nbconvert_exporter": "python",
   "pygments_lexer": "ipython3",
   "version": "3.6.9"
  }
 },
 "nbformat": 4,
 "nbformat_minor": 2
}
