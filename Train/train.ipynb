{
 "cells": [
  {
   "cell_type": "markdown",
   "metadata": {},
   "source": [
    "# 0. Environment"
   ]
  },
  {
   "cell_type": "markdown",
   "metadata": {},
   "source": [
    "## 0-1. check and install"
   ]
  },
  {
   "cell_type": "code",
   "execution_count": 1,
   "metadata": {},
   "outputs": [
    {
     "name": "stdout",
     "output_type": "stream",
     "text": [
      "Python 3.6.9\r\n"
     ]
    }
   ],
   "source": [
    "!python --version"
   ]
  },
  {
   "cell_type": "code",
   "execution_count": 2,
   "metadata": {},
   "outputs": [
    {
     "name": "stdout",
     "output_type": "stream",
     "text": [
      "tensorflow version: 2.4.3\n"
     ]
    }
   ],
   "source": [
    "import tensorflow as tf\n",
    "print('tensorflow version:', tf.__version__)"
   ]
  },
  {
   "cell_type": "code",
   "execution_count": 3,
   "metadata": {},
   "outputs": [],
   "source": [
    "import random"
   ]
  },
  {
   "cell_type": "code",
   "execution_count": 4,
   "metadata": {},
   "outputs": [
    {
     "data": {
      "text/plain": [
       "'!apt update\\n!apt install wget\\n!apt install libsndfile1-dev -y'"
      ]
     },
     "execution_count": 4,
     "metadata": {},
     "output_type": "execute_result"
    }
   ],
   "source": [
    "\n",
    "'''!apt update\n",
    "!apt install wget\n",
    "!apt install libsndfile1-dev -y'''"
   ]
  },
  {
   "cell_type": "code",
   "execution_count": 5,
   "metadata": {},
   "outputs": [
    {
     "data": {
      "text/plain": [
       "'!python -m pip install --upgrade pip \\n!python -m pip install install librosa\\n!python -m pip install python_speech_features'"
      ]
     },
     "execution_count": 5,
     "metadata": {},
     "output_type": "execute_result"
    }
   ],
   "source": [
    "'''!python -m pip install --upgrade pip \n",
    "!python -m pip install librosa\n",
    "!python -m pip install python_speech_features'''"
   ]
  },
  {
   "cell_type": "markdown",
   "metadata": {},
   "source": [
    "## 0-2. set parameter"
   ]
  },
  {
   "cell_type": "code",
   "execution_count": 6,
   "metadata": {},
   "outputs": [],
   "source": [
    "dataset_path = './data_speech_commands_v002'"
   ]
  },
  {
   "cell_type": "code",
   "execution_count": 7,
   "metadata": {},
   "outputs": [],
   "source": [
    "import numpy as np\n",
    "commands = np.array(['yes','no','on','off'])"
   ]
  },
  {
   "cell_type": "markdown",
   "metadata": {},
   "source": [
    "# 1. Prepare dataset"
   ]
  },
  {
   "cell_type": "markdown",
   "metadata": {},
   "source": [
    "## 1-1. get dataset"
   ]
  },
  {
   "cell_type": "code",
   "execution_count": 8,
   "metadata": {},
   "outputs": [],
   "source": [
    "import os\n",
    "if not os.path.exists(dataset_path):\n",
    "    if not os.path.isfile('speech_commands_v0.02.tar.gz') :\n",
    "        !wget https://storage.googleapis.com/download.tensorflow.org/data/speech_commands_v0.02.tar.gz\n",
    "    !mkdir data_speech_commands_v002\n",
    "    !tar zxvf \"./speech_commands_v0.02.tar.gz\" --directory data_speech_commands_v002"
   ]
  },
  {
   "cell_type": "markdown",
   "metadata": {},
   "source": [
    "## 2-2. dataset details"
   ]
  },
  {
   "cell_type": "code",
   "execution_count": 9,
   "metadata": {},
   "outputs": [
    {
     "name": "stdout",
     "output_type": "stream",
     "text": [
      "dataset_dirslist: ['bird' 'wow' 'tree' 'on' 'nine' 'five' 'sheila' 'three' 'eight' 'four'\n",
      " 'two' 'off' 'happy' 'forward' 'backward' 'stop' 'README.md' 'dog' 'cat'\n",
      " 'left' 'validation_list.txt' 'go' 'house' 'learn' 'right' 'no' 'marvin'\n",
      " 'zero' 'visual' 'follow' '_background_noise_' 'LICENSE' 'bed' 'seven'\n",
      " '.DS_Store' 'yes' 'testing_list.txt' 'down' 'one' 'up' 'six'] , num:  41\n",
      "-\n",
      "dataset_commands_dirslist: ['bird' 'wow' 'tree' 'on' 'nine' 'five' 'sheila' 'three' 'eight' 'four'\n",
      " 'two' 'off' 'happy' 'forward' 'backward' 'stop' 'dog' 'cat' 'left' 'go'\n",
      " 'house' 'learn' 'right' 'no' 'marvin' 'zero' 'visual' 'follow' 'bed'\n",
      " 'seven' 'yes' 'down' 'one' 'up' 'six'] , num:  35\n"
     ]
    }
   ],
   "source": [
    "dataset_dirslist = np.array(tf.io.gfile.listdir(str(dataset_path)))\n",
    "print ('dataset_dirslist:', dataset_dirslist,', num: ' , len(dataset_dirslist))\n",
    "print('-')\n",
    "\n",
    "dataset_commands_dirslist = dataset_dirslist\n",
    "dataset_commands_dirslist = dataset_commands_dirslist[dataset_commands_dirslist != 'README.md']\n",
    "dataset_commands_dirslist = dataset_commands_dirslist[dataset_commands_dirslist != '.DS_Store']\n",
    "dataset_commands_dirslist = dataset_commands_dirslist[dataset_commands_dirslist != 'validation_list.txt']\n",
    "dataset_commands_dirslist = dataset_commands_dirslist[dataset_commands_dirslist != 'testing_list.txt']\n",
    "dataset_commands_dirslist = dataset_commands_dirslist[dataset_commands_dirslist != 'LICENSE']\n",
    "dataset_commands_dirslist = dataset_commands_dirslist[dataset_commands_dirslist != '_background_noise_']\n",
    "print ('dataset_commands_dirslist:', dataset_commands_dirslist,', num: ' , len(dataset_commands_dirslist))"
   ]
  },
  {
   "cell_type": "markdown",
   "metadata": {},
   "source": [
    "## 2-3. dataset commands filepaths"
   ]
  },
  {
   "cell_type": "code",
   "execution_count": 10,
   "metadata": {},
   "outputs": [
    {
     "name": "stdout",
     "output_type": "stream",
     "text": [
      "dataset_commands_dir: ./data_speech_commands_v002/bird/*\n",
      "file num of bird : 2064\n",
      "-\n",
      "dataset_commands_dir: ./data_speech_commands_v002/wow/*\n",
      "file num of wow : 2123\n",
      "-\n",
      "dataset_commands_dir: ./data_speech_commands_v002/tree/*\n",
      "file num of tree : 1759\n",
      "-\n",
      "dataset_commands_dir: ./data_speech_commands_v002/on/*\n",
      "file num of on : 3845\n",
      "-\n",
      "dataset_commands_dir: ./data_speech_commands_v002/nine/*\n",
      "file num of nine : 3934\n",
      "-\n",
      "dataset_commands_dir: ./data_speech_commands_v002/five/*\n",
      "file num of five : 4052\n",
      "-\n",
      "dataset_commands_dir: ./data_speech_commands_v002/sheila/*\n",
      "file num of sheila : 2022\n",
      "-\n",
      "dataset_commands_dir: ./data_speech_commands_v002/three/*\n",
      "file num of three : 3727\n",
      "-\n",
      "dataset_commands_dir: ./data_speech_commands_v002/eight/*\n",
      "file num of eight : 3787\n",
      "-\n",
      "dataset_commands_dir: ./data_speech_commands_v002/four/*\n",
      "file num of four : 3728\n",
      "-\n",
      "dataset_commands_dir: ./data_speech_commands_v002/two/*\n",
      "file num of two : 3880\n",
      "-\n",
      "dataset_commands_dir: ./data_speech_commands_v002/off/*\n",
      "file num of off : 3745\n",
      "-\n",
      "dataset_commands_dir: ./data_speech_commands_v002/happy/*\n",
      "file num of happy : 2054\n",
      "-\n",
      "dataset_commands_dir: ./data_speech_commands_v002/forward/*\n",
      "file num of forward : 1557\n",
      "-\n",
      "dataset_commands_dir: ./data_speech_commands_v002/backward/*\n",
      "file num of backward : 1664\n",
      "-\n",
      "dataset_commands_dir: ./data_speech_commands_v002/stop/*\n",
      "file num of stop : 3872\n",
      "-\n",
      "dataset_commands_dir: ./data_speech_commands_v002/dog/*\n",
      "file num of dog : 2128\n",
      "-\n",
      "dataset_commands_dir: ./data_speech_commands_v002/cat/*\n",
      "file num of cat : 2031\n",
      "-\n",
      "dataset_commands_dir: ./data_speech_commands_v002/left/*\n",
      "file num of left : 3801\n",
      "-\n",
      "dataset_commands_dir: ./data_speech_commands_v002/go/*\n",
      "file num of go : 3880\n",
      "-\n",
      "dataset_commands_dir: ./data_speech_commands_v002/house/*\n",
      "file num of house : 2113\n",
      "-\n",
      "dataset_commands_dir: ./data_speech_commands_v002/learn/*\n",
      "file num of learn : 1575\n",
      "-\n",
      "dataset_commands_dir: ./data_speech_commands_v002/right/*\n",
      "file num of right : 3778\n",
      "-\n",
      "dataset_commands_dir: ./data_speech_commands_v002/no/*\n",
      "file num of no : 3941\n",
      "-\n",
      "dataset_commands_dir: ./data_speech_commands_v002/marvin/*\n",
      "file num of marvin : 2100\n",
      "-\n",
      "dataset_commands_dir: ./data_speech_commands_v002/zero/*\n",
      "file num of zero : 4052\n",
      "-\n",
      "dataset_commands_dir: ./data_speech_commands_v002/visual/*\n",
      "file num of visual : 1592\n",
      "-\n",
      "dataset_commands_dir: ./data_speech_commands_v002/follow/*\n",
      "file num of follow : 1579\n",
      "-\n",
      "dataset_commands_dir: ./data_speech_commands_v002/bed/*\n",
      "file num of bed : 2014\n",
      "-\n",
      "dataset_commands_dir: ./data_speech_commands_v002/seven/*\n",
      "file num of seven : 3998\n",
      "-\n",
      "dataset_commands_dir: ./data_speech_commands_v002/yes/*\n",
      "file num of yes : 4044\n",
      "-\n",
      "dataset_commands_dir: ./data_speech_commands_v002/down/*\n",
      "file num of down : 3917\n",
      "-\n",
      "dataset_commands_dir: ./data_speech_commands_v002/one/*\n",
      "file num of one : 3890\n",
      "-\n",
      "dataset_commands_dir: ./data_speech_commands_v002/up/*\n",
      "file num of up : 3723\n",
      "-\n",
      "dataset_commands_dir: ./data_speech_commands_v002/six/*\n",
      "file num of six : 3860\n",
      "-\n",
      "num of dataset_commands_filepaths: 35\n",
      "num of dataset_commands_filepaths: 105829\n",
      "sample of dataset_commands_filepaths: ./data_speech_commands_v002/bird/9acd0254_nohash_1.wav\n"
     ]
    }
   ],
   "source": [
    "dataset_commands_filepaths = []\n",
    "for item in dataset_commands_dirslist:\n",
    "    dataset_commands_dir = os.path.join(dataset_path, item,'*')\n",
    "    print('dataset_commands_dir:', dataset_commands_dir)\n",
    "    fileslist = tf.io.gfile.glob(dataset_commands_dir)\n",
    "    print('file num of',item,':', len(fileslist))\n",
    "    dataset_commands_filepaths.extend(fileslist)\n",
    "    print('-')\n",
    "print('num of dataset_commands_filepaths:', len(dataset_commands_dirslist))\n",
    "print('num of dataset_commands_filepaths:', len(dataset_commands_filepaths))\n",
    "print('sample of dataset_commands_filepaths:', dataset_commands_filepaths[0])"
   ]
  },
  {
   "cell_type": "markdown",
   "metadata": {},
   "source": [
    "# 2. Audio Preporcess"
   ]
  },
  {
   "cell_type": "markdown",
   "metadata": {},
   "source": [
    "## 2-1. function"
   ]
  },
  {
   "cell_type": "markdown",
   "metadata": {},
   "source": [
    "### 2-1-1. split num"
   ]
  },
  {
   "cell_type": "code",
   "execution_count": 11,
   "metadata": {},
   "outputs": [],
   "source": [
    "def get_split_num(train_ratio = 0.8, val_ratio = 0.1, test_ratio = 0.1, file_num = 0):\n",
    "    #get train , val, test num\n",
    "    train_num = int( file_num * train_ratio )\n",
    "    val_num = int( file_num * val_ratio )\n",
    "    test_num = file_num - train_num - val_num \n",
    "\n",
    "    #get train , val, test first_num\n",
    "    train_first_num = 0\n",
    "    val_first_num = train_num\n",
    "    test_first_num = train_num + val_num\n",
    "    \n",
    "    return train_first_num, val_first_num, test_first_num"
   ]
  },
  {
   "cell_type": "markdown",
   "metadata": {},
   "source": [
    "### 2-1-2. label"
   ]
  },
  {
   "cell_type": "code",
   "execution_count": 12,
   "metadata": {},
   "outputs": [
    {
     "name": "stdout",
     "output_type": "stream",
     "text": [
      "get_label(dataset_commands_filepaths[0]):\n",
      "<class 'str'>\n",
      "bird\n"
     ]
    }
   ],
   "source": [
    "def get_label(filepath):\n",
    "    split_1=os.path.split(filepath)\n",
    "    split_2=os.path.split(split_1[0])\n",
    "    return split_2[1]\n",
    "tmp = get_label(dataset_commands_filepaths[0])\n",
    "print ('get_label(dataset_commands_filepaths[0]):')\n",
    "print (type(tmp))\n",
    "print (tmp)"
   ]
  },
  {
   "cell_type": "markdown",
   "metadata": {},
   "source": [
    "### 2-1-3. waveform"
   ]
  },
  {
   "cell_type": "code",
   "execution_count": 13,
   "metadata": {},
   "outputs": [
    {
     "name": "stdout",
     "output_type": "stream",
     "text": [
      "get_waveform(dataset_commands_filepaths[0]):\n",
      "<class 'numpy.ndarray'>\n",
      "(16000,)\n",
      "[ 0.00015259  0.00088501 -0.00030518 ...  0.00097656  0.00079346\n",
      "  0.00067139]\n"
     ]
    }
   ],
   "source": [
    "import librosa\n",
    "def get_waveform(filepath):\n",
    "    sample_rate = 16000\n",
    "    waveform, fs = librosa.load(filepath, sr=sample_rate)\n",
    "    return waveform\n",
    "tmp = get_waveform(dataset_commands_filepaths[0])\n",
    "print ('get_waveform(dataset_commands_filepaths[0]):')\n",
    "print (type(tmp))\n",
    "print (tmp.shape)\n",
    "print (tmp)"
   ]
  },
  {
   "cell_type": "markdown",
   "metadata": {},
   "source": [
    "### 2-1-4. label id"
   ]
  },
  {
   "cell_type": "code",
   "execution_count": 14,
   "metadata": {},
   "outputs": [
    {
     "name": "stdout",
     "output_type": "stream",
     "text": [
      "get_label_id(get_label(dataset_commands_filepaths[0]):\n",
      "<class 'numpy.int64'>\n",
      "0\n"
     ]
    }
   ],
   "source": [
    "def get_label_id(label,command_list):\n",
    "    label_id = np.argmax(label==command_list)\n",
    "    return label_id\n",
    "tmp = get_label_id(get_label(dataset_commands_filepaths[0]),dataset_commands_dirslist)\n",
    "print ('get_label_id(get_label(dataset_commands_filepaths[0]):')\n",
    "print (type(tmp))\n",
    "print (tmp)"
   ]
  },
  {
   "cell_type": "markdown",
   "metadata": {},
   "source": [
    "### 2-1-5. MFCC"
   ]
  },
  {
   "cell_type": "code",
   "execution_count": 15,
   "metadata": {},
   "outputs": [
    {
     "name": "stderr",
     "output_type": "stream",
     "text": [
      "WARNING:root:frame length (4096) is greater than FFT size (2048), frame will be truncated. Increase NFFT to avoid.\n"
     ]
    },
    {
     "name": "stdout",
     "output_type": "stream",
     "text": [
      "get_features_m(get_waveform(dataset_commands_files[0])):\n",
      "<class 'numpy.ndarray'>\n",
      "(16, 16)\n"
     ]
    },
    {
     "data": {
      "text/plain": [
       "<matplotlib.image.AxesImage at 0x7fa87847f438>"
      ]
     },
     "execution_count": 15,
     "metadata": {},
     "output_type": "execute_result"
    },
    {
     "data": {
      "image/png": "[encoded data removed]",
      "text/plain": [
       "<Figure size 432x288 with 1 Axes>"
      ]
     },
     "metadata": {
      "needs_background": "light"
     },
     "output_type": "display_data"
    }
   ],
   "source": [
    "import python_speech_features\n",
    "import matplotlib.pyplot as plt\n",
    "def get_features_m(waveform):\n",
    "    # Zero-padding for an audio waveform with less than 16,000 samples.\n",
    "    #input_len = 16000\n",
    "    #waveform = waveform[:input_len]\n",
    "    # np.shape(waveform) =  (16000,)\n",
    "    zero_padding = np.zeros( (16000-np.shape(waveform)[0],), dtype=np.float32)\n",
    "    # Cast the waveform tensors with np.float32\n",
    "    waveform = np.cast['float32'](waveform)\n",
    "    # Concatenate the waveform with `zero_padding`, which ensures all audio clips are of the same length.\n",
    "    equal_length = np.concatenate([waveform, zero_padding], 0)\n",
    "    \n",
    "    sample_rate = 16000\n",
    "    num_mfcc = 16\n",
    "    len_mfcc = 40\n",
    "    mfccs = python_speech_features.base.mfcc(equal_length, \n",
    "                                            samplerate=sample_rate,\n",
    "                                            winlen=0.256,\n",
    "                                            winstep=0.050,\n",
    "                                            numcep=num_mfcc,\n",
    "                                            nfilt=26,\n",
    "                                            nfft=2048,\n",
    "                                            preemph=0.0,\n",
    "                                            ceplifter=0,\n",
    "                                            appendEnergy=False,\n",
    "                                            winfunc=np.hanning)\n",
    "    return mfccs.transpose()\n",
    "tmp = get_features_m(get_waveform(dataset_commands_filepaths[0]))\n",
    "print ('get_features_m(get_waveform(dataset_commands_files[0])):')\n",
    "print (type(tmp))\n",
    "print (tmp.shape)\n",
    "#print (tmp)\n",
    "fig = plt.figure()\n",
    "plt.imshow(tmp, cmap='inferno', origin='lower')"
   ]
  },
  {
   "cell_type": "markdown",
   "metadata": {},
   "source": [
    "### 2-1-6. Spectrum(optional)"
   ]
  },
  {
   "cell_type": "code",
   "execution_count": 16,
   "metadata": {},
   "outputs": [
    {
     "name": "stdout",
     "output_type": "stream",
     "text": [
      "get_features(get_waveform(dataset_commands_files[0])):\n",
      "<class 'numpy.ndarray'>\n",
      "126\n",
      "(126, 257)\n",
      "[[7.8792565e-02 1.9343071e-01 2.3035459e-01 ... 2.1647247e-05\n",
      "  7.0432015e-04 7.6670665e-04]\n",
      " [2.7902070e-02 1.7402110e-01 2.3155710e-01 ... 1.0528803e-03\n",
      "  9.7098021e-04 1.4394734e-04]\n",
      " [4.1548494e-01 6.5685660e-01 9.8971790e-01 ... 3.4597244e-03\n",
      "  2.4347047e-03 1.3547541e-03]\n",
      " ...\n",
      " [3.9385643e-02 2.3239355e-01 2.7876863e-01 ... 8.9146249e-04\n",
      "  5.8035715e-04 1.4487674e-04]\n",
      " [5.6532890e-02 2.0199598e-01 2.1348533e-01 ... 1.9922811e-03\n",
      "  2.4451835e-03 2.7364760e-03]\n",
      " [3.7457574e-02 1.7731035e-01 2.3021065e-01 ... 4.6135816e-03\n",
      "  4.6519507e-03 5.0910772e-03]]\n"
     ]
    },
    {
     "data": {
      "text/plain": [
       "<matplotlib.image.AxesImage at 0x7fa878376f28>"
      ]
     },
     "execution_count": 16,
     "metadata": {},
     "output_type": "execute_result"
    },
    {
     "data": {
      "image/png": "[encoded data removed]",
      "text/plain": [
       "<Figure size 432x288 with 1 Axes>"
      ]
     },
     "metadata": {
      "needs_background": "light"
     },
     "output_type": "display_data"
    }
   ],
   "source": [
    "import python_speech_features\n",
    "import matplotlib.pyplot as plt\n",
    "def get_features(waveform):\n",
    "    # Zero-padding for an audio waveform with less than 16,000 samples.\n",
    "    #input_len = 16000\n",
    "    #waveform = waveform[:input_len]\n",
    "    # np.shape(waveform) =  (16000,)\n",
    "    zero_padding = np.zeros( (16000-np.shape(waveform)[0],), dtype=np.float32)\n",
    "    # Cast the waveform tensors with np.float32\n",
    "    waveform = np.cast['float32'](waveform)\n",
    "    # Concatenate the waveform with `zero_padding`, which ensures all audio clips are of the same length.\n",
    "    equal_length = np.concatenate([waveform, zero_padding], 0)\n",
    "    \n",
    "    sample_rate = 16000\n",
    "    num_mfcc = 16\n",
    "    len_mfcc = 40\n",
    "    spectrum = np.abs(librosa.stft(equal_length,512))\n",
    "    return spectrum.transpose()\n",
    "tmp = get_features(get_waveform(dataset_commands_filepaths[5000]))\n",
    "print ('get_features(get_waveform(dataset_commands_files[0])):')\n",
    "print (type(tmp))\n",
    "print (len(tmp))\n",
    "print (tmp.shape)\n",
    "print (tmp)\n",
    "fig = plt.figure()\n",
    "plt.imshow(tmp, cmap='inferno', origin='lower')"
   ]
  },
  {
   "cell_type": "markdown",
   "metadata": {},
   "source": [
    "## 2-2. Preporcess set commands"
   ]
  },
  {
   "cell_type": "code",
   "execution_count": 17,
   "metadata": {},
   "outputs": [],
   "source": [
    "x_train = []\n",
    "y_train = []\n",
    "x_val = []\n",
    "y_val = []\n",
    "x_test = []\n",
    "y_test = []"
   ]
  },
  {
   "cell_type": "markdown",
   "metadata": {},
   "source": [
    "### 2-2-1. get set command filepaths"
   ]
  },
  {
   "cell_type": "code",
   "execution_count": 18,
   "metadata": {},
   "outputs": [
    {
     "name": "stdout",
     "output_type": "stream",
     "text": [
      "set_commands_dir: ./data_speech_commands_v002/yes/*\n",
      "file num : 4044\n",
      "-\n",
      "set_commands_dir: ./data_speech_commands_v002/no/*\n",
      "file num : 3941\n",
      "-\n",
      "set_commands_dir: ./data_speech_commands_v002/on/*\n",
      "file num : 3845\n",
      "-\n",
      "set_commands_dir: ./data_speech_commands_v002/off/*\n",
      "file num : 3745\n",
      "-\n",
      "num of train_set_commands_filepaths: 12459\n",
      "num of val_set_commands_filepaths: 1556\n",
      "num of test_set_commands_filepaths: 1560\n",
      "total of set_commands_filepaths: 15575\n",
      "sample of train_set_commands_filepaths: ./data_speech_commands_v002/yes/e9abfe31_nohash_3.wav\n"
     ]
    }
   ],
   "source": [
    "\n",
    "train_set_commands_filepaths = []\n",
    "val_set_commands_filepaths = []\n",
    "test_set_commands_filepaths = []\n",
    "set_commands_dirslist = commands\n",
    "for item in set_commands_dirslist:\n",
    "    set_commands_dir = os.path.join(dataset_path, item,'*')\n",
    "    print('set_commands_dir:', set_commands_dir)\n",
    "    \n",
    "    fileslist = tf.io.gfile.glob(set_commands_dir)\n",
    "    random.shuffle(fileslist)\n",
    "    print('file num :', len(fileslist))\n",
    "    \n",
    "    train, val, test = get_split_num(0.8, 0.1, 0.1, len(fileslist))\n",
    "    train_set_commands_filepaths.extend(fileslist[:val])\n",
    "    val_set_commands_filepaths.extend(fileslist[val:test])\n",
    "    test_set_commands_filepaths.extend(fileslist[test:])\n",
    "    \n",
    "    print('-')\n",
    "print('num of train_set_commands_filepaths:', len(train_set_commands_filepaths))\n",
    "print('num of val_set_commands_filepaths:', len(val_set_commands_filepaths))\n",
    "print('num of test_set_commands_filepaths:', len(test_set_commands_filepaths))\n",
    "total_set_commands_num = len(train_set_commands_filepaths)+len(val_set_commands_filepaths)+len(test_set_commands_filepaths)\n",
    "print('total of set_commands_filepaths:',total_set_commands_num)\n",
    "print('sample of train_set_commands_filepaths:', train_set_commands_filepaths[0])\n"
   ]
  },
  {
   "cell_type": "markdown",
   "metadata": {},
   "source": [
    "### 2-2-2. get MFCCs and label id"
   ]
  },
  {
   "cell_type": "code",
   "execution_count": 19,
   "metadata": {},
   "outputs": [
    {
     "name": "stdout",
     "output_type": "stream",
     "text": [
      "num of train_set_commands_features: 12459\n",
      "num of train_set_commands_label_id: 12459\n",
      "-\n",
      "num of val_set_commands_features: 1556\n",
      "num of val_set_commands_label_id: 1556\n",
      "-\n",
      "num of test_set_commands_features: 1560\n",
      "num of test_set_commands_label_id: 1560\n"
     ]
    }
   ],
   "source": [
    "train_set_commands_features = []\n",
    "val_set_commands_features = []\n",
    "test_set_commands_features = []\n",
    "\n",
    "train_set_commands_label_id = []\n",
    "val_set_commands_label_id = []\n",
    "test_set_commands_label_id = []\n",
    "\n",
    "convert_num = 1000000\n",
    "\n",
    "for i, item in enumerate(train_set_commands_filepaths):\n",
    "    if i<convert_num:\n",
    "        waveform = get_waveform(item)\n",
    "        features = get_features(waveform)\n",
    "        train_set_commands_features.append(features)\n",
    "        \n",
    "        label = get_label(item)\n",
    "        label_id = get_label_id(label,commands)\n",
    "        train_set_commands_label_id.append(label_id)\n",
    "\n",
    "for i, item in enumerate(val_set_commands_filepaths):\n",
    "    if i<convert_num:\n",
    "        waveform = get_waveform(item)\n",
    "        features = get_features(waveform)\n",
    "        val_set_commands_features.append(features)\n",
    "        \n",
    "        label = get_label(item)\n",
    "        label_id = get_label_id(label,commands)\n",
    "        val_set_commands_label_id.append(label_id)\n",
    "        \n",
    "for i, item in enumerate(test_set_commands_filepaths):\n",
    "    if i<convert_num:\n",
    "        waveform = get_waveform(item)\n",
    "        features = get_features(waveform)\n",
    "        test_set_commands_features.append(features)\n",
    "        \n",
    "        label = get_label(item)\n",
    "        label_id = get_label_id(label,commands)\n",
    "        test_set_commands_label_id.append(label_id)        \n",
    "        \n",
    "\n",
    "print ('num of train_set_commands_features:', len(train_set_commands_features))\n",
    "print ('num of train_set_commands_label_id:', len(train_set_commands_label_id))\n",
    "print('-')\n",
    "print ('num of val_set_commands_features:', len(val_set_commands_features))\n",
    "print ('num of val_set_commands_label_id:', len(val_set_commands_label_id))\n",
    "print('-')\n",
    "print ('num of test_set_commands_features:', len(test_set_commands_features))\n",
    "print ('num of test_set_commands_label_id:', len(test_set_commands_label_id)) "
   ]
  },
  {
   "cell_type": "markdown",
   "metadata": {},
   "source": [
    "### 2-2-3. add features and label id to dataset"
   ]
  },
  {
   "cell_type": "code",
   "execution_count": 20,
   "metadata": {},
   "outputs": [
    {
     "name": "stdout",
     "output_type": "stream",
     "text": [
      "num of x_train: 12459\n",
      "num of y_train: 12459\n",
      "-\n",
      "num of x_val: 1556\n",
      "num of y_val: 1556\n",
      "-\n",
      "num of x_test: 1560\n",
      "num of y_test: 1560\n"
     ]
    }
   ],
   "source": [
    "x_train.extend(train_set_commands_features)\n",
    "y_train.extend(train_set_commands_label_id)\n",
    "x_val.extend(val_set_commands_features)\n",
    "y_val.extend(val_set_commands_label_id)\n",
    "x_test.extend(test_set_commands_features)\n",
    "y_test.extend(test_set_commands_label_id)\n",
    "\n",
    "print('num of x_train:',len(y_train))\n",
    "print('num of y_train:',len(y_train))\n",
    "print('-')\n",
    "print('num of x_val:',len(x_val))\n",
    "print('num of y_val:',len(y_val))\n",
    "print('-')\n",
    "print('num of x_test:',len(x_test))\n",
    "print('num of y_test:',len(y_test))"
   ]
  },
  {
   "cell_type": "markdown",
   "metadata": {},
   "source": [
    "## 2-3. Preporcess unknown commands"
   ]
  },
  {
   "cell_type": "markdown",
   "metadata": {},
   "source": [
    "### 2-3-1. get unknown command filepaths"
   ]
  },
  {
   "cell_type": "code",
   "execution_count": 21,
   "metadata": {},
   "outputs": [
    {
     "name": "stdout",
     "output_type": "stream",
     "text": [
      "commands: ['yes' 'no' 'on' 'off' 'unknown']\n",
      "-\n",
      "unknown_commands_dirslist: ['backward' 'bed' 'bird' 'cat' 'dog' 'down' 'eight' 'five' 'follow'\n",
      " 'forward' 'four' 'go' 'happy' 'house' 'learn' 'left' 'marvin' 'nine'\n",
      " 'one' 'right' 'seven' 'sheila' 'six' 'stop' 'three' 'tree' 'two' 'up'\n",
      " 'visual' 'wow' 'zero']\n",
      "-\n",
      "each_command: 3893\n",
      "each_unknown_command: 700\n",
      "-\n",
      "unknown_commands_dir: ./data_speech_commands_v002/backward/*\n",
      "file num : 1664\n",
      "-\n",
      "unknown_commands_dir: ./data_speech_commands_v002/bed/*\n",
      "file num : 2014\n",
      "-\n",
      "unknown_commands_dir: ./data_speech_commands_v002/bird/*\n",
      "file num : 2064\n",
      "-\n",
      "unknown_commands_dir: ./data_speech_commands_v002/cat/*\n",
      "file num : 2031\n",
      "-\n",
      "unknown_commands_dir: ./data_speech_commands_v002/dog/*\n",
      "file num : 2128\n",
      "-\n",
      "unknown_commands_dir: ./data_speech_commands_v002/down/*\n",
      "file num : 3917\n",
      "-\n",
      "unknown_commands_dir: ./data_speech_commands_v002/eight/*\n",
      "file num : 3787\n",
      "-\n",
      "unknown_commands_dir: ./data_speech_commands_v002/five/*\n",
      "file num : 4052\n",
      "-\n",
      "unknown_commands_dir: ./data_speech_commands_v002/follow/*\n",
      "file num : 1579\n",
      "-\n",
      "unknown_commands_dir: ./data_speech_commands_v002/forward/*\n",
      "file num : 1557\n",
      "-\n",
      "unknown_commands_dir: ./data_speech_commands_v002/four/*\n",
      "file num : 3728\n",
      "-\n",
      "unknown_commands_dir: ./data_speech_commands_v002/go/*\n",
      "file num : 3880\n",
      "-\n",
      "unknown_commands_dir: ./data_speech_commands_v002/happy/*\n",
      "file num : 2054\n",
      "-\n",
      "unknown_commands_dir: ./data_speech_commands_v002/house/*\n",
      "file num : 2113\n",
      "-\n",
      "unknown_commands_dir: ./data_speech_commands_v002/learn/*\n",
      "file num : 1575\n",
      "-\n",
      "unknown_commands_dir: ./data_speech_commands_v002/left/*\n",
      "file num : 3801\n",
      "-\n",
      "unknown_commands_dir: ./data_speech_commands_v002/marvin/*\n",
      "file num : 2100\n",
      "-\n",
      "unknown_commands_dir: ./data_speech_commands_v002/nine/*\n",
      "file num : 3934\n",
      "-\n",
      "unknown_commands_dir: ./data_speech_commands_v002/one/*\n",
      "file num : 3890\n",
      "-\n",
      "unknown_commands_dir: ./data_speech_commands_v002/right/*\n",
      "file num : 3778\n",
      "-\n",
      "unknown_commands_dir: ./data_speech_commands_v002/seven/*\n",
      "file num : 3998\n",
      "-\n",
      "unknown_commands_dir: ./data_speech_commands_v002/sheila/*\n",
      "file num : 2022\n",
      "-\n",
      "unknown_commands_dir: ./data_speech_commands_v002/six/*\n",
      "file num : 3860\n",
      "-\n",
      "unknown_commands_dir: ./data_speech_commands_v002/stop/*\n",
      "file num : 3872\n",
      "-\n",
      "unknown_commands_dir: ./data_speech_commands_v002/three/*\n",
      "file num : 3727\n",
      "-\n",
      "unknown_commands_dir: ./data_speech_commands_v002/tree/*\n",
      "file num : 1759\n",
      "-\n",
      "unknown_commands_dir: ./data_speech_commands_v002/two/*\n",
      "file num : 3880\n",
      "-\n",
      "unknown_commands_dir: ./data_speech_commands_v002/up/*\n",
      "file num : 3723\n",
      "-\n",
      "unknown_commands_dir: ./data_speech_commands_v002/visual/*\n",
      "file num : 1592\n",
      "-\n",
      "unknown_commands_dir: ./data_speech_commands_v002/wow/*\n",
      "file num : 2123\n",
      "-\n",
      "unknown_commands_dir: ./data_speech_commands_v002/zero/*\n",
      "file num : 4052\n",
      "-\n",
      "num of train_unknown_commands_filepaths: 17360\n",
      "num of val_unknown_commands_filepaths: 2170\n",
      "num of test_unknown_commands_filepaths: 2170\n",
      "sample of train_unknown_commands_filepaths: ./data_speech_commands_v002/backward/017c4098_nohash_0.wav\n"
     ]
    }
   ],
   "source": [
    "train_unknown_commands_filepaths = []\n",
    "val_unknown_commands_filepaths = []\n",
    "test_unknown_commands_filepaths = []\n",
    "\n",
    "if not np.any(commands=='unknown'):\n",
    "    commands = np.append(commands,'unknown')\n",
    "print ('commands:',commands)\n",
    "print('-')\n",
    "\n",
    "unknown_commands_dirslist = np.setdiff1d( dataset_commands_dirslist , commands)\n",
    "print ('unknown_commands_dirslist:',unknown_commands_dirslist)\n",
    "print('-')\n",
    "\n",
    "each_command = total_set_commands_num//len(set_commands_dirslist)\n",
    "print ('each_command:', each_command)\n",
    "each_unknown_command = each_command//len(unknown_commands_dirslist)\n",
    "each_unknown_command = 700\n",
    "print ('each_unknown_command:', each_unknown_command)\n",
    "print('-')\n",
    "\n",
    "for item in unknown_commands_dirslist:\n",
    "    unknown_commands_dir = os.path.join(dataset_path, item,'*')\n",
    "    print('unknown_commands_dir:', unknown_commands_dir)\n",
    "    \n",
    "    fileslist = tf.io.gfile.glob(unknown_commands_dir)\n",
    "    random.shuffle(fileslist)\n",
    "    print('file num :', len(fileslist))\n",
    "    \n",
    "    train, val, test = get_split_num(0.8, 0.1, 0.1, each_unknown_command)\n",
    "    train_unknown_commands_filepaths.extend(fileslist[:val])\n",
    "    val_unknown_commands_filepaths.extend(fileslist[val:test])\n",
    "    test_unknown_commands_filepaths.extend(fileslist[test:each_unknown_command])\n",
    "    print('-')\n",
    "    \n",
    "print('num of train_unknown_commands_filepaths:', len(train_unknown_commands_filepaths))\n",
    "print('num of val_unknown_commands_filepaths:', len(val_unknown_commands_filepaths))\n",
    "print('num of test_unknown_commands_filepaths:', len(test_unknown_commands_filepaths))\n",
    "print('sample of train_unknown_commands_filepaths:', train_unknown_commands_filepaths[0])"
   ]
  },
  {
   "cell_type": "markdown",
   "metadata": {},
   "source": [
    "### 2-3-2. get MFCC and label id"
   ]
  },
  {
   "cell_type": "code",
   "execution_count": 22,
   "metadata": {},
   "outputs": [
    {
     "name": "stdout",
     "output_type": "stream",
     "text": [
      "num of train_unknown_commands_features: 17360\n",
      "num of train_unknown_commands_label_id: 17360\n",
      "-\n",
      "num of val_unknown_commands_features: 2170\n",
      "num of val_unknown_commands_label_id: 2170\n",
      "-\n",
      "num of test_unknown_commands_features: 2170\n",
      "num of test_unknown_commands_label_id: 2170\n"
     ]
    }
   ],
   "source": [
    "train_unknown_commands_features = []\n",
    "val_unknown_commands_features = []\n",
    "test_unknown_commands_features = []\n",
    "\n",
    "train_unknown_commands_label_id = []\n",
    "val_unknown_commands_label_id = []\n",
    "test_unknown_commands_label_id = []\n",
    "\n",
    "convert_num = 100000\n",
    "\n",
    "label = 'unknown'\n",
    "\n",
    "for i, item in enumerate(train_unknown_commands_filepaths):\n",
    "    if i<convert_num:\n",
    "        waveform = get_waveform(item)\n",
    "        features = get_features(waveform)\n",
    "        train_unknown_commands_features.append(features)\n",
    "       \n",
    "        label_id = get_label_id(label,commands)\n",
    "        train_unknown_commands_label_id.append(label_id)\n",
    "\n",
    "for i, item in enumerate(val_unknown_commands_filepaths):\n",
    "    if i<convert_num:\n",
    "        waveform = get_waveform(item)\n",
    "        features = get_features(waveform)\n",
    "        val_unknown_commands_features.append(features)\n",
    "\n",
    "        label_id = get_label_id(label,commands)\n",
    "        val_unknown_commands_label_id.append(label_id)\n",
    "        \n",
    "for i, item in enumerate(test_unknown_commands_filepaths):\n",
    "    if i<convert_num:\n",
    "        waveform = get_waveform(item)\n",
    "        features = get_features(waveform)\n",
    "        test_unknown_commands_features.append(features)\n",
    "\n",
    "        label_id = get_label_id(label,commands)\n",
    "        test_unknown_commands_label_id.append(label_id)        \n",
    "        \n",
    "\n",
    "print ('num of train_unknown_commands_features:', len(train_unknown_commands_features))\n",
    "print ('num of train_unknown_commands_label_id:', len(train_unknown_commands_label_id))\n",
    "print('-')\n",
    "print ('num of val_unknown_commands_features:', len(val_unknown_commands_features))\n",
    "print ('num of val_unknown_commands_label_id:', len(val_unknown_commands_label_id))\n",
    "print('-')\n",
    "print ('num of test_unknown_commands_features:', len(test_unknown_commands_features))\n",
    "print ('num of test_unknown_commands_label_id:', len(test_unknown_commands_label_id)) "
   ]
  },
  {
   "cell_type": "markdown",
   "metadata": {},
   "source": [
    "### 2-3-3. add features and label id to dataset"
   ]
  },
  {
   "cell_type": "code",
   "execution_count": 23,
   "metadata": {},
   "outputs": [
    {
     "name": "stdout",
     "output_type": "stream",
     "text": [
      "num of x_train: 29819\n",
      "num of y_train: 29819\n",
      "-\n",
      "num of x_val: 3726\n",
      "num of y_val: 3726\n",
      "-\n",
      "num of x_test: 3730\n",
      "num of y_test: 3730\n"
     ]
    }
   ],
   "source": [
    "x_train.extend(train_unknown_commands_features)\n",
    "y_train.extend(train_unknown_commands_label_id)\n",
    "x_val.extend(val_unknown_commands_features)\n",
    "y_val.extend(val_unknown_commands_label_id)\n",
    "x_test.extend(test_unknown_commands_features)\n",
    "y_test.extend(test_unknown_commands_label_id)\n",
    "\n",
    "print('num of x_train:',len(x_train))\n",
    "print('num of y_train:',len(y_train))\n",
    "print('-')\n",
    "print('num of x_val:',len(x_val))\n",
    "print('num of y_val:',len(y_val))\n",
    "print('-')\n",
    "print('num of x_test:',len(x_test))\n",
    "print('num of y_test:',len(y_test))"
   ]
  },
  {
   "cell_type": "markdown",
   "metadata": {},
   "source": [
    "## 2-4. Preporcess slience command"
   ]
  },
  {
   "cell_type": "markdown",
   "metadata": {},
   "source": [
    "### 2-4-1. get background command filepaths"
   ]
  },
  {
   "cell_type": "code",
   "execution_count": 24,
   "metadata": {},
   "outputs": [
    {
     "name": "stdout",
     "output_type": "stream",
     "text": [
      "commands: ['yes' 'no' 'on' 'off' 'unknown' 'slience']\n",
      "-\n",
      "slience_commands_dirslist: ['_background_noise_']\n",
      "-\n",
      "total_set_commands_num: 15575\n",
      "slience_command_num: 15575\n",
      "-\n",
      "slience_commands_dir: ./data_speech_commands_v002/_background_noise_/*.wav\n",
      "file num : 6\n",
      "each_slience_files: 2595\n",
      "-\n",
      "num of train_slience_commands_filepaths: 12456\n",
      "num of val_slience_commands_filepaths: 1554\n",
      "num of test_slience_commands_filepaths: 1554\n",
      "sample of train_slience_commands_filepaths: ./data_speech_commands_v002/_background_noise_/white_noise.wav\n"
     ]
    }
   ],
   "source": [
    "train_slience_commands_filepaths = []\n",
    "val_slience_commands_filepaths = []\n",
    "test_slience_commands_filepaths = []\n",
    "\n",
    "if not np.any(commands=='slience'):\n",
    "    commands = np.append(commands,'slience')\n",
    "print ('commands:',commands)\n",
    "print('-')\n",
    "\n",
    "slience_commands_dirslist = ['_background_noise_']\n",
    "print ('slience_commands_dirslist:',slience_commands_dirslist)\n",
    "print('-')\n",
    "\n",
    "print ('total_set_commands_num:', total_set_commands_num)\n",
    "slience_ratio = 1\n",
    "slience_command_num = int(total_set_commands_num * slience_ratio)\n",
    "print ('slience_command_num:', slience_command_num)\n",
    "print('-')\n",
    "\n",
    "for item in slience_commands_dirslist:\n",
    "    slience_commands_dir = os.path.join(dataset_path, item,'*.wav')\n",
    "    print('slience_commands_dir:', slience_commands_dir)\n",
    "    \n",
    "    fileslist = tf.io.gfile.glob(slience_commands_dir)\n",
    "    print('file num :', len(fileslist))\n",
    "    \n",
    "    each_slience_files = slience_command_num//len(fileslist)\n",
    "    print ('each_slience_files:', each_slience_files)\n",
    "  \n",
    "    train_num = int(each_slience_files*0.8)\n",
    "    val_num = int(each_slience_files*0.1)\n",
    "    test_num = int(each_slience_files*0.1)\n",
    "    print('-')\n",
    "    \n",
    "    for itme in fileslist:\n",
    "        for i in range(train_num):\n",
    "            train_slience_commands_filepaths.append(itme)\n",
    "        for i in range(val_num):\n",
    "            val_slience_commands_filepaths.append(itme)\n",
    "        for i in range(test_num):\n",
    "            test_slience_commands_filepaths.append(itme)\n",
    "\n",
    "print('num of train_slience_commands_filepaths:', len(train_slience_commands_filepaths))\n",
    "print('num of val_slience_commands_filepaths:', len(val_slience_commands_filepaths))\n",
    "print('num of test_slience_commands_filepaths:', len(test_slience_commands_filepaths))\n",
    "print('sample of train_slience_commands_filepaths:', train_slience_commands_filepaths[0])\n",
    "\n",
    "\n",
    "\n"
   ]
  },
  {
   "cell_type": "markdown",
   "metadata": {},
   "source": [
    "### 2-4-2. contruct slience features and label id"
   ]
  },
  {
   "cell_type": "code",
   "execution_count": 25,
   "metadata": {},
   "outputs": [
    {
     "name": "stdout",
     "output_type": "stream",
     "text": [
      "num of train_slience_commands_features: 12456\n",
      "num of train_slience_commands_label_id: 12456\n",
      "-\n",
      "num of val_slience_commands_features: 1554\n",
      "num of val_slience_commands_label_id: 1554\n",
      "-\n",
      "num of test_slience_commands_features: 1554\n",
      "num of test_slience_commands_label_id: 1554\n"
     ]
    }
   ],
   "source": [
    "import random\n",
    "random.seed(66)\n",
    "\n",
    "train_slience_commands_features = []\n",
    "val_slience_commands_features = []\n",
    "test_slience_commands_features = []\n",
    "\n",
    "train_slience_commands_label_id = []\n",
    "val_slience_commands_label_id = []\n",
    "test_slience_commands_label_id = []\n",
    "\n",
    "label = 'slience'\n",
    "\n",
    "for i, item in enumerate(train_slience_commands_filepaths):\n",
    "    #print('slience_commands_filepath:',item)\n",
    "    waveform = get_waveform(item)\n",
    "    waveform_len = waveform.shape[0]\n",
    "    waveform_s = waveform_len/16000\n",
    "\n",
    "    split_start_time = random.randrange(0, waveform_len)\n",
    "    waveform_split = waveform[split_start_time:split_start_time+16000]\n",
    "    waveform_split_len = waveform_split.shape[0]\n",
    "    waveform_split_s = waveform_split_len/16000\n",
    "  \n",
    "    features = get_features(waveform_split)\n",
    "    train_slience_commands_features.append(features)\n",
    "\n",
    "    label_id = get_label_id(label,commands)\n",
    "    train_slience_commands_label_id.append(label_id)\n",
    "\n",
    "for i, item in enumerate(val_slience_commands_filepaths):\n",
    "\n",
    "    waveform = get_waveform(item)\n",
    "    waveform_len = waveform.shape[0]\n",
    "    waveform_s = waveform_len/16000\n",
    "\n",
    "    split_start_time = random.randrange(0, waveform_len)\n",
    "    waveform_split = waveform[split_start_time:split_start_time+16000]\n",
    "    waveform_split_len = waveform_split.shape[0]\n",
    "    waveform_split_s = waveform_split_len/16000\n",
    "  \n",
    "    features = get_features(waveform_split)\n",
    "    val_slience_commands_features.append(features)\n",
    "\n",
    "    label_id = get_label_id(label,commands)\n",
    "    val_slience_commands_label_id.append(label_id)    \n",
    "\n",
    "for i, item in enumerate(test_slience_commands_filepaths):\n",
    "\n",
    "    waveform = get_waveform(item)\n",
    "    waveform_len = waveform.shape[0]\n",
    "    waveform_s = waveform_len/16000\n",
    "\n",
    "    split_start_time = random.randrange(0, waveform_len)\n",
    "    waveform_split = waveform[split_start_time:split_start_time+16000]\n",
    "    waveform_split_len = waveform_split.shape[0]\n",
    "    waveform_split_s = waveform_split_len/16000\n",
    "  \n",
    "    features = get_features(waveform_split)\n",
    "    test_slience_commands_features.append(features)\n",
    "\n",
    "    label_id = get_label_id(label,commands)\n",
    "    test_slience_commands_label_id.append(label_id)    \n",
    "    \n",
    "print ('num of train_slience_commands_features:', len(train_slience_commands_features))\n",
    "print ('num of train_slience_commands_label_id:', len(train_slience_commands_label_id))\n",
    "print('-')\n",
    "print ('num of val_slience_commands_features:', len(val_slience_commands_features))\n",
    "print ('num of val_slience_commands_label_id:', len(val_slience_commands_label_id))\n",
    "print('-')\n",
    "print ('num of test_slience_commands_features:', len(test_slience_commands_features))\n",
    "print ('num of test_slience_commands_label_id:', len(test_slience_commands_label_id)) \n",
    "\n",
    "\n"
   ]
  },
  {
   "cell_type": "markdown",
   "metadata": {},
   "source": [
    "### 2-4-3. add features and label id to dataset"
   ]
  },
  {
   "cell_type": "code",
   "execution_count": 26,
   "metadata": {},
   "outputs": [
    {
     "name": "stdout",
     "output_type": "stream",
     "text": [
      "num of x_train: 42275\n",
      "num of y_train: 42275\n",
      "-\n",
      "num of x_val: 5280\n",
      "num of y_val: 5280\n",
      "-\n",
      "num of x_test: 5284\n",
      "num of y_test: 5284\n"
     ]
    }
   ],
   "source": [
    "x_train.extend(train_slience_commands_features)\n",
    "y_train.extend(train_slience_commands_label_id)\n",
    "x_val.extend(val_slience_commands_features)\n",
    "y_val.extend(val_slience_commands_label_id)\n",
    "x_test.extend(test_slience_commands_features)\n",
    "y_test.extend(test_slience_commands_label_id)\n",
    "\n",
    "print('num of x_train:',len(x_train))\n",
    "print('num of y_train:',len(y_train))\n",
    "print('-')\n",
    "print('num of x_val:',len(x_val))\n",
    "print('num of y_val:',len(y_val))\n",
    "print('-')\n",
    "print('num of x_test:',len(x_test))\n",
    "print('num of y_test:',len(y_test))"
   ]
  },
  {
   "cell_type": "markdown",
   "metadata": {},
   "source": [
    "# 3. Train"
   ]
  },
  {
   "cell_type": "code",
   "execution_count": 27,
   "metadata": {},
   "outputs": [
    {
     "data": {
      "text/plain": [
       "''"
      ]
     },
     "execution_count": 27,
     "metadata": {},
     "output_type": "execute_result"
    }
   ],
   "source": [
    "''''''\n",
    "feature_sets_file = 'all_targets_mfcc_sets.npz'\n",
    "# Save features and truth vector (y) sets to disk\n",
    "np.savez(feature_sets_file, \n",
    "         x_train=x_train, \n",
    "         y_train=y_train, \n",
    "         x_val=x_val, \n",
    "         y_val=y_val, \n",
    "         x_test=x_test, \n",
    "         y_test=y_test)\n",
    "''''''"
   ]
  },
  {
   "cell_type": "code",
   "execution_count": 28,
   "metadata": {},
   "outputs": [
    {
     "data": {
      "text/plain": [
       "\"\\nfeature_sets_path = './'\\nfeature_sets_filename = 'all_targets_mfcc_sets.npz'\\n# Load feature sets\\nfeature_sets = np.load(os.path.join(feature_sets_path, feature_sets_filename))\\nprint(feature_sets.files)\\n# Assign feature sets\\nx_train = feature_sets['x_train']\\ny_train = feature_sets['y_train']\\nx_val = feature_sets['x_val']\\ny_val = feature_sets['y_val']\\nx_test = feature_sets['x_test']\\ny_test = feature_sets['y_test']\\n\""
      ]
     },
     "execution_count": 28,
     "metadata": {},
     "output_type": "execute_result"
    }
   ],
   "source": [
    "'''\n",
    "feature_sets_path = './'\n",
    "feature_sets_filename = 'all_targets_mfcc_sets.npz'\n",
    "# Load feature sets\n",
    "feature_sets = np.load(os.path.join(feature_sets_path, feature_sets_filename))\n",
    "print(feature_sets.files)\n",
    "# Assign feature sets\n",
    "x_train = feature_sets['x_train']\n",
    "y_train = feature_sets['y_train']\n",
    "x_val = feature_sets['x_val']\n",
    "y_val = feature_sets['y_val']\n",
    "x_test = feature_sets['x_test']\n",
    "y_test = feature_sets['y_test']\n",
    "'''"
   ]
  },
  {
   "cell_type": "markdown",
   "metadata": {},
   "source": [
    "## 1. set parameter"
   ]
  },
  {
   "cell_type": "code",
   "execution_count": 29,
   "metadata": {},
   "outputs": [
    {
     "name": "stdout",
     "output_type": "stream",
     "text": [
      "(42275, 126, 257, 1)\n",
      "(42275,)\n",
      "(5280, 126, 257, 1)\n",
      "(5280,)\n",
      "(5284, 126, 257, 1)\n",
      "(5284,)\n"
     ]
    }
   ],
   "source": [
    "train_list = list(zip(x_train, y_train))\n",
    "random.shuffle(train_list)\n",
    "x_train, y_train = zip(*train_list)\n",
    "\n",
    "val_list = list(zip(x_val, y_val))\n",
    "random.shuffle(val_list)\n",
    "x_val, y_val = zip(*val_list)\n",
    "\n",
    "test_list = list(zip(x_test, y_test))\n",
    "random.shuffle(test_list)\n",
    "x_test, y_test = zip(*test_list)\n",
    "\n",
    "x_tn = np.array(x_train)\n",
    "y_tn = np.array(y_train)\n",
    "x_v = np.array(x_val)\n",
    "y_v = np.array(y_val)\n",
    "x_ts = np.array(x_test)\n",
    "y_ts = np.array(y_test)\n",
    "\n",
    "x_tn = np.expand_dims(x_tn, axis=-1)\n",
    "x_v = np.expand_dims(x_v, axis=-1)\n",
    "x_ts = np.expand_dims(x_ts, axis=-1)\n",
    "\n",
    "print (x_tn.shape)\n",
    "print (y_tn.shape)\n",
    "print (x_v.shape)\n",
    "print (y_v.shape)\n",
    "print (x_ts.shape)\n",
    "print (y_ts.shape)\n",
    "\n"
   ]
  },
  {
   "cell_type": "markdown",
   "metadata": {},
   "source": [
    "## 2. build model"
   ]
  },
  {
   "cell_type": "code",
   "execution_count": 30,
   "metadata": {},
   "outputs": [
    {
     "name": "stdout",
     "output_type": "stream",
     "text": [
      "Input shape: (126, 257, 1)\n",
      "Model: \"sequential\"\n",
      "_________________________________________________________________\n",
      "Layer (type)                 Output Shape              Param #   \n",
      "=================================================================\n",
      "conv2d (Conv2D)              (None, 124, 255, 32)      320       \n",
      "_________________________________________________________________\n",
      "conv2d_1 (Conv2D)            (None, 122, 253, 32)      9248      \n",
      "_________________________________________________________________\n",
      "conv2d_2 (Conv2D)            (None, 120, 251, 64)      18496     \n",
      "_________________________________________________________________\n",
      "max_pooling2d (MaxPooling2D) (None, 60, 125, 64)       0         \n",
      "_________________________________________________________________\n",
      "dropout (Dropout)            (None, 60, 125, 64)       0         \n",
      "_________________________________________________________________\n",
      "flatten (Flatten)            (None, 480000)            0         \n",
      "_________________________________________________________________\n",
      "dense (Dense)                (None, 128)               61440128  \n",
      "_________________________________________________________________\n",
      "dropout_1 (Dropout)          (None, 128)               0         \n",
      "_________________________________________________________________\n",
      "dense_1 (Dense)              (None, 6)                 774       \n",
      "=================================================================\n",
      "Total params: 61,468,966\n",
      "Trainable params: 61,468,966\n",
      "Non-trainable params: 0\n",
      "_________________________________________________________________\n"
     ]
    }
   ],
   "source": [
    "import tensorflow.keras\n",
    "from tensorflow.keras import layers\n",
    "from tensorflow.keras import models\n",
    "\n",
    "tmp = get_features(get_waveform(dataset_commands_filepaths[0]))\n",
    "tmp = np.expand_dims(tmp, axis=-1)\n",
    "input_shape = tmp.shape\n",
    "print('Input shape:', input_shape)\n",
    "num_labels = len(commands)\n",
    "\n",
    "model = models.Sequential([\n",
    "    layers.Input(shape=input_shape),\n",
    "    layers.Conv2D(32, 3, activation='relu'),\n",
    "    layers.Conv2D(32, 3, activation='relu'),\n",
    "    layers.Conv2D(64, 3, activation='relu'),\n",
    "    layers.MaxPooling2D(),\n",
    "    layers.Dropout(0.1),\n",
    "    layers.Flatten(),\n",
    "    layers.Dense(128, activation='relu'),\n",
    "    layers.Dropout(0.1),\n",
    "    layers.Dense(num_labels),\n",
    "])\n",
    "\n",
    "model.summary()"
   ]
  },
  {
   "cell_type": "code",
   "execution_count": 31,
   "metadata": {},
   "outputs": [],
   "source": [
    "model.compile(\n",
    "    optimizer=tf.keras.optimizers.Adam(),\n",
    "    loss=tf.keras.losses.SparseCategoricalCrossentropy(from_logits=True),\n",
    "    metrics=['accuracy'],\n",
    ")"
   ]
  },
  {
   "cell_type": "markdown",
   "metadata": {},
   "source": [
    "## 3. train"
   ]
  },
  {
   "cell_type": "code",
   "execution_count": 32,
   "metadata": {},
   "outputs": [
    {
     "name": "stdout",
     "output_type": "stream",
     "text": [
      "Epoch 1/500\n",
      "8455/8455 [==============================] - 3356s 397ms/step - loss: 0.6875 - accuracy: 0.7704 - val_loss: 0.3646 - val_accuracy: 0.8795\n",
      "Epoch 2/500\n",
      "8455/8455 [==============================] - 3333s 394ms/step - loss: 0.2670 - accuracy: 0.9028 - val_loss: 0.3191 - val_accuracy: 0.9011\n",
      "Epoch 3/500\n",
      "8455/8455 [==============================] - 3326s 393ms/step - loss: 0.1715 - accuracy: 0.9410 - val_loss: 0.2972 - val_accuracy: 0.9108\n",
      "Epoch 4/500\n",
      "8455/8455 [==============================] - 3322s 393ms/step - loss: 0.1187 - accuracy: 0.9618 - val_loss: 0.3394 - val_accuracy: 0.9148\n",
      "Epoch 5/500\n",
      "8455/8455 [==============================] - 3332s 394ms/step - loss: 0.0717 - accuracy: 0.9767 - val_loss: 0.5512 - val_accuracy: 0.9015\n",
      "Epoch 6/500\n",
      "8455/8455 [==============================] - 3341s 395ms/step - loss: 0.0557 - accuracy: 0.9838 - val_loss: 0.4772 - val_accuracy: 0.9097\n",
      "Epoch 00006: early stopping\n"
     ]
    }
   ],
   "source": [
    "EPOCHS = 500\n",
    "history = model.fit(\n",
    "    x_tn,y_tn,\n",
    "    validation_data=(x_v,y_v),\n",
    "    epochs=EPOCHS,\n",
    "    batch_size=5,\n",
    "    callbacks=tf.keras.callbacks.EarlyStopping(verbose=1, patience=3),\n",
    ")"
   ]
  },
  {
   "cell_type": "markdown",
   "metadata": {},
   "source": [
    "## 4. result"
   ]
  },
  {
   "cell_type": "code",
   "execution_count": null,
   "metadata": {},
   "outputs": [],
   "source": []
  },
  {
   "cell_type": "markdown",
   "metadata": {},
   "source": [
    "## 5. save"
   ]
  },
  {
   "cell_type": "code",
   "execution_count": 33,
   "metadata": {},
   "outputs": [],
   "source": [
    "model_filename = 'SpeechCommandRecognition_model.h5'\n",
    "# Save the model as a file\n",
    "models.save_model(model, model_filename)"
   ]
  },
  {
   "cell_type": "markdown",
   "metadata": {},
   "source": [
    "## 6. inference on test set"
   ]
  },
  {
   "cell_type": "code",
   "execution_count": null,
   "metadata": {},
   "outputs": [],
   "source": []
  },
  {
   "cell_type": "code",
   "execution_count": 34,
   "metadata": {},
   "outputs": [],
   "source": [
    "from tensorflow import lite\n",
    "from tensorflow.keras import models\n",
    "# Parameters\n",
    "keras_model_filename = 'SpeechCommandRecognition_model.h5'\n",
    "tflite_filename = 'SpeechCommandRecognition_model.tflite'"
   ]
  },
  {
   "cell_type": "code",
   "execution_count": 35,
   "metadata": {},
   "outputs": [
    {
     "name": "stdout",
     "output_type": "stream",
     "text": [
      "INFO:tensorflow:Assets written to: /tmp/tmpr4y0jb6b/assets\n"
     ]
    },
    {
     "name": "stderr",
     "output_type": "stream",
     "text": [
      "INFO:tensorflow:Assets written to: /tmp/tmpr4y0jb6b/assets\n"
     ]
    },
    {
     "data": {
      "text/plain": [
       "245879060"
      ]
     },
     "execution_count": 35,
     "metadata": {},
     "output_type": "execute_result"
    }
   ],
   "source": [
    "# Convert model to TF Lite model\n",
    "model = models.load_model(keras_model_filename)\n",
    "converter = lite.TFLiteConverter.from_keras_model(model)\n",
    "tflite_model = converter.convert()\n",
    "open(tflite_filename, 'wb').write(tflite_model)"
   ]
  },
  {
   "cell_type": "markdown",
   "metadata": {},
   "source": [
    "# dev"
   ]
  },
  {
   "cell_type": "code",
   "execution_count": 36,
   "metadata": {},
   "outputs": [
    {
     "name": "stdout",
     "output_type": "stream",
     "text": [
      "num of train_unknown_commands_features: 17360\n",
      "num of train_unknown_commands_label_id: 17360\n",
      "-\n",
      "num of val_unknown_commands_features: 2170\n",
      "num of val_unknown_commands_label_id: 2170\n",
      "-\n",
      "num of test_unknown_commands_features: 2170\n",
      "num of test_unknown_commands_label_id: 2170\n",
      "4995\n",
      "4\n"
     ]
    }
   ],
   "source": [
    "print ('num of train_unknown_commands_features:', len(train_unknown_commands_features))\n",
    "print ('num of train_unknown_commands_label_id:', len(train_unknown_commands_label_id))\n",
    "print('-')\n",
    "print ('num of val_unknown_commands_features:', len(val_unknown_commands_features))\n",
    "print ('num of val_unknown_commands_label_id:', len(val_unknown_commands_label_id))\n",
    "print('-')\n",
    "print ('num of test_unknown_commands_features:', len(test_unknown_commands_features))\n",
    "print ('num of test_unknown_commands_label_id:', len(test_unknown_commands_label_id)) \n",
    "i=random.randrange(0, len(train_unknown_commands_features))\n",
    "print (i)\n",
    "print (train_unknown_commands_label_id[i])"
   ]
  },
  {
   "cell_type": "code",
   "execution_count": 37,
   "metadata": {},
   "outputs": [
    {
     "name": "stdout",
     "output_type": "stream",
     "text": [
      "num of train_slience_commands_features: 12456\n",
      "num of train_slience_commands_label_id: 12456\n",
      "-\n",
      "num of val_slience_commands_features: 1554\n",
      "num of val_slience_commands_label_id: 1554\n",
      "-\n",
      "num of test_slience_commands_features: 1554\n",
      "num of test_slience_commands_label_id: 1554\n",
      "5246\n",
      "5\n"
     ]
    }
   ],
   "source": [
    "print ('num of train_slience_commands_features:', len(train_slience_commands_features))\n",
    "print ('num of train_slience_commands_label_id:', len(train_slience_commands_label_id))\n",
    "print('-')\n",
    "print ('num of val_slience_commands_features:', len(val_slience_commands_features))\n",
    "print ('num of val_slience_commands_label_id:', len(val_slience_commands_label_id))\n",
    "print('-')\n",
    "print ('num of test_slience_commands_features:', len(test_slience_commands_features))\n",
    "print ('num of test_slience_commands_label_id:', len(test_slience_commands_label_id)) \n",
    "\n",
    "i=random.randrange(0, len(train_slience_commands_features))\n",
    "print (i)\n",
    "print (train_slience_commands_label_id[i])"
   ]
  },
  {
   "cell_type": "code",
   "execution_count": null,
   "metadata": {},
   "outputs": [],
   "source": []
  }
 ],
 "metadata": {
  "kernelspec": {
   "display_name": "Python 3",
   "language": "python",
   "name": "python3"
  },
  "language_info": {
   "codemirror_mode": {
    "name": "ipython",
    "version": 3
   },
   "file_extension": ".py",
   "mimetype": "text/x-python",
   "name": "python",
   "nbconvert_exporter": "python",
   "pygments_lexer": "ipython3",
   "version": "3.6.9"
  }
 },
 "nbformat": 4,
 "nbformat_minor": 2
}
