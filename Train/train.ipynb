{
 "cells": [
  {
   "cell_type": "markdown",
   "metadata": {},
   "source": [
    "# 0. Environment"
   ]
  },
  {
   "cell_type": "markdown",
   "metadata": {},
   "source": [
    "## 0-1. check and install"
   ]
  },
  {
   "cell_type": "code",
   "execution_count": 1,
   "metadata": {},
   "outputs": [
    {
     "name": "stdout",
     "output_type": "stream",
     "text": [
      "Python 3.8.10\r\n"
     ]
    }
   ],
   "source": [
    "!python --version"
   ]
  },
  {
   "cell_type": "code",
   "execution_count": 2,
   "metadata": {},
   "outputs": [
    {
     "name": "stdout",
     "output_type": "stream",
     "text": [
      "tensorflow version: 2.6.1\n"
     ]
    }
   ],
   "source": [
    "import tensorflow as tf\n",
    "print('tensorflow version:', tf.__version__)"
   ]
  },
  {
   "cell_type": "code",
   "execution_count": 3,
   "metadata": {},
   "outputs": [
    {
     "name": "stdout",
     "output_type": "stream",
     "text": [
      "Get:1 http://security.ubuntu.com/ubuntu focal-security InRelease [114 kB]      \u001b[0m\n",
      "Ign:2 https://developer.download.nvidia.com/compute/cuda/repos/ubuntu2004/x86_64  InRelease\n",
      "Hit:3 http://archive.ubuntu.com/ubuntu focal InRelease   \u001b[0m                \n",
      "Get:4 http://archive.ubuntu.com/ubuntu focal-updates InRelease [114 kB]        \u001b[0m\n",
      "Ign:5 https://developer.download.nvidia.com/compute/machine-learning/repos/ubuntu2004/x86_64  InRelease\n",
      "Ign:6 https://developer.download.nvidia.com/compute/machine-learning/repos/ubuntu1804/x86_64  InRelease\n",
      "Hit:7 https://developer.download.nvidia.com/compute/cuda/repos/ubuntu2004/x86_64  Release\n",
      "Hit:8 https://developer.download.nvidia.com/compute/machine-learning/repos/ubuntu2004/x86_64  Release\n",
      "Hit:9 https://developer.download.nvidia.com/compute/machine-learning/repos/ubuntu1804/x86_64  Release\n",
      "Get:12 http://archive.ubuntu.com/ubuntu focal-backports InRelease [108 kB]\n",
      "Fetched 336 kB in 3s (124 kB/s)     \u001b[0m33m\u001b[33m\u001b[33m\u001b[33m\n",
      "Reading package lists... Done\n",
      "Building dependency tree       \n",
      "Reading state information... Done\n",
      "73 packages can be upgraded. Run 'apt list --upgradable' to see them.\n",
      "Reading package lists... Done\n",
      "Building dependency tree       \n",
      "Reading state information... Done\n",
      "wget is already the newest version (1.20.3-1ubuntu2).\n",
      "0 upgraded, 0 newly installed, 0 to remove and 73 not upgraded.\n",
      "Reading package lists... Done\n",
      "Building dependency tree       \n",
      "Reading state information... Done\n",
      "libsndfile1-dev is already the newest version (1.0.28-7ubuntu0.1).\n",
      "0 upgraded, 0 newly installed, 0 to remove and 73 not upgraded.\n"
     ]
    }
   ],
   "source": [
    "!apt update\n",
    "!apt install wget\n",
    "!apt install libsndfile1-dev -y"
   ]
  },
  {
   "cell_type": "code",
   "execution_count": 4,
   "metadata": {},
   "outputs": [
    {
     "name": "stdout",
     "output_type": "stream",
     "text": [
      "Requirement already satisfied: pip in /usr/local/lib/python3.8/dist-packages (22.0.4)\n",
      "\u001b[33mWARNING: Running pip as the 'root' user can result in broken permissions and conflicting behaviour with the system package manager. It is recommended to use a virtual environment instead: https://pip.pypa.io/warnings/venv\u001b[0m\u001b[33m\n",
      "\u001b[0mRequirement already satisfied: librosa in /usr/local/lib/python3.8/dist-packages (0.9.1)\n",
      "Requirement already satisfied: scipy>=1.2.0 in /usr/local/lib/python3.8/dist-packages (from librosa) (1.8.0)\n",
      "Requirement already satisfied: numpy>=1.17.0 in /usr/local/lib/python3.8/dist-packages (from librosa) (1.19.5)\n",
      "Requirement already satisfied: packaging>=20.0 in /usr/local/lib/python3.8/dist-packages (from librosa) (21.2)\n",
      "Requirement already satisfied: resampy>=0.2.2 in /usr/local/lib/python3.8/dist-packages (from librosa) (0.2.2)\n",
      "Requirement already satisfied: soundfile>=0.10.2 in /usr/local/lib/python3.8/dist-packages (from librosa) (0.10.3.post1)\n",
      "Requirement already satisfied: pooch>=1.0 in /usr/local/lib/python3.8/dist-packages (from librosa) (1.6.0)\n",
      "Requirement already satisfied: numba>=0.45.1 in /usr/local/lib/python3.8/dist-packages (from librosa) (0.55.1)\n",
      "Requirement already satisfied: audioread>=2.1.5 in /usr/local/lib/python3.8/dist-packages (from librosa) (2.1.9)\n",
      "Requirement already satisfied: decorator>=4.0.10 in /usr/local/lib/python3.8/dist-packages (from librosa) (5.1.0)\n",
      "Requirement already satisfied: scikit-learn>=0.19.1 in /usr/local/lib/python3.8/dist-packages (from librosa) (1.0.2)\n",
      "Requirement already satisfied: joblib>=0.14 in /usr/local/lib/python3.8/dist-packages (from librosa) (1.1.0)\n",
      "Requirement already satisfied: setuptools in /usr/local/lib/python3.8/dist-packages (from numba>=0.45.1->librosa) (58.4.0)\n",
      "Requirement already satisfied: llvmlite<0.39,>=0.38.0rc1 in /usr/local/lib/python3.8/dist-packages (from numba>=0.45.1->librosa) (0.38.0)\n",
      "Requirement already satisfied: pyparsing<3,>=2.0.2 in /usr/local/lib/python3.8/dist-packages (from packaging>=20.0->librosa) (2.4.7)\n",
      "Requirement already satisfied: appdirs>=1.3.0 in /usr/local/lib/python3.8/dist-packages (from pooch>=1.0->librosa) (1.4.4)\n",
      "Requirement already satisfied: requests>=2.19.0 in /usr/lib/python3/dist-packages (from pooch>=1.0->librosa) (2.22.0)\n",
      "Requirement already satisfied: six>=1.3 in /usr/local/lib/python3.8/dist-packages (from resampy>=0.2.2->librosa) (1.15.0)\n",
      "Requirement already satisfied: threadpoolctl>=2.0.0 in /usr/local/lib/python3.8/dist-packages (from scikit-learn>=0.19.1->librosa) (3.1.0)\n",
      "Requirement already satisfied: cffi>=1.0 in /usr/local/lib/python3.8/dist-packages (from soundfile>=0.10.2->librosa) (1.15.0)\n",
      "Requirement already satisfied: pycparser in /usr/local/lib/python3.8/dist-packages (from cffi>=1.0->soundfile>=0.10.2->librosa) (2.20)\n",
      "\u001b[33mWARNING: Running pip as the 'root' user can result in broken permissions and conflicting behaviour with the system package manager. It is recommended to use a virtual environment instead: https://pip.pypa.io/warnings/venv\u001b[0m\u001b[33m\n",
      "\u001b[0mRequirement already satisfied: python_speech_features in /usr/local/lib/python3.8/dist-packages (0.6)\n",
      "\u001b[33mWARNING: Running pip as the 'root' user can result in broken permissions and conflicting behaviour with the system package manager. It is recommended to use a virtual environment instead: https://pip.pypa.io/warnings/venv\u001b[0m\u001b[33m\n",
      "\u001b[0mRequirement already satisfied: seaborn in /usr/local/lib/python3.8/dist-packages (0.11.2)\n",
      "Requirement already satisfied: matplotlib>=2.2 in /usr/local/lib/python3.8/dist-packages (from seaborn) (3.4.3)\n",
      "Requirement already satisfied: scipy>=1.0 in /usr/local/lib/python3.8/dist-packages (from seaborn) (1.8.0)\n",
      "Requirement already satisfied: numpy>=1.15 in /usr/local/lib/python3.8/dist-packages (from seaborn) (1.19.5)\n",
      "Requirement already satisfied: pandas>=0.23 in /usr/local/lib/python3.8/dist-packages (from seaborn) (1.4.2)\n",
      "Requirement already satisfied: cycler>=0.10 in /usr/local/lib/python3.8/dist-packages (from matplotlib>=2.2->seaborn) (0.11.0)\n",
      "Requirement already satisfied: kiwisolver>=1.0.1 in /usr/local/lib/python3.8/dist-packages (from matplotlib>=2.2->seaborn) (1.3.2)\n",
      "Requirement already satisfied: pyparsing>=2.2.1 in /usr/local/lib/python3.8/dist-packages (from matplotlib>=2.2->seaborn) (2.4.7)\n",
      "Requirement already satisfied: python-dateutil>=2.7 in /usr/local/lib/python3.8/dist-packages (from matplotlib>=2.2->seaborn) (2.8.2)\n",
      "Requirement already satisfied: pillow>=6.2.0 in /usr/local/lib/python3.8/dist-packages (from matplotlib>=2.2->seaborn) (8.4.0)\n",
      "Requirement already satisfied: pytz>=2020.1 in /usr/local/lib/python3.8/dist-packages (from pandas>=0.23->seaborn) (2022.1)\n",
      "Requirement already satisfied: six>=1.5 in /usr/local/lib/python3.8/dist-packages (from python-dateutil>=2.7->matplotlib>=2.2->seaborn) (1.15.0)\n",
      "\u001b[33mWARNING: Running pip as the 'root' user can result in broken permissions and conflicting behaviour with the system package manager. It is recommended to use a virtual environment instead: https://pip.pypa.io/warnings/venv\u001b[0m\u001b[33m\n",
      "\u001b[0m"
     ]
    }
   ],
   "source": [
    "!python -m pip install --upgrade pip \n",
    "!python -m pip install librosa\n",
    "!python -m pip install python_speech_features\n",
    "!python -m pip install seaborn"
   ]
  },
  {
   "cell_type": "markdown",
   "metadata": {},
   "source": [
    "## 0-2. set parameter"
   ]
  },
  {
   "cell_type": "code",
   "execution_count": 5,
   "metadata": {},
   "outputs": [],
   "source": [
    "# set dataset path\n",
    "dataset_path = './data_speech_commands_v002'"
   ]
  },
  {
   "cell_type": "markdown",
   "metadata": {},
   "source": [
    "# 1. Prepare dataset"
   ]
  },
  {
   "cell_type": "markdown",
   "metadata": {},
   "source": [
    "## 1-1. get dataset"
   ]
  },
  {
   "cell_type": "code",
   "execution_count": 6,
   "metadata": {},
   "outputs": [],
   "source": [
    "import os\n",
    "# get speech_commands from google's server\n",
    "if not os.path.exists(dataset_path):\n",
    "    if not os.path.isfile('speech_commands_v0.02.tar.gz') :\n",
    "        !wget https://storage.googleapis.com/download.tensorflow.org/data/speech_commands_v0.02.tar.gz\n",
    "    !mkdir data_speech_commands_v002\n",
    "    !tar zxvf \"./speech_commands_v0.02.tar.gz\" --directory data_speech_commands_v002"
   ]
  },
  {
   "cell_type": "markdown",
   "metadata": {},
   "source": [
    "## 1-2. dataset details"
   ]
  },
  {
   "cell_type": "code",
   "execution_count": 7,
   "metadata": {},
   "outputs": [
    {
     "name": "stdout",
     "output_type": "stream",
     "text": [
      "dataset_dirslist: ['testing_list.txt' 'wow' 'yes' 'dog' 'go' 'off' 'on' 'visual' 'up' 'left'\n",
      " 'one' 'eight' 'no' 'learn' 'backward' 'follow' 'stop' 'cat' 'four' 'bed'\n",
      " 'marvin' 'nine' 'three' 'README.md' 'house' 'bird' 'happy' 'down' 'zero'\n",
      " '_background_noise_' 'validation_list.txt' 'six' 'LICENSE' 'tree' 'right'\n",
      " 'five' 'two' '.DS_Store' 'sheila' 'seven' 'forward'] , num:  41\n",
      "-\n",
      "dataset_commands_dirslist: ['wow' 'yes' 'dog' 'go' 'off' 'on' 'visual' 'up' 'left' 'one' 'eight' 'no'\n",
      " 'learn' 'backward' 'follow' 'stop' 'cat' 'four' 'bed' 'marvin' 'nine'\n",
      " 'three' 'house' 'bird' 'happy' 'down' 'zero' 'six' 'tree' 'right' 'five'\n",
      " 'two' 'sheila' 'seven' 'forward'] , num:  35\n"
     ]
    }
   ],
   "source": [
    "import numpy as np\n",
    "# list the folders in the dataset\n",
    "dataset_dirslist = np.array(tf.io.gfile.listdir(str(dataset_path)))\n",
    "print ('dataset_dirslist:', dataset_dirslist,', num: ' , len(dataset_dirslist))\n",
    "print('-')\n",
    "\n",
    "# delete the files and folders which don't contain the trainable command folders from the list\n",
    "dataset_commands_dirslist = dataset_dirslist\n",
    "dataset_commands_dirslist = dataset_commands_dirslist[dataset_commands_dirslist != 'README.md']\n",
    "dataset_commands_dirslist = dataset_commands_dirslist[dataset_commands_dirslist != '.DS_Store']\n",
    "dataset_commands_dirslist = dataset_commands_dirslist[dataset_commands_dirslist != 'validation_list.txt']\n",
    "dataset_commands_dirslist = dataset_commands_dirslist[dataset_commands_dirslist != 'testing_list.txt']\n",
    "dataset_commands_dirslist = dataset_commands_dirslist[dataset_commands_dirslist != 'LICENSE']\n",
    "dataset_commands_dirslist = dataset_commands_dirslist[dataset_commands_dirslist != '_background_noise_']\n",
    "print ('dataset_commands_dirslist:', dataset_commands_dirslist,', num: ' , len(dataset_commands_dirslist))"
   ]
  },
  {
   "cell_type": "markdown",
   "metadata": {},
   "source": [
    "## 1-3. dataset commands filepaths"
   ]
  },
  {
   "cell_type": "code",
   "execution_count": 8,
   "metadata": {},
   "outputs": [
    {
     "name": "stdout",
     "output_type": "stream",
     "text": [
      "dataset_commands_dir: ./data_speech_commands_v002/wow/*\n",
      "file num of wow : 2123\n",
      "-\n",
      "dataset_commands_dir: ./data_speech_commands_v002/yes/*\n",
      "file num of yes : 4044\n",
      "-\n",
      "dataset_commands_dir: ./data_speech_commands_v002/dog/*\n",
      "file num of dog : 2128\n",
      "-\n",
      "dataset_commands_dir: ./data_speech_commands_v002/go/*\n",
      "file num of go : 3880\n",
      "-\n",
      "dataset_commands_dir: ./data_speech_commands_v002/off/*\n",
      "file num of off : 3745\n",
      "-\n",
      "dataset_commands_dir: ./data_speech_commands_v002/on/*\n",
      "file num of on : 3845\n",
      "-\n",
      "dataset_commands_dir: ./data_speech_commands_v002/visual/*\n",
      "file num of visual : 1592\n",
      "-\n",
      "dataset_commands_dir: ./data_speech_commands_v002/up/*\n",
      "file num of up : 3723\n",
      "-\n",
      "dataset_commands_dir: ./data_speech_commands_v002/left/*\n",
      "file num of left : 3801\n",
      "-\n",
      "dataset_commands_dir: ./data_speech_commands_v002/one/*\n",
      "file num of one : 3890\n",
      "-\n",
      "dataset_commands_dir: ./data_speech_commands_v002/eight/*\n",
      "file num of eight : 3787\n",
      "-\n",
      "dataset_commands_dir: ./data_speech_commands_v002/no/*\n",
      "file num of no : 3941\n",
      "-\n",
      "dataset_commands_dir: ./data_speech_commands_v002/learn/*\n",
      "file num of learn : 1575\n",
      "-\n",
      "dataset_commands_dir: ./data_speech_commands_v002/backward/*\n",
      "file num of backward : 1664\n",
      "-\n",
      "dataset_commands_dir: ./data_speech_commands_v002/follow/*\n",
      "file num of follow : 1579\n",
      "-\n",
      "dataset_commands_dir: ./data_speech_commands_v002/stop/*\n",
      "file num of stop : 3872\n",
      "-\n",
      "dataset_commands_dir: ./data_speech_commands_v002/cat/*\n",
      "file num of cat : 2031\n",
      "-\n",
      "dataset_commands_dir: ./data_speech_commands_v002/four/*\n",
      "file num of four : 3728\n",
      "-\n",
      "dataset_commands_dir: ./data_speech_commands_v002/bed/*\n",
      "file num of bed : 2014\n",
      "-\n",
      "dataset_commands_dir: ./data_speech_commands_v002/marvin/*\n",
      "file num of marvin : 2100\n",
      "-\n",
      "dataset_commands_dir: ./data_speech_commands_v002/nine/*\n",
      "file num of nine : 3934\n",
      "-\n",
      "dataset_commands_dir: ./data_speech_commands_v002/three/*\n",
      "file num of three : 3727\n",
      "-\n",
      "dataset_commands_dir: ./data_speech_commands_v002/house/*\n",
      "file num of house : 2113\n",
      "-\n",
      "dataset_commands_dir: ./data_speech_commands_v002/bird/*\n",
      "file num of bird : 2064\n",
      "-\n",
      "dataset_commands_dir: ./data_speech_commands_v002/happy/*\n",
      "file num of happy : 2054\n",
      "-\n",
      "dataset_commands_dir: ./data_speech_commands_v002/down/*\n",
      "file num of down : 3917\n",
      "-\n",
      "dataset_commands_dir: ./data_speech_commands_v002/zero/*\n",
      "file num of zero : 4052\n",
      "-\n",
      "dataset_commands_dir: ./data_speech_commands_v002/six/*\n",
      "file num of six : 3860\n",
      "-\n",
      "dataset_commands_dir: ./data_speech_commands_v002/tree/*\n",
      "file num of tree : 1759\n",
      "-\n",
      "dataset_commands_dir: ./data_speech_commands_v002/right/*\n",
      "file num of right : 3778\n",
      "-\n",
      "dataset_commands_dir: ./data_speech_commands_v002/five/*\n",
      "file num of five : 4052\n",
      "-\n",
      "dataset_commands_dir: ./data_speech_commands_v002/two/*\n",
      "file num of two : 3880\n",
      "-\n",
      "dataset_commands_dir: ./data_speech_commands_v002/sheila/*\n",
      "file num of sheila : 2022\n",
      "-\n",
      "dataset_commands_dir: ./data_speech_commands_v002/seven/*\n",
      "file num of seven : 3998\n",
      "-\n",
      "dataset_commands_dir: ./data_speech_commands_v002/forward/*\n",
      "file num of forward : 1557\n",
      "-\n",
      "num of dataset_commands_filepaths: 35\n",
      "num of dataset_commands_filepaths: 105829\n",
      "tmp_sample of dataset_commands_filepaths: ./data_speech_commands_v002/nine/ced4e2a1_nohash_0.wav\n"
     ]
    }
   ],
   "source": [
    "import random\n",
    "# list the num of audio files in each command folder\n",
    "dataset_commands_filepaths = []\n",
    "for item in dataset_commands_dirslist:\n",
    "    dataset_commands_dir = os.path.join(dataset_path, item,'*')\n",
    "    print('dataset_commands_dir:', dataset_commands_dir)\n",
    "    fileslist = tf.io.gfile.glob(dataset_commands_dir)\n",
    "    print('file num of',item,':', len(fileslist))\n",
    "    dataset_commands_filepaths.extend(fileslist)\n",
    "    print('-')\n",
    "print('num of dataset_commands_filepaths:', len(dataset_commands_dirslist))\n",
    "print('num of dataset_commands_filepaths:', len(dataset_commands_filepaths))\n",
    "tmp_sample = dataset_commands_filepaths[random.randrange(len(dataset_commands_filepaths))]\n",
    "print('tmp_sample of dataset_commands_filepaths:', tmp_sample)"
   ]
  },
  {
   "cell_type": "markdown",
   "metadata": {},
   "source": [
    "# 2. Audio Preporcess"
   ]
  },
  {
   "cell_type": "markdown",
   "metadata": {},
   "source": [
    "## 2-1. function"
   ]
  },
  {
   "cell_type": "markdown",
   "metadata": {},
   "source": [
    "### 2-1-1. split num"
   ]
  },
  {
   "cell_type": "code",
   "execution_count": 9,
   "metadata": {},
   "outputs": [],
   "source": [
    "# get the start index to split the dataset  \n",
    "def get_split_num(train_ratio = 0.8, val_ratio = 0.1, test_ratio = 0.1, file_num = 0):\n",
    "    #get train , val, test num\n",
    "    train_num = int( file_num * train_ratio )\n",
    "    val_num = int( file_num * val_ratio )\n",
    "    test_num = file_num - train_num - val_num \n",
    "\n",
    "    #get train , val, test first_num\n",
    "    train_first_num = 0\n",
    "    val_first_num = train_num\n",
    "    test_first_num = train_num + val_num\n",
    "    \n",
    "    return train_first_num, val_first_num, test_first_num"
   ]
  },
  {
   "cell_type": "markdown",
   "metadata": {},
   "source": [
    "### 2-1-2. label"
   ]
  },
  {
   "cell_type": "code",
   "execution_count": 10,
   "metadata": {},
   "outputs": [],
   "source": [
    "# get label from the filepath of audio file\n",
    "def get_label(filepath):\n",
    "    split_1=os.path.split(filepath)\n",
    "    split_2=os.path.split(split_1[0])\n",
    "    return split_2[1]"
   ]
  },
  {
   "cell_type": "code",
   "execution_count": 11,
   "metadata": {},
   "outputs": [
    {
     "name": "stdout",
     "output_type": "stream",
     "text": [
      "get_label(tmp_sample):\n",
      "<class 'str'>\n",
      "nine\n"
     ]
    }
   ],
   "source": [
    "tmp = get_label(tmp_sample)\n",
    "print ('get_label(tmp_sample):')\n",
    "print (type(tmp))\n",
    "print (tmp)"
   ]
  },
  {
   "cell_type": "markdown",
   "metadata": {},
   "source": [
    "### 2-1-3. waveform"
   ]
  },
  {
   "cell_type": "code",
   "execution_count": 12,
   "metadata": {},
   "outputs": [],
   "source": [
    "import librosa\n",
    "# load waveform from the filepath\n",
    "def get_waveform(filepath):\n",
    "    sample_rate = 16000\n",
    "    waveform, fs = librosa.load(filepath, sr=sample_rate)\n",
    "    return waveform"
   ]
  },
  {
   "cell_type": "code",
   "execution_count": 13,
   "metadata": {},
   "outputs": [
    {
     "name": "stdout",
     "output_type": "stream",
     "text": [
      "get_waveform(tmp_sample):\n",
      "<class 'numpy.ndarray'>\n",
      "(16000,)\n",
      "[-0.00146484 -0.00350952 -0.00314331 ... -0.00646973 -0.00567627\n",
      " -0.00570679]\n"
     ]
    },
    {
     "data": {
      "image/png": "[encoded data removed]",
      "text/plain": [
       "<Figure size 640x480 with 1 Axes>"
      ]
     },
     "metadata": {},
     "output_type": "display_data"
    },
    {
     "data": {
      "text/html": [
       "\n",
       "                <audio  controls=\"controls\" >\n",
       "                    <source src=\"data:audio/wav;base64,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\" type=\"audio/wav\" />\n",
       "                    Your browser does not support the audio element.\n",
       "                </audio>\n",
       "              "
      ],
      "text/plain": [
       "<IPython.lib.display.Audio object>"
      ]
     },
     "metadata": {},
     "output_type": "display_data"
    }
   ],
   "source": [
    "from IPython import display\n",
    "import matplotlib.pyplot as plt\n",
    "tmp = get_waveform(tmp_sample)\n",
    "print ('get_waveform(tmp_sample):')\n",
    "print (type(tmp))\n",
    "print (tmp.shape)\n",
    "print (tmp)\n",
    "sample_rate = 16000\n",
    "plt.plot(np.arange(sample_rate), tmp)\n",
    "plt.show()\n",
    "display.display(display.Audio(tmp, rate=sample_rate))"
   ]
  },
  {
   "cell_type": "markdown",
   "metadata": {},
   "source": [
    "### 2-1-4. label id"
   ]
  },
  {
   "cell_type": "code",
   "execution_count": 14,
   "metadata": {},
   "outputs": [],
   "source": [
    "# get label id from label and command_list\n",
    "def get_label_id(label,command_list):\n",
    "    label_id = np.argmax(label==command_list)\n",
    "    return label_id"
   ]
  },
  {
   "cell_type": "code",
   "execution_count": 15,
   "metadata": {},
   "outputs": [
    {
     "name": "stdout",
     "output_type": "stream",
     "text": [
      "get_label_id(get_label(tmp_sample):\n",
      "<class 'numpy.int64'>\n",
      "20\n"
     ]
    }
   ],
   "source": [
    "tmp = get_label_id(get_label(tmp_sample),dataset_commands_dirslist)\n",
    "print ('get_label_id(get_label(tmp_sample):')\n",
    "print (type(tmp))\n",
    "print (tmp)"
   ]
  },
  {
   "cell_type": "markdown",
   "metadata": {},
   "source": [
    "### 2-1-5. MFCC-python_speech_features"
   ]
  },
  {
   "cell_type": "code",
   "execution_count": 16,
   "metadata": {},
   "outputs": [],
   "source": [
    "import python_speech_features\n",
    "import matplotlib.pyplot as plt\n",
    "def get_features_psf(waveform):\n",
    "    # Zero-padding for an audio waveform with less than 16,000 samples.\n",
    "    # input_len = 16000\n",
    "    # waveform = waveform[:input_len]\n",
    "    # np.shape(waveform) =  (16000,)\n",
    "    zero_padding = np.zeros( (16000-np.shape(waveform)[0],), dtype=np.float32)\n",
    "    # Cast the waveform tensors with np.float32\n",
    "    waveform = np.cast['float32'](waveform)\n",
    "    # Concatenate the waveform with `zero_padding`, which ensures all audio clips are of the same length.\n",
    "    equal_length = np.concatenate([waveform, zero_padding], 0)\n",
    "    \n",
    "    sample_rate = 16000\n",
    "    num_mfcc = 16\n",
    "    len_mfcc = 40\n",
    "    mfccs = python_speech_features.base.mfcc(equal_length, \n",
    "                                            samplerate=sample_rate,\n",
    "                                            winlen=0.256,\n",
    "                                            winstep=0.050,\n",
    "                                            numcep=num_mfcc,\n",
    "                                            nfilt=26,\n",
    "                                            nfft=4096,\n",
    "                                            preemph=0.0,\n",
    "                                            ceplifter=0,\n",
    "                                            appendEnergy=False,\n",
    "                                            winfunc=np.hanning)\n",
    "    return mfccs.transpose()"
   ]
  },
  {
   "cell_type": "code",
   "execution_count": 17,
   "metadata": {},
   "outputs": [
    {
     "name": "stdout",
     "output_type": "stream",
     "text": [
      "get_features_psf(get_waveform(tmp_sample)):\n",
      "type: <class 'numpy.ndarray'>\n",
      "shape: (16, 16)\n"
     ]
    },
    {
     "data": {
      "image/png": "[encoded data removed]",
      "text/plain": [
       "<Figure size 640x480 with 1 Axes>"
      ]
     },
     "metadata": {},
     "output_type": "display_data"
    }
   ],
   "source": [
    "tmp = get_features_psf(get_waveform(tmp_sample))\n",
    "print ('get_features_psf(get_waveform(tmp_sample)):')\n",
    "print ('type:',type(tmp))\n",
    "print ('shape:',tmp.shape)\n",
    "#print (tmp)\n",
    "fig = plt.figure()\n",
    "plt.imshow(tmp, cmap='inferno', origin='lower')\n",
    "plt.show()"
   ]
  },
  {
   "cell_type": "markdown",
   "metadata": {},
   "source": [
    "### 2-1-5. MFCC-librosa.feature.mfcc"
   ]
  },
  {
   "cell_type": "code",
   "execution_count": 51,
   "metadata": {},
   "outputs": [],
   "source": [
    "import librosa\n",
    "import matplotlib.pyplot as plt\n",
    "\n",
    "\n",
    "def get_features(waveform):\n",
    "    # Zero-padding for an audio waveform with less than 16,000 samples.\n",
    "    # input_len = 16000\n",
    "    # waveform = waveform[:input_len]\n",
    "    # np.shape(waveform) =  (16000,)\n",
    "    zero_padding = np.zeros( (16000-np.shape(waveform)[0],), dtype=np.float32)\n",
    "    # Cast the waveform tensors with np.float32\n",
    "    waveform = np.cast['float32'](waveform)\n",
    "    # Concatenate the waveform with `zero_padding`, which ensures all audio clips are of the same length.\n",
    "    equal_length_waveform = np.concatenate([waveform, zero_padding], 0)\n",
    "        \n",
    "    \n",
    "    sr = 16000\n",
    "    n_mfcc = 64\n",
    "    n_mels = 64\n",
    "    n_fft = 512 \n",
    "    window_stride = 0.01\n",
    "    hop_length = int(sr*window_stride)\n",
    "    fmin = 0\n",
    "    fmax = None\n",
    "    \n",
    "    \n",
    "    mfcc_librosa = librosa.feature.mfcc(y=equal_length_waveform, sr=sr, n_fft=n_fft,\n",
    "                                        n_mfcc=n_mfcc, n_mels=n_mels,\n",
    "                                        hop_length=hop_length,\n",
    "                                        fmin=fmin, fmax=fmax, htk=False)\n",
    "    \n",
    "    return mfcc_librosa"
   ]
  },
  {
   "cell_type": "code",
   "execution_count": 19,
   "metadata": {},
   "outputs": [
    {
     "name": "stdout",
     "output_type": "stream",
     "text": [
      "get_features(get_waveform(tmp_sample)):\n",
      "type: <class 'numpy.ndarray'>\n",
      "shape: (64, 101)\n"
     ]
    },
    {
     "data": {
      "image/png": "[encoded data removed]",
      "text/plain": [
       "<Figure size 640x480 with 1 Axes>"
      ]
     },
     "metadata": {},
     "output_type": "display_data"
    }
   ],
   "source": [
    "tmp = get_features(get_waveform(tmp_sample))\n",
    "print ('get_features(get_waveform(tmp_sample)):')\n",
    "print ('type:',type(tmp))\n",
    "print ('shape:',tmp.shape)\n",
    "#print (tmp)\n",
    "fig = plt.figure()\n",
    "plt.imshow(tmp, cmap='inferno', origin='lower')\n",
    "plt.show()"
   ]
  },
  {
   "cell_type": "markdown",
   "metadata": {},
   "source": [
    "## 2-2. Preporcess set commands"
   ]
  },
  {
   "cell_type": "code",
   "execution_count": 20,
   "metadata": {},
   "outputs": [],
   "source": [
    "x_train = []\n",
    "y_train = []\n",
    "x_val = []\n",
    "y_val = []\n",
    "x_test = []\n",
    "y_test = []"
   ]
  },
  {
   "cell_type": "markdown",
   "metadata": {},
   "source": [
    "### 2-2-1. get set command filepaths"
   ]
  },
  {
   "cell_type": "code",
   "execution_count": 21,
   "metadata": {},
   "outputs": [
    {
     "name": "stdout",
     "output_type": "stream",
     "text": [
      "set_commands_dir: ./data_speech_commands_v002/yes/*\n",
      "file num : 4044\n",
      "-\n",
      "set_commands_dir: ./data_speech_commands_v002/no/*\n",
      "file num : 3941\n",
      "-\n",
      "set_commands_dir: ./data_speech_commands_v002/up/*\n",
      "file num : 3723\n",
      "-\n",
      "set_commands_dir: ./data_speech_commands_v002/down/*\n",
      "file num : 3917\n",
      "-\n",
      "set_commands_dir: ./data_speech_commands_v002/left/*\n",
      "file num : 3801\n",
      "-\n",
      "set_commands_dir: ./data_speech_commands_v002/right/*\n",
      "file num : 3778\n",
      "-\n",
      "set_commands_dir: ./data_speech_commands_v002/on/*\n",
      "file num : 3845\n",
      "-\n",
      "set_commands_dir: ./data_speech_commands_v002/off/*\n",
      "file num : 3745\n",
      "-\n",
      "set_commands_dir: ./data_speech_commands_v002/stop/*\n",
      "file num : 3872\n",
      "-\n",
      "set_commands_dir: ./data_speech_commands_v002/go/*\n",
      "file num : 3880\n",
      "-\n",
      "num of train_set_commands_filepaths: 30833\n",
      "num of val_set_commands_filepaths: 3851\n",
      "num of test_set_commands_filepaths: 3862\n",
      "total of set_commands_filepaths: 38546\n",
      "sample of train_set_commands_filepaths: ./data_speech_commands_v002/yes/bfd26d6b_nohash_3.wav\n"
     ]
    }
   ],
   "source": [
    "import random\n",
    "random.seed(66)\n",
    "\n",
    "# set want commands\n",
    "commands = np.array([\"yes\",\"no\",\"up\",\"down\",\"left\",\"right\",\"on\",\"off\",\"stop\",\"go\"])\n",
    "\n",
    "train_set_commands_filepaths = []\n",
    "val_set_commands_filepaths = []\n",
    "test_set_commands_filepaths = []\n",
    "\n",
    "# get set commands\n",
    "set_commands_dirslist = commands\n",
    "# get the filepaths and split to train, val, test every command\n",
    "for item in set_commands_dirslist:\n",
    "    # join the dataset_path and command\n",
    "    set_commands_dir = os.path.join(dataset_path, item,'*')\n",
    "    print('set_commands_dir:', set_commands_dir)\n",
    "    \n",
    "    # list the set command filepaths in each dir\n",
    "    fileslist = tf.io.gfile.glob(set_commands_dir)\n",
    "    random.shuffle(fileslist)\n",
    "    print('file num :', len(fileslist))\n",
    "    print('-')\n",
    "    \n",
    "    # split the filslist to train, val, test\n",
    "    train, val, test = get_split_num(0.8, 0.1, 0.1, len(fileslist))\n",
    "    train_set_commands_filepaths.extend(fileslist[:val])\n",
    "    val_set_commands_filepaths.extend(fileslist[val:test])\n",
    "    test_set_commands_filepaths.extend(fileslist[test:])  \n",
    "# get the num of all tarinable audio files\n",
    "total_set_commands_num = len(train_set_commands_filepaths)+len(val_set_commands_filepaths)+len(test_set_commands_filepaths)\n",
    "    \n",
    "print('num of train_set_commands_filepaths:', len(train_set_commands_filepaths))\n",
    "print('num of val_set_commands_filepaths:', len(val_set_commands_filepaths))\n",
    "print('num of test_set_commands_filepaths:', len(test_set_commands_filepaths))\n",
    "\n",
    "print('total of set_commands_filepaths:',total_set_commands_num)\n",
    "print('sample of train_set_commands_filepaths:', train_set_commands_filepaths[0])\n"
   ]
  },
  {
   "cell_type": "markdown",
   "metadata": {},
   "source": [
    "### 2-2-2. get features and label id"
   ]
  },
  {
   "cell_type": "code",
   "execution_count": 22,
   "metadata": {},
   "outputs": [
    {
     "name": "stdout",
     "output_type": "stream",
     "text": [
      "num of train_set_commands_features: 30833\n",
      "num of train_set_commands_label_id: 30833\n",
      "-\n",
      "num of val_set_commands_features: 3851\n",
      "num of val_set_commands_label_id: 3851\n",
      "-\n",
      "num of test_set_commands_features: 3862\n",
      "num of test_set_commands_label_id: 3862\n"
     ]
    }
   ],
   "source": [
    "train_set_commands_features = []\n",
    "val_set_commands_features = []\n",
    "test_set_commands_features = []\n",
    "\n",
    "train_set_commands_label_id = []\n",
    "val_set_commands_label_id = []\n",
    "test_set_commands_label_id = []\n",
    "\n",
    "# get features and label id and append to train_set_commands_features and train_set_commands_label_id\n",
    "for i, item in enumerate(train_set_commands_filepaths):\n",
    "    waveform = get_waveform(item)\n",
    "    features = get_features(waveform)\n",
    "    train_set_commands_features.append(features)\n",
    "\n",
    "    label = get_label(item)\n",
    "    label_id = get_label_id(label,commands)\n",
    "    train_set_commands_label_id.append(label_id)\n",
    "\n",
    "    \n",
    "# get features and label id and append to val_set_commands_features and val_set_commands_label_id\n",
    "for i, item in enumerate(val_set_commands_filepaths):\n",
    "    waveform = get_waveform(item)\n",
    "    features = get_features(waveform)\n",
    "    val_set_commands_features.append(features)\n",
    "\n",
    "    label = get_label(item)\n",
    "    label_id = get_label_id(label,commands)\n",
    "    val_set_commands_label_id.append(label_id)\n",
    "\n",
    "# get features and label id and append to test_set_commands_features and test_set_commands_label_id    \n",
    "for i, item in enumerate(test_set_commands_filepaths):\n",
    "    waveform = get_waveform(item)\n",
    "    features = get_features(waveform)\n",
    "    test_set_commands_features.append(features)\n",
    "\n",
    "    label = get_label(item)\n",
    "    label_id = get_label_id(label,commands)\n",
    "    test_set_commands_label_id.append(label_id)        \n",
    "        \n",
    "\n",
    "print ('num of train_set_commands_features:', len(train_set_commands_features))\n",
    "print ('num of train_set_commands_label_id:', len(train_set_commands_label_id))\n",
    "print('-')\n",
    "print ('num of val_set_commands_features:', len(val_set_commands_features))\n",
    "print ('num of val_set_commands_label_id:', len(val_set_commands_label_id))\n",
    "print('-')\n",
    "print ('num of test_set_commands_features:', len(test_set_commands_features))\n",
    "print ('num of test_set_commands_label_id:', len(test_set_commands_label_id)) \n"
   ]
  },
  {
   "cell_type": "markdown",
   "metadata": {},
   "source": [
    "### 2-2-3. add features and label id to dataset"
   ]
  },
  {
   "cell_type": "code",
   "execution_count": 23,
   "metadata": {},
   "outputs": [
    {
     "name": "stdout",
     "output_type": "stream",
     "text": [
      "num of x_train: 30833\n",
      "num of y_train: 30833\n",
      "-\n",
      "num of x_val: 3851\n",
      "num of y_val: 3851\n",
      "-\n",
      "num of x_test: 3862\n",
      "num of y_test: 3862\n"
     ]
    }
   ],
   "source": [
    "# add features and label id to train list\n",
    "x_train.extend(train_set_commands_features)\n",
    "y_train.extend(train_set_commands_label_id)\n",
    "\n",
    "# add features and label id to val list\n",
    "x_val.extend(val_set_commands_features)\n",
    "y_val.extend(val_set_commands_label_id)\n",
    "\n",
    "# add features and label id to test list\n",
    "x_test.extend(test_set_commands_features)\n",
    "y_test.extend(test_set_commands_label_id)\n",
    "\n",
    "print('num of x_train:',len(y_train))\n",
    "print('num of y_train:',len(y_train))\n",
    "print('-')\n",
    "print('num of x_val:',len(x_val))\n",
    "print('num of y_val:',len(y_val))\n",
    "print('-')\n",
    "print('num of x_test:',len(x_test))\n",
    "print('num of y_test:',len(y_test))"
   ]
  },
  {
   "cell_type": "markdown",
   "metadata": {},
   "source": [
    "## 2-3. Preporcess unknown commands"
   ]
  },
  {
   "cell_type": "markdown",
   "metadata": {},
   "source": [
    "### 2-3-1. get unknown command filepaths"
   ]
  },
  {
   "cell_type": "code",
   "execution_count": 24,
   "metadata": {},
   "outputs": [
    {
     "name": "stdout",
     "output_type": "stream",
     "text": [
      "commands: ['yes' 'no' 'up' 'down' 'left' 'right' 'on' 'off' 'stop' 'go' 'unknown']\n",
      "-\n",
      "unknown_commands_dirslist: ['backward' 'bed' 'bird' 'cat' 'dog' 'eight' 'five' 'follow' 'forward'\n",
      " 'four' 'happy' 'house' 'learn' 'marvin' 'nine' 'one' 'seven' 'sheila'\n",
      " 'six' 'three' 'tree' 'two' 'visual' 'wow' 'zero']\n",
      "-\n",
      "unknown_ratio: 0.2\n",
      "total_set_commands_num: 38546\n",
      "unknown_command_num: 7709\n",
      "each_unknown_command_num: 308\n",
      "-\n",
      "unknown_commands_dir: ./data_speech_commands_v002/backward/*\n",
      "file num : 1664\n",
      "-\n",
      "unknown_commands_dir: ./data_speech_commands_v002/bed/*\n",
      "file num : 2014\n",
      "-\n",
      "unknown_commands_dir: ./data_speech_commands_v002/bird/*\n",
      "file num : 2064\n",
      "-\n",
      "unknown_commands_dir: ./data_speech_commands_v002/cat/*\n",
      "file num : 2031\n",
      "-\n",
      "unknown_commands_dir: ./data_speech_commands_v002/dog/*\n",
      "file num : 2128\n",
      "-\n",
      "unknown_commands_dir: ./data_speech_commands_v002/eight/*\n",
      "file num : 3787\n",
      "-\n",
      "unknown_commands_dir: ./data_speech_commands_v002/five/*\n",
      "file num : 4052\n",
      "-\n",
      "unknown_commands_dir: ./data_speech_commands_v002/follow/*\n",
      "file num : 1579\n",
      "-\n",
      "unknown_commands_dir: ./data_speech_commands_v002/forward/*\n",
      "file num : 1557\n",
      "-\n",
      "unknown_commands_dir: ./data_speech_commands_v002/four/*\n",
      "file num : 3728\n",
      "-\n",
      "unknown_commands_dir: ./data_speech_commands_v002/happy/*\n",
      "file num : 2054\n",
      "-\n",
      "unknown_commands_dir: ./data_speech_commands_v002/house/*\n",
      "file num : 2113\n",
      "-\n",
      "unknown_commands_dir: ./data_speech_commands_v002/learn/*\n",
      "file num : 1575\n",
      "-\n",
      "unknown_commands_dir: ./data_speech_commands_v002/marvin/*\n",
      "file num : 2100\n",
      "-\n",
      "unknown_commands_dir: ./data_speech_commands_v002/nine/*\n",
      "file num : 3934\n",
      "-\n",
      "unknown_commands_dir: ./data_speech_commands_v002/one/*\n",
      "file num : 3890\n",
      "-\n",
      "unknown_commands_dir: ./data_speech_commands_v002/seven/*\n",
      "file num : 3998\n",
      "-\n",
      "unknown_commands_dir: ./data_speech_commands_v002/sheila/*\n",
      "file num : 2022\n",
      "-\n",
      "unknown_commands_dir: ./data_speech_commands_v002/six/*\n",
      "file num : 3860\n",
      "-\n",
      "unknown_commands_dir: ./data_speech_commands_v002/three/*\n",
      "file num : 3727\n",
      "-\n",
      "unknown_commands_dir: ./data_speech_commands_v002/tree/*\n",
      "file num : 1759\n",
      "-\n",
      "unknown_commands_dir: ./data_speech_commands_v002/two/*\n",
      "file num : 3880\n",
      "-\n",
      "unknown_commands_dir: ./data_speech_commands_v002/visual/*\n",
      "file num : 1592\n",
      "-\n",
      "unknown_commands_dir: ./data_speech_commands_v002/wow/*\n",
      "file num : 2123\n",
      "-\n",
      "unknown_commands_dir: ./data_speech_commands_v002/zero/*\n",
      "file num : 4052\n",
      "-\n",
      "num of train_unknown_commands_filepaths: 6150\n",
      "num of val_unknown_commands_filepaths: 750\n",
      "num of test_unknown_commands_filepaths: 800\n"
     ]
    }
   ],
   "source": [
    "train_unknown_commands_filepaths = []\n",
    "val_unknown_commands_filepaths = []\n",
    "test_unknown_commands_filepaths = []\n",
    "\n",
    "# add unknown to commands list\n",
    "if not np.any(commands=='unknown'):\n",
    "    commands = np.append(commands,'unknown')\n",
    "print ('commands:',commands)\n",
    "print('-')\n",
    "\n",
    "# get the unknown commands which are not set commands and add them to the list\n",
    "unknown_commands_dirslist = np.setdiff1d( dataset_commands_dirslist , commands)\n",
    "print ('unknown_commands_dirslist:',unknown_commands_dirslist)\n",
    "print('-')\n",
    "\n",
    "# set the ratio of unknown command filepaths to set command filepaths\n",
    "unknown_ratio = 0.1\n",
    "print('unknown_ratio:',unknown_ratio)\n",
    "print ('total_set_commands_num:', total_set_commands_num)\n",
    "# get the num of unknown command filepaths\n",
    "unknown_command_num = int(total_set_commands_num * unknown_ratio)\n",
    "print ('unknown_command_num:', unknown_command_num)\n",
    "# get the the num of each unknown command filepaths\n",
    "each_unknown_command_num = unknown_command_num//len(unknown_commands_dirslist)\n",
    "print ('each_unknown_command_num:', each_unknown_command_num)\n",
    "print('-')\n",
    "\n",
    "# get the filepaths and split to train, val, test every command\n",
    "for item in unknown_commands_dirslist:\n",
    "    # join the dataset_path and command\n",
    "    unknown_commands_dir = os.path.join(dataset_path, item,'*')\n",
    "    print('unknown_commands_dir:', unknown_commands_dir)\n",
    "    \n",
    "    # list the unknown command filepaths in each dir\n",
    "    fileslist = tf.io.gfile.glob(unknown_commands_dir)\n",
    "    random.shuffle(fileslist)\n",
    "    print('file num :', len(fileslist))\n",
    "    \n",
    "    # split the filslist to train, val, test\n",
    "    train, val, test = get_split_num(0.8, 0.1, 0.1, each_unknown_command_num)\n",
    "    train_unknown_commands_filepaths.extend(fileslist[:val])\n",
    "    val_unknown_commands_filepaths.extend(fileslist[val:test])\n",
    "    test_unknown_commands_filepaths.extend(fileslist[test:each_unknown_command_num])\n",
    "    print('-')\n",
    "    \n",
    "print('num of train_unknown_commands_filepaths:', len(train_unknown_commands_filepaths))\n",
    "print('num of val_unknown_commands_filepaths:', len(val_unknown_commands_filepaths))\n",
    "print('num of test_unknown_commands_filepaths:', len(test_unknown_commands_filepaths))"
   ]
  },
  {
   "cell_type": "markdown",
   "metadata": {},
   "source": [
    "### 2-3-2. get features and label id"
   ]
  },
  {
   "cell_type": "code",
   "execution_count": 25,
   "metadata": {},
   "outputs": [
    {
     "name": "stdout",
     "output_type": "stream",
     "text": [
      "num of train_unknown_commands_features: 6150\n",
      "num of train_unknown_commands_label_id: 6150\n",
      "-\n",
      "num of val_unknown_commands_features: 750\n",
      "num of val_unknown_commands_label_id: 750\n",
      "-\n",
      "num of test_unknown_commands_features: 800\n",
      "num of test_unknown_commands_label_id: 800\n"
     ]
    }
   ],
   "source": [
    "train_unknown_commands_features = []\n",
    "val_unknown_commands_features = []\n",
    "test_unknown_commands_features = []\n",
    "\n",
    "train_unknown_commands_label_id = []\n",
    "val_unknown_commands_label_id = []\n",
    "test_unknown_commands_label_id = []\n",
    "\n",
    "# get the unknown label and label_id\n",
    "label = 'unknown'\n",
    "label_id = get_label_id(label,commands)\n",
    "\n",
    "# get features and label id and append to train_unknown_commands_features and train_unknown_commands_label_id\n",
    "for i, item in enumerate(train_unknown_commands_filepaths):\n",
    "    waveform = get_waveform(item)\n",
    "    features = get_features(waveform)\n",
    "    train_unknown_commands_features.append(features)\n",
    "    train_unknown_commands_label_id.append(label_id)\n",
    "\n",
    "# get features and label id and append to val_unknown_commands_features and val_unknown_commands_label_id\n",
    "for i, item in enumerate(val_unknown_commands_filepaths):\n",
    "    waveform = get_waveform(item)\n",
    "    features = get_features(waveform)\n",
    "    val_unknown_commands_features.append(features)\n",
    "    val_unknown_commands_label_id.append(label_id)\n",
    "\n",
    "# get features and label id and append to test_unknown_commands_features and test_unknown_commands_label_id\n",
    "for i, item in enumerate(test_unknown_commands_filepaths):\n",
    "    waveform = get_waveform(item)\n",
    "    features = get_features(waveform)\n",
    "    test_unknown_commands_features.append(features)\n",
    "    test_unknown_commands_label_id.append(label_id)        \n",
    "        \n",
    "\n",
    "print ('num of train_unknown_commands_features:', len(train_unknown_commands_features))\n",
    "print ('num of train_unknown_commands_label_id:', len(train_unknown_commands_label_id))\n",
    "print('-')\n",
    "print ('num of val_unknown_commands_features:', len(val_unknown_commands_features))\n",
    "print ('num of val_unknown_commands_label_id:', len(val_unknown_commands_label_id))\n",
    "print('-')\n",
    "print ('num of test_unknown_commands_features:', len(test_unknown_commands_features))\n",
    "print ('num of test_unknown_commands_label_id:', len(test_unknown_commands_label_id)) "
   ]
  },
  {
   "cell_type": "markdown",
   "metadata": {},
   "source": [
    "### 2-3-3. add features and label id to dataset"
   ]
  },
  {
   "cell_type": "code",
   "execution_count": 26,
   "metadata": {},
   "outputs": [
    {
     "name": "stdout",
     "output_type": "stream",
     "text": [
      "num of x_train: 36983\n",
      "num of y_train: 36983\n",
      "-\n",
      "num of x_val: 4601\n",
      "num of y_val: 4601\n",
      "-\n",
      "num of x_test: 4662\n",
      "num of y_test: 4662\n"
     ]
    }
   ],
   "source": [
    "# add features and label id to train list\n",
    "x_train.extend(train_unknown_commands_features)\n",
    "y_train.extend(train_unknown_commands_label_id)\n",
    "# add features and label id to val list\n",
    "x_val.extend(val_unknown_commands_features)\n",
    "y_val.extend(val_unknown_commands_label_id)\n",
    "# add features and label id to test list\n",
    "x_test.extend(test_unknown_commands_features)\n",
    "y_test.extend(test_unknown_commands_label_id)\n",
    "\n",
    "print('num of x_train:',len(x_train))\n",
    "print('num of y_train:',len(y_train))\n",
    "print('-')\n",
    "print('num of x_val:',len(x_val))\n",
    "print('num of y_val:',len(y_val))\n",
    "print('-')\n",
    "print('num of x_test:',len(x_test))\n",
    "print('num of y_test:',len(y_test))"
   ]
  },
  {
   "cell_type": "markdown",
   "metadata": {},
   "source": [
    "## 2-4. Preporcess slience command"
   ]
  },
  {
   "cell_type": "markdown",
   "metadata": {},
   "source": [
    "### 2-4-1. get background command filepaths"
   ]
  },
  {
   "cell_type": "code",
   "execution_count": 27,
   "metadata": {},
   "outputs": [
    {
     "name": "stdout",
     "output_type": "stream",
     "text": [
      "commands: ['yes' 'no' 'up' 'down' 'left' 'right' 'on' 'off' 'stop' 'go' 'unknown'\n",
      " 'slience']\n",
      "-\n",
      "slience_commands_dirslist: ['_background_noise_']\n",
      "-\n",
      "total_set_commands_num: 38546\n",
      "slience_ratio: 0.1\n",
      "slience_command_num: 3854\n",
      "-\n",
      "slience_commands_dir: ./data_speech_commands_v002/_background_noise_/*.wav\n",
      "file num : 6\n",
      "each_slience_files: 642\n",
      "-\n",
      "num of train_slience_commands_filepaths: 3078\n",
      "num of val_slience_commands_filepaths: 384\n",
      "num of test_slience_commands_filepaths: 384\n",
      "sample of train_slience_commands_filepaths: ./data_speech_commands_v002/_background_noise_/doing_the_dishes.wav\n"
     ]
    }
   ],
   "source": [
    "train_slience_commands_filepaths = []\n",
    "val_slience_commands_filepaths = []\n",
    "test_slience_commands_filepaths = []\n",
    "\n",
    "# add slience command to commands list\n",
    "if not np.any(commands=='slience'):\n",
    "    commands = np.append(commands,'slience')\n",
    "print ('commands:',commands)\n",
    "print('-')\n",
    "\n",
    "# get background_noise to contruct slience samples\n",
    "slience_commands_dirslist = ['_background_noise_']\n",
    "print ('slience_commands_dirslist:',slience_commands_dirslist)\n",
    "print('-')\n",
    "\n",
    "# set the ratio of slience samples to set command filepaths\n",
    "slience_ratio = 0.1\n",
    "print ('total_set_commands_num:', total_set_commands_num)\n",
    "print('slience_ratio:',slience_ratio)\n",
    "# get the num of slience samples\n",
    "slience_command_num = int(total_set_commands_num * slience_ratio)\n",
    "print ('slience_command_num:', slience_command_num)\n",
    "print('-')\n",
    "\n",
    "# get the background_noise filepaths and append to train, val, test every filepaths\n",
    "for item in slience_commands_dirslist:\n",
    "    # join the dataset_path and background_noise files\n",
    "    slience_commands_dir = os.path.join(dataset_path, item,'*.wav')\n",
    "    print('slience_commands_dir:', slience_commands_dir)\n",
    "    \n",
    "    # get list of background_noise files\n",
    "    fileslist = tf.io.gfile.glob(slience_commands_dir)\n",
    "    print('file num :', len(fileslist))\n",
    "    \n",
    "    # get num of each background_noise files (the num to append for each files)\n",
    "    each_slience_files = slience_command_num//len(fileslist)\n",
    "    print ('each_slience_files:', each_slience_files)\n",
    "  \n",
    "    # get num of tarin , val ,test for each files\n",
    "    train_num = int(each_slience_files*0.8)\n",
    "    val_num = int(each_slience_files*0.1)\n",
    "    test_num = int(each_slience_files*0.1)\n",
    "    print('-')\n",
    "    \n",
    "    # every background_noise file\n",
    "    for itme in fileslist:\n",
    "        # append the filepath to train,val,test list for each files\n",
    "        for i in range(train_num):\n",
    "            train_slience_commands_filepaths.append(itme)\n",
    "        for i in range(val_num):\n",
    "            val_slience_commands_filepaths.append(itme)\n",
    "        for i in range(test_num):\n",
    "            test_slience_commands_filepaths.append(itme)\n",
    "\n",
    "print('num of train_slience_commands_filepaths:', len(train_slience_commands_filepaths))\n",
    "print('num of val_slience_commands_filepaths:', len(val_slience_commands_filepaths))\n",
    "print('num of test_slience_commands_filepaths:', len(test_slience_commands_filepaths))\n",
    "print('sample of train_slience_commands_filepaths:', train_slience_commands_filepaths[0])"
   ]
  },
  {
   "cell_type": "markdown",
   "metadata": {},
   "source": [
    "### 2-4-2. contruct slience features and label id"
   ]
  },
  {
   "cell_type": "code",
   "execution_count": 28,
   "metadata": {},
   "outputs": [],
   "source": [
    "#  ontruct slience features from background_noise\n",
    "def get_random_background_noise_waveform(filepath):\n",
    "    sample_rate = 16000\n",
    "    # get waveform and len from filepath\n",
    "    waveform = get_waveform(tmp_sample)  \n",
    "    waveform_len = waveform.shape[0]\n",
    "    # get start time by random(waveform_len)\n",
    "    split_start_time = random.randrange(0, waveform_len)\n",
    "    # get the 1s background_noise sample to represent slience feature\n",
    "    waveform_split = waveform[split_start_time:split_start_time + sample_rate]\n",
    "    # if the waveform_split not enough, the use the last 1s(16000)\n",
    "    if waveform_split.shape[0] < sample_rate:\n",
    "        waveform_split = waveform[-16000:-1]\n",
    "    return waveform_split"
   ]
  },
  {
   "cell_type": "code",
   "execution_count": 29,
   "metadata": {},
   "outputs": [],
   "source": [
    "# contruct slience features by zero vector\n",
    "def get_zero_waveform():\n",
    "    # get the 1s zero vector sample to represent slience feature\n",
    "    zero_waveform = np.zeros((16000,), dtype=np.float32)\n",
    "    return zero_waveform"
   ]
  },
  {
   "cell_type": "code",
   "execution_count": 30,
   "metadata": {},
   "outputs": [
    {
     "name": "stdout",
     "output_type": "stream",
     "text": [
      "num of train_slience_commands_features: 3079\n",
      "num of train_slience_commands_label_id: 3079\n",
      "-\n",
      "num of val_slience_commands_features: 385\n",
      "num of val_slience_commands_label_id: 385\n",
      "-\n",
      "num of test_slience_commands_features: 385\n",
      "num of test_slience_commands_label_id: 385\n"
     ]
    }
   ],
   "source": [
    "train_slience_commands_features = []\n",
    "val_slience_commands_features = []\n",
    "test_slience_commands_features = []\n",
    "\n",
    "train_slience_commands_label_id = []\n",
    "val_slience_commands_label_id = []\n",
    "test_slience_commands_label_id = []\n",
    "\n",
    "# get the slience label and label_id\n",
    "label = 'slience'\n",
    "label_id = get_label_id(label,commands)\n",
    "\n",
    "# get features and label id by get_random_background_noise_waveform and append them to train list\n",
    "for i, item in enumerate(train_slience_commands_filepaths):\n",
    "    background_noise_waveform = get_random_background_noise_waveform(item)\n",
    "    features = get_features(background_noise_waveform)\n",
    "    train_slience_commands_features.append(features)\n",
    "    train_slience_commands_label_id.append(label_id)\n",
    "# get features and label id by get_zero_waveform and append one sample to train list\n",
    "zero_waveform = get_zero_waveform()\n",
    "features = get_features(zero_waveform)\n",
    "train_slience_commands_features.append(features)\n",
    "train_slience_commands_label_id.append(label_id)\n",
    "\n",
    "# get features and label id by get_random_background_noise_waveform and append them to val list\n",
    "for i, item in enumerate(val_slience_commands_filepaths):\n",
    "    background_noise_waveform = get_random_background_noise_waveform(item)\n",
    "    features = get_features(background_noise_waveform)\n",
    "    val_slience_commands_features.append(features)\n",
    "    val_slience_commands_label_id.append(label_id)    \n",
    "# get features and label id by get_zero_waveform and append one sample to val list\n",
    "zero_waveform = get_zero_waveform()\n",
    "features = get_features(zero_waveform)\n",
    "val_slience_commands_features.append(features)\n",
    "val_slience_commands_label_id.append(label_id)\n",
    "\n",
    "# get features and label id by get_random_background_noise_waveform and append them to test list\n",
    "for i, item in enumerate(test_slience_commands_filepaths):\n",
    "    background_noise_waveform = get_random_background_noise_waveform(item)\n",
    "    features = get_features(background_noise_waveform)\n",
    "    test_slience_commands_features.append(features)\n",
    "    test_slience_commands_label_id.append(label_id)    \n",
    "# get features and label id by get_zero_waveform and append one sample to test list\n",
    "zero_waveform = get_zero_waveform()\n",
    "features = get_features(zero_waveform)\n",
    "test_slience_commands_features.append(features)\n",
    "test_slience_commands_label_id.append(label_id)\n",
    "\n",
    "print ('num of train_slience_commands_features:', len(train_slience_commands_features))\n",
    "print ('num of train_slience_commands_label_id:', len(train_slience_commands_label_id))\n",
    "print('-')\n",
    "print ('num of val_slience_commands_features:', len(val_slience_commands_features))\n",
    "print ('num of val_slience_commands_label_id:', len(val_slience_commands_label_id))\n",
    "print('-')\n",
    "print ('num of test_slience_commands_features:', len(test_slience_commands_features))\n",
    "print ('num of test_slience_commands_label_id:', len(test_slience_commands_label_id)) "
   ]
  },
  {
   "cell_type": "markdown",
   "metadata": {},
   "source": [
    "### 2-4-3. add features and label id to dataset"
   ]
  },
  {
   "cell_type": "code",
   "execution_count": 31,
   "metadata": {},
   "outputs": [
    {
     "name": "stdout",
     "output_type": "stream",
     "text": [
      "num of x_train: 40062\n",
      "num of y_train: 40062\n",
      "-\n",
      "num of x_val: 4986\n",
      "num of y_val: 4986\n",
      "-\n",
      "num of x_test: 5047\n",
      "num of y_test: 5047\n"
     ]
    }
   ],
   "source": [
    "# add features and label id to train list\n",
    "x_train.extend(train_slience_commands_features)\n",
    "y_train.extend(train_slience_commands_label_id)\n",
    "# add features and label id to val list\n",
    "x_val.extend(val_slience_commands_features)\n",
    "y_val.extend(val_slience_commands_label_id)\n",
    "# add features and label id to test list\n",
    "x_test.extend(test_slience_commands_features)\n",
    "y_test.extend(test_slience_commands_label_id)\n",
    "\n",
    "print('num of x_train:',len(x_train))\n",
    "print('num of y_train:',len(y_train))\n",
    "print('-')\n",
    "print('num of x_val:',len(x_val))\n",
    "print('num of y_val:',len(y_val))\n",
    "print('-')\n",
    "print('num of x_test:',len(x_test))\n",
    "print('num of y_test:',len(y_test))"
   ]
  },
  {
   "cell_type": "markdown",
   "metadata": {},
   "source": [
    "## 2-5.  save and load processed dataset"
   ]
  },
  {
   "cell_type": "code",
   "execution_count": 32,
   "metadata": {},
   "outputs": [],
   "source": [
    "feature_sets_file = 'all_targets_mfcc_sets.npz'\n",
    "# Save features and truth vector (y) sets to disk\n",
    "np.savez(feature_sets_file, \n",
    "         x_train=x_train, \n",
    "         y_train=y_train, \n",
    "         x_val=x_val, \n",
    "         y_val=y_val, \n",
    "         x_test=x_test, \n",
    "         y_test=y_test)"
   ]
  },
  {
   "cell_type": "code",
   "execution_count": 33,
   "metadata": {},
   "outputs": [
    {
     "name": "stdout",
     "output_type": "stream",
     "text": [
      "['x_train', 'y_train', 'x_val', 'y_val', 'x_test', 'y_test']\n"
     ]
    }
   ],
   "source": [
    "feature_sets_path = './'\n",
    "feature_sets_filename = 'all_targets_mfcc_sets.npz'\n",
    "# Load feature sets\n",
    "feature_sets = np.load(os.path.join(feature_sets_path, feature_sets_filename))\n",
    "print(feature_sets.files)\n",
    "# Assign feature sets\n",
    "x_train = feature_sets['x_train']\n",
    "y_train = feature_sets['y_train']\n",
    "x_val = feature_sets['x_val']\n",
    "y_val = feature_sets['y_val']\n",
    "x_test = feature_sets['x_test']\n",
    "y_test = feature_sets['y_test']"
   ]
  },
  {
   "cell_type": "markdown",
   "metadata": {},
   "source": [
    "# 3. Train"
   ]
  },
  {
   "cell_type": "markdown",
   "metadata": {},
   "source": [
    "## 3-1. prepare input"
   ]
  },
  {
   "cell_type": "code",
   "execution_count": 34,
   "metadata": {},
   "outputs": [
    {
     "name": "stdout",
     "output_type": "stream",
     "text": [
      "(40062, 64, 101, 1)\n",
      "(40062,)\n",
      "(4986, 64, 101, 1)\n",
      "(4986,)\n",
      "(5047, 64, 101, 1)\n",
      "(5047,)\n"
     ]
    }
   ],
   "source": [
    "# zip and shuffle \n",
    "train_list = list(zip(x_train, y_train))\n",
    "random.shuffle(train_list)\n",
    "x_train, y_train = zip(*train_list)\n",
    "\n",
    "val_list = list(zip(x_val, y_val))\n",
    "random.shuffle(val_list)\n",
    "x_val, y_val = zip(*val_list)\n",
    "\n",
    "test_list = list(zip(x_test, y_test))\n",
    "random.shuffle(test_list)\n",
    "x_test, y_test = zip(*test_list)\n",
    "\n",
    "# trans to np.array to expand dims\n",
    "x_tn = np.array(x_train)\n",
    "y_tn = np.array(y_train)\n",
    "x_v = np.array(x_val)\n",
    "y_v = np.array(y_val)\n",
    "x_ts = np.array(x_test)\n",
    "y_ts = np.array(y_test)\n",
    "\n",
    "# expand dims to satifiy input shape\n",
    "x_tn = np.expand_dims(x_tn, axis=-1)\n",
    "x_v = np.expand_dims(x_v, axis=-1)\n",
    "x_ts = np.expand_dims(x_ts, axis=-1)\n",
    "\n",
    "print (x_tn.shape)\n",
    "print (y_tn.shape)\n",
    "print (x_v.shape)\n",
    "print (y_v.shape)\n",
    "print (x_ts.shape)\n",
    "print (y_ts.shape)\n",
    "\n"
   ]
  },
  {
   "cell_type": "markdown",
   "metadata": {},
   "source": [
    "## 3-2. set parameter"
   ]
  },
  {
   "cell_type": "code",
   "execution_count": 35,
   "metadata": {},
   "outputs": [
    {
     "name": "stdout",
     "output_type": "stream",
     "text": [
      "Input shape: (64, 101, 1)\n",
      "Output shape: 12\n"
     ]
    }
   ],
   "source": [
    "# get and check input shape by sampling \n",
    "tmp = get_features(get_waveform(dataset_commands_filepaths[0]))\n",
    "tmp = np.expand_dims(tmp, axis=-1)\n",
    "input_shape = tmp.shape\n",
    "print('Input shape:', input_shape)\n",
    "# get and check output shape by num of commands\n",
    "num_labels = len(commands)\n",
    "print('Output shape:', num_labels)"
   ]
  },
  {
   "cell_type": "markdown",
   "metadata": {},
   "source": [
    "## 3-3. build model"
   ]
  },
  {
   "cell_type": "code",
   "execution_count": 36,
   "metadata": {},
   "outputs": [],
   "source": [
    "import tensorflow.keras\n",
    "from tensorflow.keras import layers\n",
    "from tensorflow.keras import models\n",
    "\n",
    "# build models\n",
    "cnn_model = models.Sequential([\n",
    "    \n",
    "    layers.Input(shape=input_shape),\n",
    "    layers.Conv2D(32, (3,3)),\n",
    "    layers.Activation('relu'),\n",
    "    layers.Conv2D(32, (3,3)),\n",
    "    layers.Activation('relu'),\n",
    "    layers.Conv2D(64, (3,3)),\n",
    "    layers.Activation('relu'),\n",
    "    layers.MaxPooling2D(),\n",
    "    layers.Dropout(0.1),\n",
    "    \n",
    "    layers.Flatten(),\n",
    "    layers.Dense(128, activation='relu'),\n",
    "    layers.Dropout(0.1),\n",
    "    layers.Dense(num_labels),\n",
    "])\n"
   ]
  },
  {
   "cell_type": "code",
   "execution_count": 37,
   "metadata": {},
   "outputs": [
    {
     "name": "stdout",
     "output_type": "stream",
     "text": [
      "Model: \"sequential\"\n",
      "_________________________________________________________________\n",
      "Layer (type)                 Output Shape              Param #   \n",
      "=================================================================\n",
      "conv2d (Conv2D)              (None, 62, 99, 32)        320       \n",
      "_________________________________________________________________\n",
      "activation (Activation)      (None, 62, 99, 32)        0         \n",
      "_________________________________________________________________\n",
      "conv2d_1 (Conv2D)            (None, 60, 97, 32)        9248      \n",
      "_________________________________________________________________\n",
      "activation_1 (Activation)    (None, 60, 97, 32)        0         \n",
      "_________________________________________________________________\n",
      "conv2d_2 (Conv2D)            (None, 58, 95, 64)        18496     \n",
      "_________________________________________________________________\n",
      "activation_2 (Activation)    (None, 58, 95, 64)        0         \n",
      "_________________________________________________________________\n",
      "max_pooling2d (MaxPooling2D) (None, 29, 47, 64)        0         \n",
      "_________________________________________________________________\n",
      "dropout (Dropout)            (None, 29, 47, 64)        0         \n",
      "_________________________________________________________________\n",
      "flatten (Flatten)            (None, 87232)             0         \n",
      "_________________________________________________________________\n",
      "dense (Dense)                (None, 128)               11165824  \n",
      "_________________________________________________________________\n",
      "dropout_1 (Dropout)          (None, 128)               0         \n",
      "_________________________________________________________________\n",
      "dense_1 (Dense)              (None, 12)                1548      \n",
      "=================================================================\n",
      "Total params: 11,195,436\n",
      "Trainable params: 11,195,436\n",
      "Non-trainable params: 0\n",
      "_________________________________________________________________\n"
     ]
    }
   ],
   "source": [
    "model = cnn_model\n",
    "model.summary()"
   ]
  },
  {
   "cell_type": "code",
   "execution_count": 38,
   "metadata": {},
   "outputs": [],
   "source": [
    "# compile the model\n",
    "model.compile(\n",
    "    optimizer=tf.keras.optimizers.Adam(),\n",
    "    loss=tf.keras.losses.SparseCategoricalCrossentropy(from_logits=True),\n",
    "    metrics=['accuracy'],\n",
    ")"
   ]
  },
  {
   "cell_type": "markdown",
   "metadata": {},
   "source": [
    "## 3-4. train"
   ]
  },
  {
   "cell_type": "code",
   "execution_count": 39,
   "metadata": {},
   "outputs": [
    {
     "name": "stdout",
     "output_type": "stream",
     "text": [
      "Epoch 1/20\n",
      "626/626 [==============================] - 31s 44ms/step - loss: 1.9767 - accuracy: 0.4206 - val_loss: 1.0791 - val_accuracy: 0.6390\n",
      "Epoch 2/20\n",
      "626/626 [==============================] - 26s 42ms/step - loss: 0.9952 - accuracy: 0.6602 - val_loss: 0.9091 - val_accuracy: 0.6937\n",
      "Epoch 3/20\n",
      "626/626 [==============================] - 26s 42ms/step - loss: 0.7512 - accuracy: 0.7390 - val_loss: 0.8111 - val_accuracy: 0.7300\n",
      "Epoch 4/20\n",
      "626/626 [==============================] - 26s 42ms/step - loss: 0.5520 - accuracy: 0.8074 - val_loss: 0.7835 - val_accuracy: 0.7461\n",
      "Epoch 5/20\n",
      "626/626 [==============================] - 26s 42ms/step - loss: 0.3707 - accuracy: 0.8703 - val_loss: 0.8624 - val_accuracy: 0.7503\n",
      "Epoch 6/20\n",
      "626/626 [==============================] - 26s 42ms/step - loss: 0.2603 - accuracy: 0.9089 - val_loss: 0.9542 - val_accuracy: 0.7449\n",
      "Epoch 7/20\n",
      "626/626 [==============================] - 26s 42ms/step - loss: 0.1924 - accuracy: 0.9340 - val_loss: 1.0508 - val_accuracy: 0.7415\n",
      "Epoch 00007: early stopping\n"
     ]
    }
   ],
   "source": [
    "# train the models\n",
    "EPOCHS = 20\n",
    "history = model.fit(\n",
    "    x_tn,y_tn,\n",
    "    validation_data=(x_v,y_v),\n",
    "    epochs=EPOCHS,\n",
    "    batch_size=64,\n",
    "    callbacks=tf.keras.callbacks.EarlyStopping(verbose=1, patience=3),\n",
    ")"
   ]
  },
  {
   "cell_type": "markdown",
   "metadata": {},
   "source": [
    "## 3-5. result"
   ]
  },
  {
   "cell_type": "code",
   "execution_count": 40,
   "metadata": {},
   "outputs": [
    {
     "data": {
      "image/png": "[encoded data removed]",
      "text/plain": [
       "<Figure size 640x480 with 1 Axes>"
      ]
     },
     "metadata": {},
     "output_type": "display_data"
    }
   ],
   "source": [
    "import matplotlib.pyplot as plt\n",
    "# determine overfitting by checking the metrics\n",
    "metrics = history.history\n",
    "plt.plot(history.epoch, metrics['loss'], metrics['val_loss'])\n",
    "plt.legend(['loss', 'val_loss'])\n",
    "plt.show()"
   ]
  },
  {
   "cell_type": "markdown",
   "metadata": {},
   "source": [
    "## 3-6. save trained model"
   ]
  },
  {
   "cell_type": "code",
   "execution_count": 41,
   "metadata": {},
   "outputs": [],
   "source": [
    "# set model file name\n",
    "model_filename = 'SpeechCommandRecognition_model.h5'\n",
    "# Save the model as a file\n",
    "models.save_model(model, model_filename)"
   ]
  },
  {
   "cell_type": "markdown",
   "metadata": {},
   "source": [
    "## 3-7. evaluate"
   ]
  },
  {
   "cell_type": "code",
   "execution_count": 42,
   "metadata": {},
   "outputs": [
    {
     "name": "stdout",
     "output_type": "stream",
     "text": [
      "Test set accuracy: 73%\n"
     ]
    }
   ],
   "source": [
    "# inference on test set\n",
    "y_pred = np.argmax(model.predict(x_ts), axis=1)\n",
    "#print(y_pred)\n",
    "y_true = y_ts\n",
    "#print (y_true)\n",
    "test_acc = sum(y_pred == y_true) / len(y_true)\n",
    "print(f'Test set accuracy: {test_acc:.0%}')"
   ]
  },
  {
   "cell_type": "markdown",
   "metadata": {},
   "source": [
    "## 3-8. display a confusion matrix"
   ]
  },
  {
   "cell_type": "code",
   "execution_count": 43,
   "metadata": {},
   "outputs": [
    {
     "data": {
      "image/png": "[encoded data removed]",
      "text/plain": [
       "<Figure size 1000x800 with 2 Axes>"
      ]
     },
     "metadata": {},
     "output_type": "display_data"
    }
   ],
   "source": [
    "import seaborn as sns\n",
    "# check the result the confusion_matrix \n",
    "confusion_mtx = tf.math.confusion_matrix(y_true, y_pred)\n",
    "plt.figure(figsize=(10, 8))\n",
    "sns.heatmap(confusion_mtx,\n",
    "            xticklabels=commands,\n",
    "            yticklabels=commands,\n",
    "            annot=True, fmt='g')\n",
    "plt.xlabel('Prediction')\n",
    "plt.ylabel('Label')\n",
    "plt.show()"
   ]
  },
  {
   "cell_type": "markdown",
   "metadata": {},
   "source": [
    "## 3-9. run inference on an audio file"
   ]
  },
  {
   "cell_type": "code",
   "execution_count": 44,
   "metadata": {},
   "outputs": [
    {
     "data": {
      "image/png": "[encoded data removed]",
      "text/plain": [
       "<Figure size 640x480 with 1 Axes>"
      ]
     },
     "metadata": {},
     "output_type": "display_data"
    }
   ],
   "source": [
    "# run inference on an audio file\n",
    "audio_file = os.path.join(dataset_path, 'on','0ba018fc_nohash_1.wav')\n",
    "sample_feature = get_features(get_waveform(audio_file))\n",
    "sample_feature = np.expand_dims(sample_feature, axis=-1)\n",
    "sample_feature = np.expand_dims(sample_feature, axis=0)\n",
    "\n",
    "sample_label = get_label(audio_file)\n",
    "sample_label_id = get_label_id(sample_label, commands)\n",
    "\n",
    "prediction = model(sample_feature)\n",
    "plt.bar(commands, tf.nn.softmax(prediction[0]))\n",
    "plt.title(f'Predictions for \"{commands[sample_label_id]}\"')\n",
    "plt.show()"
   ]
  },
  {
   "cell_type": "code",
   "execution_count": 45,
   "metadata": {},
   "outputs": [
    {
     "name": "stdout",
     "output_type": "stream",
     "text": [
      "tf.Tensor(\n",
      "[[  3.0348253  -8.101813   -3.9109216   5.100772    1.8435833  -1.8918163\n",
      "   21.867437    5.6194305  -6.6005383  -0.6599144  15.4384    -29.154823 ]], shape=(1, 12), dtype=float32)\n",
      "tf.Tensor(\n",
      "[6.6130301e-09 9.6342917e-14 6.3665006e-12 5.2194999e-08 2.0093269e-09\n",
      " 4.7949762e-11 9.9838853e-01 8.7675822e-08 4.3232947e-13 1.6435964e-10\n",
      " 1.6114033e-03 6.9280737e-23], shape=(12,), dtype=float32)\n"
     ]
    }
   ],
   "source": [
    "print(prediction)\n",
    "print(tf.nn.softmax(prediction[0]))"
   ]
  },
  {
   "cell_type": "markdown",
   "metadata": {},
   "source": [
    "# 4. Convert"
   ]
  },
  {
   "cell_type": "markdown",
   "metadata": {},
   "source": [
    "## 4-1. set parameter"
   ]
  },
  {
   "cell_type": "code",
   "execution_count": 46,
   "metadata": {},
   "outputs": [],
   "source": [
    "from tensorflow import lite\n",
    "from tensorflow.keras import models\n",
    "# set the file name\n",
    "keras_model_filename = 'SpeechCommandRecognition_model.h5'\n",
    "tflite_filename = 'SpeechCommandRecognition_model.tflite'\n",
    "tflite_quantization_filename = 'SpeechCommandRecognition_quantization_model.tflite'"
   ]
  },
  {
   "cell_type": "markdown",
   "metadata": {},
   "source": [
    "## 4-2. convert (float)"
   ]
  },
  {
   "cell_type": "code",
   "execution_count": 47,
   "metadata": {},
   "outputs": [
    {
     "name": "stdout",
     "output_type": "stream",
     "text": [
      "INFO:tensorflow:Assets written to: /tmp/tmpwhtn9i5o/assets\n"
     ]
    },
    {
     "data": {
      "text/plain": [
       "44784952"
      ]
     },
     "execution_count": 47,
     "metadata": {},
     "output_type": "execute_result"
    }
   ],
   "source": [
    "# Convert the model to the TensorFlow Lite format without quantization\n",
    "model = models.load_model(keras_model_filename)\n",
    "converter = lite.TFLiteConverter.from_keras_model(model)\n",
    "tflite_model = converter.convert()\n",
    "open(tflite_filename, 'wb').write(tflite_model)"
   ]
  },
  {
   "cell_type": "code",
   "execution_count": 48,
   "metadata": {},
   "outputs": [],
   "source": [
    "! cp SpeechCommandRecognition_model.tflite ../Inference/SpeechCommandRecognition_model.tflite"
   ]
  },
  {
   "cell_type": "markdown",
   "metadata": {},
   "source": [
    "# 5. Inference (tflite)"
   ]
  },
  {
   "cell_type": "code",
   "execution_count": 49,
   "metadata": {},
   "outputs": [
    {
     "data": {
      "text/plain": [
       "'\\n! python3 -m pip install tflite-runtime==2.7.0\\nfrom tflite_runtime.interpreter import Interpreter\\n'"
      ]
     },
     "execution_count": 49,
     "metadata": {},
     "output_type": "execute_result"
    }
   ],
   "source": [
    "'''\n",
    "! python3 -m pip install tflite-runtime==2.7.0\n",
    "from tflite_runtime.interpreter import Interpreter\n",
    "'''"
   ]
  },
  {
   "cell_type": "code",
   "execution_count": 50,
   "metadata": {},
   "outputs": [
    {
     "data": {
      "text/plain": [
       "\"\\n# Inference Parameters\\ndebug_time = 1\\ndebug_acc = 1\\nled_pin = 8\\nword_threshold = 0.5\\nrec_duration = 0.5\\nwindow_stride = 0.1\\nsample_rate = 48000\\nresample_rate = 16000\\nnum_channels = 1\\nnum_mfcc = 16\\nmodel_path = '../Inference/SpeechCommandRecognition_model.tflite'\\n\""
      ]
     },
     "execution_count": 50,
     "metadata": {},
     "output_type": "execute_result"
    }
   ],
   "source": [
    "'''\n",
    "# Inference Parameters\n",
    "debug_time = 1\n",
    "debug_acc = 1\n",
    "led_pin = 8\n",
    "word_threshold = 0.5\n",
    "rec_duration = 0.5\n",
    "window_stride = 0.1\n",
    "sample_rate = 48000\n",
    "resample_rate = 16000\n",
    "num_channels = 1\n",
    "num_mfcc = 16\n",
    "model_path = '../Inference/SpeechCommandRecognition_model.tflite'\n",
    "'''"
   ]
  },
  {
   "cell_type": "code",
   "execution_count": null,
   "metadata": {},
   "outputs": [],
   "source": []
  }
 ],
 "metadata": {
  "kernelspec": {
   "display_name": "Python 3",
   "language": "python",
   "name": "python3"
  },
  "language_info": {
   "codemirror_mode": {
    "name": "ipython",
    "version": 3
   },
   "file_extension": ".py",
   "mimetype": "text/x-python",
   "name": "python",
   "nbconvert_exporter": "python",
   "pygments_lexer": "ipython3",
   "version": "3.8.10"
  }
 },
 "nbformat": 4,
 "nbformat_minor": 2
}
